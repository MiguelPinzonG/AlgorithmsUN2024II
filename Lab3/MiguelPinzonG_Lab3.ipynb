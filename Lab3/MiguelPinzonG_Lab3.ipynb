{
  "cells": [
    {
      "cell_type": "markdown",
      "metadata": {
        "id": "view-in-github",
        "colab_type": "text"
      },
      "source": [
        "<a href=\"https://colab.research.google.com/github/MiguelPinzonG/AlgorithmsUN2024II/blob/main/MiguelPinzonG_Lab3.ipynb\" target=\"_parent\"><img src=\"https://colab.research.google.com/assets/colab-badge.svg\" alt=\"Open In Colab\"/></a>"
      ]
    },
    {
      "cell_type": "code",
      "execution_count": 1,
      "metadata": {
        "colab": {
          "base_uri": "https://localhost:8080/"
        },
        "id": "im-VVd1__7VU",
        "outputId": "4a63f279-92a8-42bf-b6b8-f153ee43eab6"
      },
      "outputs": [
        {
          "output_type": "stream",
          "name": "stdout",
          "text": [
            "processor\t: 0\n",
            "vendor_id\t: GenuineIntel\n",
            "cpu family\t: 6\n",
            "model\t\t: 79\n",
            "model name\t: Intel(R) Xeon(R) CPU @ 2.20GHz\n",
            "stepping\t: 0\n",
            "microcode\t: 0xffffffff\n",
            "cpu MHz\t\t: 2200.124\n",
            "cache size\t: 56320 KB\n",
            "physical id\t: 0\n",
            "siblings\t: 2\n",
            "core id\t\t: 0\n",
            "cpu cores\t: 1\n",
            "apicid\t\t: 0\n",
            "initial apicid\t: 0\n",
            "fpu\t\t: yes\n",
            "fpu_exception\t: yes\n",
            "cpuid level\t: 13\n",
            "wp\t\t: yes\n",
            "flags\t\t: fpu vme de pse tsc msr pae mce cx8 apic sep mtrr pge mca cmov pat pse36 clflush mmx fxsr sse sse2 ss ht syscall nx pdpe1gb rdtscp lm constant_tsc rep_good nopl xtopology nonstop_tsc cpuid tsc_known_freq pni pclmulqdq ssse3 fma cx16 pcid sse4_1 sse4_2 x2apic movbe popcnt aes xsave avx f16c rdrand hypervisor lahf_lm abm 3dnowprefetch invpcid_single ssbd ibrs ibpb stibp fsgsbase tsc_adjust bmi1 hle avx2 smep bmi2 erms invpcid rtm rdseed adx smap xsaveopt arat md_clear arch_capabilities\n",
            "bugs\t\t: cpu_meltdown spectre_v1 spectre_v2 spec_store_bypass l1tf mds swapgs taa mmio_stale_data retbleed bhi\n",
            "bogomips\t: 4400.24\n",
            "clflush size\t: 64\n",
            "cache_alignment\t: 64\n",
            "address sizes\t: 46 bits physical, 48 bits virtual\n",
            "power management:\n",
            "\n",
            "processor\t: 1\n",
            "vendor_id\t: GenuineIntel\n",
            "cpu family\t: 6\n",
            "model\t\t: 79\n",
            "model name\t: Intel(R) Xeon(R) CPU @ 2.20GHz\n",
            "stepping\t: 0\n",
            "microcode\t: 0xffffffff\n",
            "cpu MHz\t\t: 2200.124\n",
            "cache size\t: 56320 KB\n",
            "physical id\t: 0\n",
            "siblings\t: 2\n",
            "core id\t\t: 0\n",
            "cpu cores\t: 1\n",
            "apicid\t\t: 1\n",
            "initial apicid\t: 1\n",
            "fpu\t\t: yes\n",
            "fpu_exception\t: yes\n",
            "cpuid level\t: 13\n",
            "wp\t\t: yes\n",
            "flags\t\t: fpu vme de pse tsc msr pae mce cx8 apic sep mtrr pge mca cmov pat pse36 clflush mmx fxsr sse sse2 ss ht syscall nx pdpe1gb rdtscp lm constant_tsc rep_good nopl xtopology nonstop_tsc cpuid tsc_known_freq pni pclmulqdq ssse3 fma cx16 pcid sse4_1 sse4_2 x2apic movbe popcnt aes xsave avx f16c rdrand hypervisor lahf_lm abm 3dnowprefetch invpcid_single ssbd ibrs ibpb stibp fsgsbase tsc_adjust bmi1 hle avx2 smep bmi2 erms invpcid rtm rdseed adx smap xsaveopt arat md_clear arch_capabilities\n",
            "bugs\t\t: cpu_meltdown spectre_v1 spectre_v2 spec_store_bypass l1tf mds swapgs taa mmio_stale_data retbleed bhi\n",
            "bogomips\t: 4400.24\n",
            "clflush size\t: 64\n",
            "cache_alignment\t: 64\n",
            "address sizes\t: 46 bits physical, 48 bits virtual\n",
            "power management:\n",
            "\n"
          ]
        }
      ],
      "source": [
        "!cat /proc/cpuinfo"
      ]
    },
    {
      "cell_type": "markdown",
      "metadata": {
        "id": "N1ok_-56OjB1"
      },
      "source": [
        "# I Solving the Sum of Two Digits Programming Challenge"
      ]
    },
    {
      "cell_type": "markdown",
      "metadata": {
        "id": "MMY7kmDSO0KM"
      },
      "source": [
        "## C++"
      ]
    },
    {
      "cell_type": "code",
      "execution_count": 10,
      "metadata": {
        "colab": {
          "base_uri": "https://localhost:8080/"
        },
        "id": "2pGGf9BkPNIk",
        "outputId": "ba7857d6-3acf-4906-96b3-788d414dd566"
      },
      "outputs": [
        {
          "output_type": "stream",
          "name": "stdout",
          "text": [
            "Writing APlusB.cpp\n"
          ]
        }
      ],
      "source": [
        "%%writefile APlusB.cpp\n",
        "#include <iostream>\n",
        "\n",
        "int sum_of_two_digits(int first_digit, int second_digit) {\n",
        "    return first_digit + second_digit;\n",
        "}\n",
        "\n",
        "int main() {\n",
        "    int a = 0;\n",
        "    int b = 0;\n",
        "    std::cin >> a;\n",
        "    std::cin >> b;\n",
        "    std::cout << sum_of_two_digits(a, b);\n",
        "    return 0;\n",
        "}"
      ]
    },
    {
      "cell_type": "code",
      "execution_count": 11,
      "metadata": {
        "id": "0G3ZKOYAPXSU",
        "colab": {
          "base_uri": "https://localhost:8080/"
        },
        "outputId": "2e9553bb-38db-4223-9ded-1e081e0ed854"
      },
      "outputs": [
        {
          "output_type": "stream",
          "name": "stdout",
          "text": [
            "4 6\n",
            "10"
          ]
        }
      ],
      "source": [
        "!g++ APlusB.cpp -o APlusB -std=c++11\n",
        "!./APlusB"
      ]
    },
    {
      "cell_type": "markdown",
      "metadata": {
        "id": "iNkG2HqfTl9c"
      },
      "source": [
        "### Test input output files"
      ]
    },
    {
      "cell_type": "code",
      "execution_count": 12,
      "metadata": {
        "colab": {
          "base_uri": "https://localhost:8080/"
        },
        "id": "aTzU2efzMxly",
        "outputId": "df77e08b-0342-4fa4-8820-273058863712"
      },
      "outputs": [
        {
          "output_type": "stream",
          "name": "stdout",
          "text": [
            "Writing input1.txt\n"
          ]
        }
      ],
      "source": [
        "%%writefile input1.txt\n",
        "4 8"
      ]
    },
    {
      "cell_type": "code",
      "execution_count": 13,
      "metadata": {
        "colab": {
          "base_uri": "https://localhost:8080/"
        },
        "id": "zBJ0Gc0NQRet",
        "outputId": "08fe0ead-29a7-4976-e6fd-8477401a1622"
      },
      "outputs": [
        {
          "output_type": "stream",
          "name": "stdout",
          "text": [
            "Writing output1.txt\n"
          ]
        }
      ],
      "source": [
        "%%writefile output1.txt\n",
        "12"
      ]
    },
    {
      "cell_type": "code",
      "execution_count": 14,
      "metadata": {
        "colab": {
          "base_uri": "https://localhost:8080/"
        },
        "id": "IjEcIx63PJAN",
        "outputId": "b6c9e805-dc9c-4ea2-b7b4-f4713327bd51"
      },
      "outputs": [
        {
          "output_type": "stream",
          "name": "stdout",
          "text": [
            "Writing input2.txt\n"
          ]
        }
      ],
      "source": [
        "%%writefile input2.txt\n",
        "0 9"
      ]
    },
    {
      "cell_type": "code",
      "execution_count": 15,
      "metadata": {
        "colab": {
          "base_uri": "https://localhost:8080/"
        },
        "id": "Up9gOrxURTmd",
        "outputId": "2d39733f-7f6c-4544-ea2b-28415b4c3095"
      },
      "outputs": [
        {
          "output_type": "stream",
          "name": "stdout",
          "text": [
            "Writing output2.txt\n"
          ]
        }
      ],
      "source": [
        "%%writefile output2.txt\n",
        "9"
      ]
    },
    {
      "cell_type": "code",
      "execution_count": 16,
      "metadata": {
        "colab": {
          "base_uri": "https://localhost:8080/"
        },
        "id": "PST6G-s-Pwgc",
        "outputId": "03d419b3-6cb8-40d6-afec-4d148c5a1588"
      },
      "outputs": [
        {
          "output_type": "stream",
          "name": "stdout",
          "text": [
            "12"
          ]
        }
      ],
      "source": [
        "!./APlusB < input1.txt"
      ]
    },
    {
      "cell_type": "code",
      "execution_count": 17,
      "metadata": {
        "colab": {
          "base_uri": "https://localhost:8080/"
        },
        "id": "cKxZOjSlRfIN",
        "outputId": "6084a5e3-6f73-4943-9c89-9bbbca15661d"
      },
      "outputs": [
        {
          "output_type": "stream",
          "name": "stdout",
          "text": [
            "9"
          ]
        }
      ],
      "source": [
        "!./APlusB < input2.txt"
      ]
    },
    {
      "cell_type": "markdown",
      "metadata": {
        "id": "Qw2TQWCCUwqk"
      },
      "source": [
        "### Comparing files with grep\n",
        "\n",
        "https://askubuntu.com/questions/546796/comparing-two-text-files"
      ]
    },
    {
      "cell_type": "code",
      "execution_count": 18,
      "metadata": {
        "collapsed": true,
        "id": "40gbnz8Baum_"
      },
      "outputs": [],
      "source": [
        "!grep -xvFf output1.txt output1.txt"
      ]
    },
    {
      "cell_type": "code",
      "execution_count": 19,
      "metadata": {
        "colab": {
          "base_uri": "https://localhost:8080/"
        },
        "id": "M4wUMDD4azKj",
        "outputId": "de8c89bb-e579-4092-c811-f0c2904f4259"
      },
      "outputs": [
        {
          "output_type": "stream",
          "name": "stdout",
          "text": [
            "9\n"
          ]
        }
      ],
      "source": [
        "!grep -xvFf output1.txt output2.txt"
      ]
    },
    {
      "cell_type": "code",
      "execution_count": 20,
      "metadata": {
        "colab": {
          "base_uri": "https://localhost:8080/"
        },
        "id": "Nfo35tfJa2Qf",
        "outputId": "815685e9-ef0e-41a3-df87-9d82b5e7f4db"
      },
      "outputs": [
        {
          "output_type": "stream",
          "name": "stdout",
          "text": [
            "12\n"
          ]
        }
      ],
      "source": [
        "!grep -xvFf output2.txt output1.txt"
      ]
    },
    {
      "cell_type": "code",
      "execution_count": 21,
      "metadata": {
        "id": "Jlja0Xm4TX9M"
      },
      "outputs": [],
      "source": [
        "!./APlusB < input1.txt> ctest1.txt\n",
        "!grep -xvFf output1.txt ctest1.txt"
      ]
    },
    {
      "cell_type": "code",
      "execution_count": 22,
      "metadata": {
        "id": "g9OIUZA_QLCQ"
      },
      "outputs": [],
      "source": [
        "!./APlusB < input2.txt > ctest2.txt\n",
        "!grep -xvFf output2.txt ctest2.txt"
      ]
    },
    {
      "cell_type": "markdown",
      "metadata": {
        "id": "3BgOaDjUVJk6"
      },
      "source": [
        "## Python"
      ]
    },
    {
      "cell_type": "code",
      "execution_count": 23,
      "metadata": {
        "colab": {
          "base_uri": "https://localhost:8080/"
        },
        "id": "DBvl-T0CTN_8",
        "outputId": "ba1c0933-d92b-44ef-c51b-a69751b15e04"
      },
      "outputs": [
        {
          "output_type": "stream",
          "name": "stdout",
          "text": [
            "Writing sum.py\n"
          ]
        }
      ],
      "source": [
        "%%writefile sum.py\n",
        "# python3\n",
        "\n",
        "def sum_of_two_digits(first_digit, second_digit):\n",
        "    return first_digit + second_digit\n",
        "\n",
        "if __name__ == '__main__':\n",
        "    a, b = map(int, input().split())\n",
        "    print(sum_of_two_digits(a, b))"
      ]
    },
    {
      "cell_type": "code",
      "execution_count": 24,
      "metadata": {
        "colab": {
          "base_uri": "https://localhost:8080/"
        },
        "id": "QKoKM11_WGyF",
        "outputId": "82dd9a56-9e5e-406c-a016-204d6d5b05c4"
      },
      "outputs": [
        {
          "output_type": "stream",
          "name": "stdout",
          "text": [
            "3 5\n",
            "8\n"
          ]
        }
      ],
      "source": [
        "!python sum.py"
      ]
    },
    {
      "cell_type": "code",
      "execution_count": 25,
      "metadata": {
        "id": "cocFbPRTWrqt"
      },
      "outputs": [],
      "source": [
        "!python sum.py  < input1.txt> ptest1.txt\n",
        "!grep -xvFf output1.txt ptest1.txt"
      ]
    },
    {
      "cell_type": "code",
      "execution_count": 26,
      "metadata": {
        "id": "MorKTa-XXASN"
      },
      "outputs": [],
      "source": [
        "!python sum.py  < input2.txt> ptest2.txt\n",
        "!grep -xvFf output2.txt ptest2.txt"
      ]
    },
    {
      "cell_type": "markdown",
      "metadata": {
        "id": "uvP-mOubW_5F"
      },
      "source": [
        "# II Solving The Maximum Pairwise Product Programming Challenge in C++"
      ]
    },
    {
      "cell_type": "markdown",
      "metadata": {
        "id": "C12yoFR6Xonl"
      },
      "source": [
        "## C++\n",
        "\n",
        "$$ T(n) < 6 n^2 = O(n^2)$$"
      ]
    },
    {
      "cell_type": "code",
      "execution_count": 27,
      "metadata": {
        "colab": {
          "base_uri": "https://localhost:8080/"
        },
        "id": "3LpfoGv2Ae81",
        "outputId": "27433c72-675b-4b37-e9cc-f3b308fb22a6"
      },
      "outputs": [
        {
          "output_type": "stream",
          "name": "stdout",
          "text": [
            "Writing max_pairwise_product_full.cpp\n"
          ]
        }
      ],
      "source": [
        "%%writefile max_pairwise_product_full.cpp\n",
        "#include <iostream>\n",
        "#include <vector>\n",
        "#include <algorithm>\n",
        "\n",
        "int MaxPairwiseProduct(const std::vector<int>& numbers) {\n",
        "    int max_product = 0;\n",
        "    int aux_product = 0;\n",
        "    int n = numbers.size();\n",
        "\n",
        "    for (int first = 0; first < n; ++first) {\n",
        "        for (int second = 0; second < n; ++second) {\n",
        "          if ( first != second ){\n",
        "                aux_product = numbers[first] * numbers[second];\n",
        "                if (aux_product > max_product)  max_product = aux_product;\n",
        "          }\n",
        "        }\n",
        "    }\n",
        "\n",
        "    return max_product;\n",
        "}\n",
        "\n",
        "int main() {\n",
        "    int n;\n",
        "    std::cin >> n;\n",
        "    std::vector<int> numbers(n);\n",
        "    for (int i = 0; i < n; ++i) {\n",
        "        std::cin >> numbers[i];\n",
        "    }\n",
        "\n",
        "    std::cout << MaxPairwiseProduct(numbers) << \"\\n\";\n",
        "    return 0;\n",
        "}"
      ]
    },
    {
      "cell_type": "markdown",
      "metadata": {
        "id": "m75IQQPbEHBS"
      },
      "source": [
        "#### Time Complexity\n",
        "$$\\left. \\begin{array}{llc}\n",
        " \\text{INSTRUCTION} & \\text{TYPE}& \\text{# EXECUTIONS}\\\\\n",
        "\\text{first != second} &  \\text{comparisons} &n^2 \\\\\n",
        "\\text{numbers[first] * numbers[second]}& \\ \\text{ products}  &n^2 - n \\\\\n",
        "\\text{max_product = aux_product} &  \\text{assigments} & [1, \\frac{n^2 - n}{2})  \n",
        "\\end{array}\\right\\}  =  O(n^2)$$"
      ]
    },
    {
      "cell_type": "code",
      "execution_count": 28,
      "metadata": {
        "colab": {
          "base_uri": "https://localhost:8080/"
        },
        "id": "PCVo1h6nCF9k",
        "outputId": "42f54d5c-06d8-4607-b734-88c2b53f4623"
      },
      "outputs": [
        {
          "output_type": "stream",
          "name": "stdout",
          "text": [
            "2 6\n",
            "4\n",
            "24\n"
          ]
        }
      ],
      "source": [
        "!g++ max_pairwise_product_full.cpp -o max_pairwise_product_full\n",
        "!./max_pairwise_product_full"
      ]
    },
    {
      "cell_type": "markdown",
      "metadata": {
        "id": "e7KhxHGNS3i0"
      },
      "source": [
        "### Test 1: Small numbers"
      ]
    },
    {
      "cell_type": "code",
      "execution_count": 29,
      "metadata": {
        "colab": {
          "base_uri": "https://localhost:8080/"
        },
        "id": "17npyXt7lYzA",
        "outputId": "96607854-93e6-40a7-97a7-56c44327ad6d"
      },
      "outputs": [
        {
          "output_type": "stream",
          "name": "stdout",
          "text": [
            "Writing input0.txt\n"
          ]
        }
      ],
      "source": [
        "%%writefile input0.txt\n",
        "10\n",
        "0 0 0 0 0 0 0 0 0 0"
      ]
    },
    {
      "cell_type": "code",
      "execution_count": 30,
      "metadata": {
        "colab": {
          "base_uri": "https://localhost:8080/"
        },
        "id": "NooGEkJylezm",
        "outputId": "3ed202fa-d419-4152-e7bd-bfa257d1f66c"
      },
      "outputs": [
        {
          "output_type": "stream",
          "name": "stdout",
          "text": [
            "Writing output0.txt\n"
          ]
        }
      ],
      "source": [
        "%%writefile output0.txt\n",
        "0"
      ]
    },
    {
      "cell_type": "code",
      "execution_count": 31,
      "metadata": {
        "id": "R0yFaAOrlqrE"
      },
      "outputs": [],
      "source": [
        "!./max_pairwise_product_full< input0.txt > ctest0.txt\n",
        "!grep -xvFf output0.txt ctest0.txt"
      ]
    },
    {
      "cell_type": "code",
      "execution_count": 32,
      "metadata": {
        "colab": {
          "base_uri": "https://localhost:8080/"
        },
        "id": "e1mmTzBgShT-",
        "outputId": "61ae9a46-8c98-4082-8615-12fc660a39cf"
      },
      "outputs": [
        {
          "output_type": "stream",
          "name": "stdout",
          "text": [
            "Overwriting input1.txt\n"
          ]
        }
      ],
      "source": [
        "%%writefile input1.txt\n",
        "10\n",
        "1 2 3 4 5 6 7 8 9 10"
      ]
    },
    {
      "cell_type": "code",
      "execution_count": 33,
      "metadata": {
        "id": "vy_uI0x7TCId",
        "colab": {
          "base_uri": "https://localhost:8080/"
        },
        "outputId": "56a603e5-87ef-47e4-90f1-0b4a062d6f95"
      },
      "outputs": [
        {
          "output_type": "stream",
          "name": "stdout",
          "text": [
            "/bin/bash: line 1: ./max_pairwise_product: No such file or directory\n"
          ]
        }
      ],
      "source": [
        "!./max_pairwise_product < input1.txt"
      ]
    },
    {
      "cell_type": "code",
      "execution_count": 34,
      "metadata": {
        "colab": {
          "base_uri": "https://localhost:8080/"
        },
        "id": "xaj6f9bxC6D6",
        "outputId": "80ed0720-ad8b-40e1-adb8-dfbd6ab32dff"
      },
      "outputs": [
        {
          "output_type": "stream",
          "name": "stdout",
          "text": [
            "Overwriting output1.txt\n"
          ]
        }
      ],
      "source": [
        "%%writefile output1.txt\n",
        "90"
      ]
    },
    {
      "cell_type": "code",
      "execution_count": 35,
      "metadata": {
        "id": "fYCjAdA_C-wy"
      },
      "outputs": [],
      "source": [
        "!./max_pairwise_product_full< input1.txt > ctest1.txt\n",
        "!grep -xvFf output1.txt ctest1.txt"
      ]
    },
    {
      "cell_type": "code",
      "execution_count": 36,
      "metadata": {
        "colab": {
          "base_uri": "https://localhost:8080/"
        },
        "id": "ZPe40LY14_6f",
        "outputId": "3593c7d3-b473-427b-ccc6-86ef83c50341"
      },
      "outputs": [
        {
          "output_type": "stream",
          "name": "stdout",
          "text": [
            "Overwriting input2.txt\n"
          ]
        }
      ],
      "source": [
        "%%writefile input2.txt\n",
        "10\n",
        "10 9 8 7 6 5 4 3 2 1"
      ]
    },
    {
      "cell_type": "code",
      "execution_count": 37,
      "metadata": {
        "colab": {
          "base_uri": "https://localhost:8080/"
        },
        "id": "xiHmF7HA5Faa",
        "outputId": "e2eabc85-47e9-4827-f10d-f415a1877ea1"
      },
      "outputs": [
        {
          "output_type": "stream",
          "name": "stdout",
          "text": [
            "Overwriting output2.txt\n"
          ]
        }
      ],
      "source": [
        "%%writefile output2.txt\n",
        "90"
      ]
    },
    {
      "cell_type": "code",
      "execution_count": 38,
      "metadata": {
        "id": "jjwc9kwb5t_k"
      },
      "outputs": [],
      "source": [
        "!./max_pairwise_product_full< input2.txt > ctest2.txt\n",
        "!grep -xvFf output2.txt ctest2.txt"
      ]
    },
    {
      "cell_type": "markdown",
      "metadata": {
        "id": "IeZ3kTjpYmR9"
      },
      "source": [
        "### Test 2: largest input numbers 200000 200000 to check possible intger overflow"
      ]
    },
    {
      "cell_type": "code",
      "execution_count": 39,
      "metadata": {
        "colab": {
          "base_uri": "https://localhost:8080/"
        },
        "id": "LQNlZqaqYt7U",
        "outputId": "8a911bf6-4f2b-422d-d958-744bbf89779a"
      },
      "outputs": [
        {
          "output_type": "stream",
          "name": "stdout",
          "text": [
            "Writing input3.txt\n"
          ]
        }
      ],
      "source": [
        "%%writefile input3.txt\n",
        "6\n",
        "1 3 200000 9 200000 23"
      ]
    },
    {
      "cell_type": "code",
      "execution_count": 40,
      "metadata": {
        "colab": {
          "base_uri": "https://localhost:8080/"
        },
        "id": "GjQq7QOUCw-9",
        "outputId": "49cdf6cf-caac-4f7e-b0ec-b7b93e76b259"
      },
      "outputs": [
        {
          "output_type": "execute_result",
          "data": {
            "text/plain": [
              "40000000000"
            ]
          },
          "metadata": {},
          "execution_count": 40
        }
      ],
      "source": [
        "200000*200000"
      ]
    },
    {
      "cell_type": "code",
      "execution_count": 41,
      "metadata": {
        "colab": {
          "base_uri": "https://localhost:8080/"
        },
        "id": "EuS6n3jtDK5C",
        "outputId": "27ff81fc-6dcf-4fbb-98db-399c4bfc9fcd"
      },
      "outputs": [
        {
          "output_type": "stream",
          "name": "stdout",
          "text": [
            "Writing output3.txt\n"
          ]
        }
      ],
      "source": [
        "%%writefile output3.txt\n",
        "40000000000"
      ]
    },
    {
      "cell_type": "code",
      "execution_count": 42,
      "metadata": {
        "colab": {
          "base_uri": "https://localhost:8080/"
        },
        "id": "2Wad2VZUZDxR",
        "outputId": "ef839b55-cd4c-46ce-d172-17c1af146051"
      },
      "outputs": [
        {
          "output_type": "stream",
          "name": "stdout",
          "text": [
            "1345294336\n"
          ]
        }
      ],
      "source": [
        "!./max_pairwise_product_full < input3.txt"
      ]
    },
    {
      "cell_type": "code",
      "execution_count": 43,
      "metadata": {
        "colab": {
          "base_uri": "https://localhost:8080/"
        },
        "id": "pEvp1ieyDJGq",
        "outputId": "bc897084-4be9-4819-ac5e-0c50bf9aecee"
      },
      "outputs": [
        {
          "output_type": "stream",
          "name": "stdout",
          "text": [
            "1345294336\n"
          ]
        }
      ],
      "source": [
        "!./max_pairwise_product_full < input3.txt > ctest3.txt\n",
        "!grep -xvFf output3.txt ctest3.txt"
      ]
    },
    {
      "cell_type": "code",
      "execution_count": 44,
      "metadata": {
        "colab": {
          "base_uri": "https://localhost:8080/"
        },
        "id": "SrtJrKqM-God",
        "outputId": "7fcb459c-08f3-483b-8c83-71274cd401c3"
      },
      "outputs": [
        {
          "output_type": "stream",
          "name": "stdout",
          "text": [
            "Writing run_all_test.sh\n"
          ]
        }
      ],
      "source": [
        "%%writefile run_all_test.sh\n",
        "#!/bin/bash\n",
        "g++ max_pairwise_product_full.cpp -o max_pairwise_product_full\n",
        "for i in {0..3}\n",
        "do\n",
        "    ./max_pairwise_product_full < input$i.txt > ctest$i.txt\n",
        "    grep -xvFf output$i.txt ctest$i.txt\n",
        "done"
      ]
    },
    {
      "cell_type": "code",
      "execution_count": 45,
      "metadata": {
        "colab": {
          "base_uri": "https://localhost:8080/"
        },
        "id": "wGWMHtzS-QnA",
        "outputId": "ce11ef16-0ed7-4679-b130-178fe55e73ee"
      },
      "outputs": [
        {
          "output_type": "stream",
          "name": "stdout",
          "text": [
            "1345294336\n"
          ]
        }
      ],
      "source": [
        "!chmod u+x run_all_test.sh\n",
        "!./run_all_test.sh"
      ]
    },
    {
      "cell_type": "markdown",
      "metadata": {
        "id": "H2SC0Qt5HCzz"
      },
      "source": [
        "### Changing the variables to long long"
      ]
    },
    {
      "cell_type": "code",
      "execution_count": 46,
      "metadata": {
        "colab": {
          "base_uri": "https://localhost:8080/"
        },
        "id": "MPcmsxiQZSfE",
        "outputId": "49560269-65b8-46e3-a5fa-8340253f2c7b"
      },
      "outputs": [
        {
          "output_type": "stream",
          "name": "stdout",
          "text": [
            "Writing max_pairwise_product_long_full.cpp\n"
          ]
        }
      ],
      "source": [
        "%%writefile max_pairwise_product_long_full.cpp\n",
        "#include <iostream>\n",
        "#include <vector>\n",
        "#include <algorithm>\n",
        "\n",
        "long long MaxPairwiseProduct(const std::vector<int>& numbers) {\n",
        "    long long max_product = 0LL;\n",
        "\t  long long aux_product = 0LL;\n",
        "    int n = numbers.size();\n",
        "\n",
        "    for (int first = 0; first < n; ++first) {\n",
        "        for (int second = 0; second < n; ++second) {\n",
        "          if ( first != second){\n",
        "                aux_product = (long long) numbers[first] * numbers[second];\n",
        "                if (aux_product > max_product)  max_product = aux_product;\n",
        "          }\n",
        "        }\n",
        "    }\n",
        "\n",
        "\n",
        "    return max_product;\n",
        "}\n",
        "\n",
        "int main() {\n",
        "    int n;\n",
        "    std::cin >> n;\n",
        "    std::vector<int> numbers(n);\n",
        "    for (int i = 0; i < n; ++i) {\n",
        "        std::cin >> numbers[i];\n",
        "    }\n",
        "\n",
        "    std::cout << MaxPairwiseProduct(numbers) << \"\\n\";\n",
        "    return 0;\n",
        "}\n"
      ]
    },
    {
      "cell_type": "code",
      "execution_count": 47,
      "metadata": {
        "id": "W3xQpFXL6wjO"
      },
      "outputs": [],
      "source": [
        "!g++ max_pairwise_product_long_full.cpp -o max_pairwise_product_long_full"
      ]
    },
    {
      "cell_type": "code",
      "execution_count": 48,
      "metadata": {
        "colab": {
          "base_uri": "https://localhost:8080/"
        },
        "id": "H5dvN9M3R9sV",
        "outputId": "b26e113e-991f-4a56-9482-09744d3cbeca"
      },
      "outputs": [
        {
          "output_type": "stream",
          "name": "stdout",
          "text": [
            "40000000000\n"
          ]
        }
      ],
      "source": [
        "!./max_pairwise_product_long_full < input3.txt"
      ]
    },
    {
      "cell_type": "markdown",
      "metadata": {
        "id": "gx-sEYdfQ8f8"
      },
      "source": [
        "### Runing multuple test with a bash shell"
      ]
    },
    {
      "cell_type": "code",
      "execution_count": 49,
      "metadata": {
        "colab": {
          "base_uri": "https://localhost:8080/"
        },
        "id": "O9qsq2nn7elw",
        "outputId": "6ced38eb-ee68-4568-a81e-e95146f6ed11"
      },
      "outputs": [
        {
          "output_type": "stream",
          "name": "stdout",
          "text": [
            "Overwriting run_all_test.sh\n"
          ]
        }
      ],
      "source": [
        "%%writefile run_all_test.sh\n",
        "#!/bin/bash\n",
        "g++ max_pairwise_product_long_full.cpp -o max_pairwise_product_long_full\n",
        "for i in {1..3}\n",
        "do\n",
        "    ./max_pairwise_product_long_full < input$i.txt > ctest$i.txt\n",
        "    grep -xvFf output$i.txt ctest$i.txt\n",
        "done"
      ]
    },
    {
      "cell_type": "code",
      "execution_count": 50,
      "metadata": {
        "id": "0g5kKVph7xIA"
      },
      "outputs": [],
      "source": [
        "!chmod u+x run_all_test.sh\n",
        "!./run_all_test.sh"
      ]
    },
    {
      "cell_type": "markdown",
      "metadata": {
        "id": "XPVHkHxH6_7s"
      },
      "source": [
        "### Test 3  stress tests, 6 testing cases files input4.txt/output4.txt .. input10.txt/output10.txt\n",
        "\n",
        "---\n",
        "\n"
      ]
    },
    {
      "cell_type": "code",
      "execution_count": 51,
      "metadata": {
        "colab": {
          "base_uri": "https://localhost:8080/"
        },
        "id": "PwqpBmYr69fu",
        "outputId": "2f5f5c1a-5aac-49f6-d135-b6724f6ddfe6"
      },
      "outputs": [
        {
          "output_type": "stream",
          "name": "stdout",
          "text": [
            "Overwriting input3.txt\n"
          ]
        }
      ],
      "source": [
        "%%writefile input3.txt\n",
        "6\n",
        "1 3001 2020 8 22 38"
      ]
    },
    {
      "cell_type": "code",
      "execution_count": 52,
      "metadata": {
        "colab": {
          "base_uri": "https://localhost:8080/"
        },
        "id": "jBCkMeR6Fw4y",
        "outputId": "60c95d18-e385-4157-f993-5d2b5e1943e7"
      },
      "outputs": [
        {
          "output_type": "stream",
          "name": "stdout",
          "text": [
            "Writing input4.txt\n"
          ]
        }
      ],
      "source": [
        "%%writefile input4.txt\n",
        "7\n",
        "10 437 798 101112 121415 151918 194036"
      ]
    },
    {
      "cell_type": "code",
      "execution_count": 53,
      "metadata": {
        "colab": {
          "base_uri": "https://localhost:8080/"
        },
        "id": "zED8V8wu-eoM",
        "outputId": "f09b9304-37b4-47b2-baec-23bf7f654ad0"
      },
      "outputs": [
        {
          "output_type": "stream",
          "name": "stdout",
          "text": [
            "Writing input5.txt\n"
          ]
        }
      ],
      "source": [
        "%%writefile input5.txt\n",
        "5\n",
        "951 753 654 852 379"
      ]
    },
    {
      "cell_type": "code",
      "execution_count": 54,
      "metadata": {
        "colab": {
          "base_uri": "https://localhost:8080/"
        },
        "id": "Hkytzyo4hpX1",
        "outputId": "49157990-4411-4bea-a750-da8196ceb532"
      },
      "outputs": [
        {
          "output_type": "stream",
          "name": "stdout",
          "text": [
            "Writing input6.txt\n"
          ]
        }
      ],
      "source": [
        "%%writefile input6.txt\n",
        "8\n",
        "902 1009 1111 1024 792 564 798 222"
      ]
    },
    {
      "cell_type": "code",
      "execution_count": 55,
      "metadata": {
        "colab": {
          "base_uri": "https://localhost:8080/"
        },
        "id": "r_iWMUbXhpJh",
        "outputId": "5cdd0b5b-bcdb-4d9e-f926-c754fd7e3c17"
      },
      "outputs": [
        {
          "output_type": "stream",
          "name": "stdout",
          "text": [
            "Writing input7.txt\n"
          ]
        }
      ],
      "source": [
        "%%writefile input7.txt\n",
        "4\n",
        "741 852 963 684"
      ]
    },
    {
      "cell_type": "code",
      "execution_count": 56,
      "metadata": {
        "colab": {
          "base_uri": "https://localhost:8080/"
        },
        "id": "ANfhoqFAho7F",
        "outputId": "1973e7cb-23e6-4014-c4aa-d6bbd696ab91"
      },
      "outputs": [
        {
          "output_type": "stream",
          "name": "stdout",
          "text": [
            "Writing input8.txt\n"
          ]
        }
      ],
      "source": [
        "%%writefile input8.txt\n",
        "5\n",
        "176 935 378 937 210790"
      ]
    },
    {
      "cell_type": "code",
      "execution_count": 57,
      "metadata": {
        "colab": {
          "base_uri": "https://localhost:8080/"
        },
        "id": "gaFc-S91hoeF",
        "outputId": "94739265-06a0-4c5e-9031-232cfa9e605d"
      },
      "outputs": [
        {
          "output_type": "stream",
          "name": "stdout",
          "text": [
            "Writing input9.txt\n"
          ]
        }
      ],
      "source": [
        "%%writefile input9.txt\n",
        "6\n",
        "1 3343 2003 9 2222 43"
      ]
    },
    {
      "cell_type": "code",
      "execution_count": 58,
      "metadata": {
        "colab": {
          "base_uri": "https://localhost:8080/"
        },
        "id": "EygNynUhiMKY",
        "outputId": "b382009a-bc6d-422f-f518-2587fcc8d10c"
      },
      "outputs": [
        {
          "output_type": "stream",
          "name": "stdout",
          "text": [
            "Writing input10.txt\n"
          ]
        }
      ],
      "source": [
        "%%writefile input10.txt\n",
        "6\n",
        "1111 2222 3333 4444 5555 6666"
      ]
    },
    {
      "cell_type": "code",
      "execution_count": 59,
      "metadata": {
        "colab": {
          "base_uri": "https://localhost:8080/"
        },
        "id": "_Vu3BbhjiLqG",
        "outputId": "07dee207-61a9-4561-b122-70c130458554"
      },
      "outputs": [
        {
          "output_type": "stream",
          "name": "stdout",
          "text": [
            "90\n",
            "90\n"
          ]
        }
      ],
      "source": [
        "!./max_pairwise_product_long_full < input1.txt\n",
        "!./max_pairwise_product_long_full < input2.txt\n",
        "!./max_pairwise_product_long_full < input3.txt > output3.txt\n",
        "!./max_pairwise_product_long_full < input4.txt > output4.txt\n",
        "!./max_pairwise_product_long_full < input5.txt > output5.txt\n",
        "!./max_pairwise_product_long_full < input6.txt > output6.txt\n",
        "!./max_pairwise_product_long_full < input7.txt > output7.txt\n",
        "!./max_pairwise_product_long_full < input8.txt > output8.txt\n",
        "!./max_pairwise_product_long_full < input9.txt > output9.txt\n",
        "!./max_pairwise_product_long_full < input10.txt > output10.txt"
      ]
    },
    {
      "cell_type": "markdown",
      "metadata": {
        "id": "9z9yr5QkeyJF"
      },
      "source": [
        "### Test 4  time test  measure the execution time running with the the largest worst cases input11.txt  (200000 increasing numbers) and input12.txt (199998 increasing numbers and  200000, 200000 at the end)"
      ]
    },
    {
      "cell_type": "code",
      "execution_count": 60,
      "metadata": {
        "colab": {
          "base_uri": "https://localhost:8080/"
        },
        "id": "UmB1ipWM_nSk",
        "outputId": "98cd080f-8f8c-4120-9647-81549f0fdb8d"
      },
      "outputs": [
        {
          "output_type": "stream",
          "name": "stdout",
          "text": [
            "Overwriting WriteTest.cpp\n"
          ]
        }
      ],
      "source": [
        "# input11.txt 200000 increasing numbers:  1 2 .. 200000\n",
        "\n",
        "%%writefile WriteTest.cpp\n",
        "\n",
        "#include <iostream>\n",
        "#include <fstream>\n",
        "#include <cstdlib>\n",
        "\n",
        "using namespace std;\n",
        "\n",
        "int main() {\n",
        "  // Create and open a text file\n",
        "  ofstream MyFile(\"input11.txt\");\n",
        "\n",
        " MyFile << 200000 <<\"\\n\";  // n\n",
        " for (int i=1; i <200001; i++){\n",
        "     MyFile << i <<\" \";\n",
        " }\n",
        "\n",
        "  // Close the file\n",
        "  MyFile.close();\n",
        "}"
      ]
    },
    {
      "cell_type": "code",
      "execution_count": 61,
      "metadata": {
        "id": "EH25TkOkZfD9"
      },
      "outputs": [],
      "source": [
        "!g++ WriteTest.cpp -o WriteTest\n",
        "!./WriteTest"
      ]
    },
    {
      "cell_type": "code",
      "execution_count": 62,
      "metadata": {
        "colab": {
          "base_uri": "https://localhost:8080/"
        },
        "id": "j0mokSOnCCtZ",
        "outputId": "5bc8e42d-c992-49c5-bea5-41490680c31b"
      },
      "outputs": [
        {
          "output_type": "execute_result",
          "data": {
            "text/plain": [
              "39999800000"
            ]
          },
          "metadata": {},
          "execution_count": 62
        }
      ],
      "source": [
        "199999 * 200000"
      ]
    },
    {
      "cell_type": "code",
      "execution_count": 63,
      "metadata": {
        "colab": {
          "base_uri": "https://localhost:8080/"
        },
        "id": "VoDhDV73B5Mo",
        "outputId": "9af43a0b-dc2f-43c7-a5ce-87862b3fef52"
      },
      "outputs": [
        {
          "output_type": "stream",
          "name": "stdout",
          "text": [
            "Overwriting output11.txt\n"
          ]
        }
      ],
      "source": [
        "%%writefile output11.txt\n",
        "39999800000"
      ]
    },
    {
      "cell_type": "code",
      "execution_count": 64,
      "metadata": {
        "colab": {
          "base_uri": "https://localhost:8080/"
        },
        "id": "oLiMjbAIfPlX",
        "outputId": "ee1353ab-5ae5-49ee-a33c-693db9883193"
      },
      "outputs": [
        {
          "output_type": "stream",
          "name": "stdout",
          "text": [
            "Overwriting WriteTest.cpp\n"
          ]
        }
      ],
      "source": [
        "#input12.txt 200000 decreasing numbers and 200000, 199999 ...  2 1\n",
        "\n",
        "%%writefile WriteTest.cpp\n",
        "\n",
        "#include <iostream>\n",
        "#include <fstream>\n",
        "#include <cstdlib>\n",
        "\n",
        "using namespace std;\n",
        "\n",
        "int main() {\n",
        "  // Create and open a text file\n",
        "  ofstream MyFile(\"input12.txt\");\n",
        "\n",
        " MyFile << 200000 <<\"\\n\";  // n\n",
        " for (int i=1; i <200001; i++){\n",
        "     MyFile << 200001-i <<\" \";\n",
        " }\n",
        "\n",
        "  // Close the file\n",
        "  MyFile.close();\n",
        "}"
      ]
    },
    {
      "cell_type": "code",
      "execution_count": 65,
      "metadata": {
        "id": "oULNBr_zAd9c"
      },
      "outputs": [],
      "source": [
        "!g++ WriteTest.cpp -o WriteTest\n",
        "!./WriteTest"
      ]
    },
    {
      "cell_type": "code",
      "execution_count": 66,
      "metadata": {
        "colab": {
          "base_uri": "https://localhost:8080/"
        },
        "id": "PQLyocaFB-y4",
        "outputId": "e84bf1b8-eb3c-4794-a966-df0e2367a86a"
      },
      "outputs": [
        {
          "output_type": "stream",
          "name": "stdout",
          "text": [
            "Overwriting output12.txt\n"
          ]
        }
      ],
      "source": [
        "%%writefile output12.txt\n",
        "39999800000"
      ]
    },
    {
      "cell_type": "markdown",
      "metadata": {
        "id": "JB6f03qO-lj9"
      },
      "source": [
        "### Measure time\n",
        "\n",
        "https://askubuntu.com/questions/53444/how-can-i-measure-the-execution-time-of-a-terminal-process"
      ]
    },
    {
      "cell_type": "code",
      "execution_count": 67,
      "metadata": {
        "colab": {
          "base_uri": "https://localhost:8080/"
        },
        "id": "6p2QLEr576zk",
        "outputId": "96e34e3e-0526-4acc-f07d-2ab848468c99"
      },
      "outputs": [
        {
          "output_type": "stream",
          "name": "stdout",
          "text": [
            "39999800000\n",
            "\n",
            "real\t4m59.580s\n",
            "user\t4m57.255s\n",
            "sys\t0m0.066s\n"
          ]
        }
      ],
      "source": [
        "!g++ max_pairwise_product_long_full.cpp -o max_pairwise_product_long_full\n",
        "!time ./max_pairwise_product_long_full< input11.txt"
      ]
    },
    {
      "cell_type": "code",
      "execution_count": 68,
      "metadata": {
        "colab": {
          "base_uri": "https://localhost:8080/"
        },
        "id": "cnjCyeUdAnZj",
        "outputId": "72434047-6291-42de-8b04-b65bedf55fdf"
      },
      "outputs": [
        {
          "output_type": "stream",
          "name": "stdout",
          "text": [
            "39999800000\n",
            "\n",
            "real\t5m0.811s\n",
            "user\t4m57.120s\n",
            "sys\t0m0.079s\n"
          ]
        }
      ],
      "source": [
        "!g++ max_pairwise_product_long_full.cpp -o max_pairwise_product_long_full\n",
        "!time ./max_pairwise_product_long_full< input12.txt"
      ]
    },
    {
      "cell_type": "markdown",
      "metadata": {
        "id": "FXClpBsUJuXC"
      },
      "source": [
        "### Calculate the number or and upper bound to the number of instructions executed by the algorithm as a function of n, add in each line a comment with the number of instructions that are executed in that line."
      ]
    },
    {
      "cell_type": "code",
      "execution_count": 69,
      "metadata": {
        "colab": {
          "base_uri": "https://localhost:8080/"
        },
        "id": "uG6Mv-Pwlkii",
        "outputId": "9ea56a27-df44-45bf-e82d-1ccbbe5185a1"
      },
      "outputs": [
        {
          "output_type": "stream",
          "name": "stdout",
          "text": [
            "Overwriting max_pairwise_product_long_full.cpp\n"
          ]
        }
      ],
      "source": [
        "%%writefile max_pairwise_product_long_full.cpp\n",
        "#include <iostream>\n",
        "#include <vector>\n",
        "#include <algorithm>\n",
        "\n",
        "long long MaxPairwiseProduct(const std::vector<int>& numbers) {              //INSTRUCTIONS executed by line\n",
        "    long long max_product = 0LL;                                             //1\n",
        "\t  long long aux_product = 0LL;                                             //1\n",
        "    int n = numbers.size();                                                  //1\n",
        "\n",
        "    for (int first = 0; first < n; ++first) {                                //2+2n\n",
        "        for (int second = 0; second < n; ++second) {                         //2n + 2n**2\n",
        "          if ( first != second ){                                            //n**2\n",
        "                aux_product = numbers[first] * numbers[second];              //n**2 -n\n",
        "                if (aux_product > max_product)                               //n**2 -n\n",
        "                    max_product = aux_product;                               //[0, n**2/2 - n/2] upper bound\n",
        "          }\n",
        "        }\n",
        "    }\n",
        "\n",
        "                                                                             // --------------\n",
        "    return max_product;                                                      // 5 + 2*n + [5*n**2, 11*n**2/2  - n/2]  upper bound\n",
        "}\n",
        "\n",
        "int main() {                                              //INSTRUCTIONS executed by line\n",
        "    int n;                                                //1\n",
        "    std::cin >> n;                                        //1\n",
        "    std::vector<int> numbers(n);                          //n\n",
        "    for (int i = 0; i < n; ++i) {                         //2 + 2n\n",
        "        std::cin >> numbers[i];                           //n\n",
        "    }\n",
        "\n",
        "    std::cout << MaxPairwiseProduct(numbers) << \"\\n\";     //1 + 1  + 5 + 2*n + [5*n**2, 11*n**2/2  - n/2]\n",
        "\n",
        "    return 0;                                             // --------------\n",
        "}                                                         //  11 + 6*n + [5*n**2, 11*n**2/2  - n/2]  upper bound\n"
      ]
    },
    {
      "cell_type": "markdown",
      "metadata": {
        "id": "0vTsUg8OwcHs"
      },
      "source": [
        "### Count executed intructions in code"
      ]
    },
    {
      "cell_type": "code",
      "execution_count": 70,
      "metadata": {
        "colab": {
          "base_uri": "https://localhost:8080/"
        },
        "id": "CuRKkqQc137V",
        "outputId": "cd2d9547-0f26-4038-e5ec-989819ced6b6"
      },
      "outputs": [
        {
          "output_type": "stream",
          "name": "stdout",
          "text": [
            "Writing max_pairwise_product_long_full_execints.cpp\n"
          ]
        }
      ],
      "source": [
        "%%writefile max_pairwise_product_long_full_execints.cpp\n",
        "#include <iostream>\n",
        "#include <vector>\n",
        "#include <algorithm>\n",
        "\n",
        "long long MaxPairwiseProduct(const std::vector<int>& numbers, long long &execints) {      //INSTRUCTIONS executed by line\n",
        "\n",
        "    long long max_product = 0LL;                                                          //1\n",
        "    execints++;\n",
        "\n",
        "\t  long long aux_product = 0LL;                                                          //1\n",
        "    execints++;\n",
        "\n",
        "    int n = numbers.size();                                                               //1\n",
        "    execints++;\n",
        "\n",
        "    execints++;\n",
        "    for (int first = 0; first < n; ++first) {                                             //2+2n\n",
        "        execints += 2;\n",
        "\n",
        "        execints++;\n",
        "        for (int second = 0; second < n; ++second) {                                       //2n + 2n**2\n",
        "          execints += 2;\n",
        "\n",
        "          execints++;\n",
        "          if ( first != second ){                                                         //n**2\n",
        "                aux_product = numbers[first] * numbers[second];                           //n**2 -n\n",
        "                execints++;\n",
        "\n",
        "                execints++;\n",
        "                if (aux_product > max_product){                                           //n**2 -n\n",
        "                    max_product = aux_product;                                            //[0,n**2/2 - n/2)  upper bound\n",
        "                    execints++;\n",
        "\n",
        "                }\n",
        "        }\n",
        "\n",
        "      }\n",
        "      execints++;\n",
        "    }\n",
        "    execints++;\n",
        "                                                                                        // --------------\n",
        "    return max_product;                                                                 // 5 + 2*n + [5*n**2, 11*n**2/2  - n/2] upper bound\n",
        "}\n",
        "\n",
        "int main() {                                                 //INSTRUCTIONS executed by line\n",
        "\n",
        "    long long execints =0LL;\n",
        "\n",
        "    int n;                                                   //1\n",
        "    execints++;\n",
        "\n",
        "    std::cin >> n;                                           //1\n",
        "    execints++;\n",
        "\n",
        "    std::vector<int> numbers(n);                             //n\n",
        "    execints += n;\n",
        "\n",
        "    execints++;\n",
        "    for (int i = 0; i < n; ++i) {                            //2 + 2n\n",
        "        execints += 2;\n",
        "\n",
        "        std::cin >> numbers[i];\n",
        "        execints++;                                          //n\n",
        "\n",
        "    }\n",
        "\n",
        "\n",
        "    //std::cout << MaxPairwiseProduct(numbers) << \"\\n\";      //1 + 1  + 5 + 2*n + [5*n**2, 11*n**2/2  - n/2] upper bound\n",
        "\n",
        "    execints++;\n",
        "    int M = MaxPairwiseProduct(numbers,execints);\n",
        "\n",
        "    execints++;\n",
        "    std::cout <<  execints << \"\\n\";\n",
        "    return 0;                                                // --------------\n",
        "}                                                            // 11 + 6*n + [5*n**2, 11*n**2/2  - n/2]"
      ]
    },
    {
      "cell_type": "markdown",
      "metadata": {
        "id": "cUjHtvtdDsmr"
      },
      "source": [
        "The number of instructions executed by the algooirithm with a list of size $n$ is  \n",
        "\n",
        "$$T (n) = 11 + 6n + \\left[5n^2, 11\\frac{n^2}{2}  - \\frac{n}{2}\\right)  >  6n^2 = O(n^2)$$\n",
        "\n",
        "It depends on the size of the lists and  the order of the list.\n",
        "\n",
        "For the input0.txt\n",
        "```\n",
        "10\n",
        "0 0 0 0 0 0 0 0 0 0\n",
        "```\n",
        "$$T = 11 + 6(10) + 5(10)^2   = 561 $$\n",
        "\n",
        "$$T(10) \\in [571, 621)  $$\n"
      ]
    },
    {
      "cell_type": "code",
      "execution_count": 71,
      "metadata": {
        "colab": {
          "base_uri": "https://localhost:8080/"
        },
        "id": "Om9Fevb0miAT",
        "outputId": "6c4094fb-ee84-44f6-e39f-52bec6126287"
      },
      "outputs": [
        {
          "output_type": "stream",
          "name": "stdout",
          "text": [
            "570\n"
          ]
        }
      ],
      "source": [
        "!g++ max_pairwise_product_long_full_execints.cpp -o max_pairwise_product_long_full_execints\n",
        "!./max_pairwise_product_long_full_execints < input0.txt"
      ]
    },
    {
      "cell_type": "markdown",
      "metadata": {
        "id": "FwJzZ6VzmArY"
      },
      "source": [
        "For the input1.txt\n",
        "```\n",
        "10\n",
        "1 2 3 4 5 6 7 8 9 10\n",
        "```\n",
        "$$T = 11 + 6(10) + 5(10)^2 +  9 + 5 + 4 + 3 + 2 + 2 + 2 + 2 + 1 + 0  = 601 $$\n",
        "\n",
        "$$T(10) \\in [572, 622)  $$\n"
      ]
    },
    {
      "cell_type": "code",
      "execution_count": 72,
      "metadata": {
        "id": "K59xQMWiBNFj"
      },
      "outputs": [],
      "source": [
        "#The number of times that  max_product = aux_product; in the worst case is less than (n**2 -n)/2 -  upper bound\n",
        "\n",
        "#     1  2  3  4  5  6  7  8  9  10\n",
        "#  1  x  2  3  4  5  6  7  8  9  10         9\n",
        "#  2  2  x  6  8  10 12 14 16 18 20         5 14\n",
        "#  3  3  6  x  12 15 18 21 24 27 30         4 18\n",
        "#  4  4  8  12 x  20 24 28 32 36 40         3 21\n",
        "#  5  5  10 15 20 x  30 35 40 45 50         2 23\n",
        "#  6  6  12 18 24 30 x  42 48 54 60         2 25\n",
        "#  7  7  14 21 28 35 42 x  56 63 70         2 27\n",
        "#  8  8  18 27 36 45 54 63 72 x  90         1 30\n",
        "#  10 10 20 30 40 50 60 70 60 90 x          0"
      ]
    },
    {
      "cell_type": "code",
      "execution_count": 73,
      "metadata": {
        "colab": {
          "base_uri": "https://localhost:8080/"
        },
        "id": "E3O8dzFfEgir",
        "outputId": "9e7e7203-e0a4-4a2e-b383-95f7ed303b5a"
      },
      "outputs": [
        {
          "output_type": "execute_result",
          "data": {
            "text/plain": [
              "601"
            ]
          },
          "metadata": {},
          "execution_count": 73
        }
      ],
      "source": [
        "11 + 6*(10) + 5*(10)*(10) +  9 + 5 + 4 + 3 + 2 + 2 + 2 + 2 + 1 + 0"
      ]
    },
    {
      "cell_type": "code",
      "execution_count": 74,
      "metadata": {
        "colab": {
          "base_uri": "https://localhost:8080/"
        },
        "id": "TCpdl5u_Gq1a",
        "outputId": "0d5d1fde-ed11-4e51-ae9c-61ff4f91e8cf"
      },
      "outputs": [
        {
          "output_type": "stream",
          "name": "stdout",
          "text": [
            "[ 571 , 621.0 )\n"
          ]
        }
      ],
      "source": [
        "n = 10\n",
        "print( \"[\", 11 + 6*n + 5*n**2,  \",\", 11 + 6*n  + 5.5*n**2, \")\")"
      ]
    },
    {
      "cell_type": "code",
      "execution_count": 75,
      "metadata": {
        "colab": {
          "base_uri": "https://localhost:8080/"
        },
        "id": "Kuvm1C05ly2a",
        "outputId": "db26375f-8cc6-4ed3-9f13-202e406759bf"
      },
      "outputs": [
        {
          "output_type": "stream",
          "name": "stdout",
          "text": [
            "600\n"
          ]
        }
      ],
      "source": [
        "!g++ max_pairwise_product_long_full_execints.cpp -o max_pairwise_product_long_full_execints\n",
        "!./max_pairwise_product_long_full_execints < input1.txt"
      ]
    },
    {
      "cell_type": "markdown",
      "metadata": {
        "id": "Yr_Lb7CaHfxB"
      },
      "source": [
        "\n",
        "For the input2.txt\n",
        "```\n",
        "10\n",
        "10 9 8 7 6 5 4 3 2 1\n",
        "```\n",
        "$$T = 11 + 6*(10) + 5*(10)**2 +  1  = 571 $$"
      ]
    },
    {
      "cell_type": "code",
      "execution_count": 76,
      "metadata": {
        "colab": {
          "base_uri": "https://localhost:8080/"
        },
        "id": "HOdqlwJiZUIp",
        "outputId": "e997b368-b99c-4d85-ae43-9eaf4d9af4b8"
      },
      "outputs": [
        {
          "output_type": "execute_result",
          "data": {
            "text/plain": [
              "572"
            ]
          },
          "metadata": {},
          "execution_count": 76
        }
      ],
      "source": [
        "11 + 6*(10) + 5*(10)**2 +  1"
      ]
    },
    {
      "cell_type": "code",
      "execution_count": 77,
      "metadata": {
        "colab": {
          "base_uri": "https://localhost:8080/"
        },
        "id": "_znzLectjFSe",
        "outputId": "694ec793-9d9a-4c6f-b888-a12cacd09660"
      },
      "outputs": [
        {
          "output_type": "stream",
          "name": "stdout",
          "text": [
            "571\n"
          ]
        }
      ],
      "source": [
        "!g++ max_pairwise_product_long_full_execints.cpp -o max_pairwise_product_long_full_execints\n",
        "!./max_pairwise_product_long_full_execints < input2.txt"
      ]
    },
    {
      "cell_type": "markdown",
      "metadata": {
        "id": "NXW7QkoBL6xH"
      },
      "source": [
        "Calculate estimated time by instruction and number of instructions by second"
      ]
    },
    {
      "cell_type": "markdown",
      "metadata": {
        "id": "dlyRjaohz-YH"
      },
      "source": [
        "For the input11.txt\n",
        "```\n",
        "200000\n",
        "1 2 ..  199999 2000\n",
        "```\n",
        "$$T = 11 + 6*(200000) + 5.5*(200000)**2  = 200001200012  $$"
      ]
    },
    {
      "cell_type": "code",
      "execution_count": 78,
      "metadata": {
        "colab": {
          "base_uri": "https://localhost:8080/"
        },
        "id": "VDaFf4rzdyUI",
        "outputId": "2cbc3580-b261-4700-e1ae-68cf1ced9d6a"
      },
      "outputs": [
        {
          "output_type": "execute_result",
          "data": {
            "text/plain": [
              "200001000010"
            ]
          },
          "metadata": {},
          "execution_count": 78
        }
      ],
      "source": [
        "9 + 5*(200000) + 5*(200000)**2 +1"
      ]
    },
    {
      "cell_type": "code",
      "execution_count": 79,
      "metadata": {
        "id": "BMH8mF3EKn2w",
        "colab": {
          "base_uri": "https://localhost:8080/"
        },
        "outputId": "ab4610ff-14f8-42f2-e5e4-ef9c1e4cec4a"
      },
      "outputs": [
        {
          "output_type": "stream",
          "name": "stdout",
          "text": [
            "200003177091\n"
          ]
        }
      ],
      "source": [
        "!g++ max_pairwise_product_long_full_execints.cpp -o max_pairwise_product_long_full_execints\n",
        "!./max_pairwise_product_long_full_execints < input11.txt"
      ]
    },
    {
      "cell_type": "code",
      "execution_count": 80,
      "metadata": {
        "colab": {
          "base_uri": "https://localhost:8080/"
        },
        "id": "pKqB3i7dIxnc",
        "outputId": "d1f8bf03-350f-425e-8673-462714ab055a"
      },
      "outputs": [
        {
          "output_type": "execute_result",
          "data": {
            "text/plain": [
              "1.474976569326082e-09"
            ]
          },
          "metadata": {},
          "execution_count": 80
        }
      ],
      "source": [
        "# Estimated time by instruction\n",
        "# use the real reported  !time ./max_pairwise_product_long_full< input11.txt in seconds intead of the 295\n",
        "\n",
        "295/200003177091\n"
      ]
    },
    {
      "cell_type": "code",
      "execution_count": 81,
      "metadata": {
        "colab": {
          "base_uri": "https://localhost:8080/"
        },
        "id": "18N1ouqeMhE1",
        "outputId": "9d3f7dea-bfde-4c18-89be-d7f8a8eb26af"
      },
      "outputs": [
        {
          "output_type": "execute_result",
          "data": {
            "text/plain": [
              "677976871.4949152"
            ]
          },
          "metadata": {},
          "execution_count": 81
        }
      ],
      "source": [
        "# Estimated number of instructions by second\n",
        "\n",
        "200003177091/295"
      ]
    },
    {
      "cell_type": "markdown",
      "metadata": {
        "id": "KyuxejFkL5X_"
      },
      "source": [
        "### Estimate and verify the maximun n that can be solved in 1 second\n",
        "\n",
        "$$(5.5n^2 + 5.5n + 11) \\times 1.47*10^{-9} s = 1 s$$\n",
        "\n",
        "$$ n \\approx 11000$$\n"
      ]
    },
    {
      "cell_type": "code",
      "execution_count": 82,
      "metadata": {
        "colab": {
          "base_uri": "https://localhost:8080/"
        },
        "id": "WXu5jp-DLTOI",
        "outputId": "e9a5318c-473b-479f-ba30-75ff31285f33"
      },
      "outputs": [
        {
          "output_type": "stream",
          "name": "stdout",
          "text": [
            "Overwriting WriteTest.cpp\n"
          ]
        }
      ],
      "source": [
        "# Verify input13.txt\n",
        "%%writefile WriteTest.cpp\n",
        "\n",
        "#include <iostream>\n",
        "#include <fstream>\n",
        "#include <cstdlib>\n",
        "\n",
        "using namespace std;\n",
        "\n",
        "int main() {\n",
        "  // Create and open a text file\n",
        "  ofstream MyFile(\"input13.txt\");\n",
        "\n",
        " MyFile << 11000 <<\"\\n\";  // n\n",
        " for (int i=1; i <11001; i++){\n",
        "     MyFile << i <<\" \";\n",
        " }\n",
        "\n",
        "  // Close the file\n",
        "  MyFile.close();\n",
        "}"
      ]
    },
    {
      "cell_type": "code",
      "execution_count": 83,
      "metadata": {
        "id": "AQ8N52pUMCeT"
      },
      "outputs": [],
      "source": [
        "!g++ WriteTest.cpp -o WriteTest\n",
        "!./WriteTest"
      ]
    },
    {
      "cell_type": "code",
      "execution_count": 84,
      "metadata": {
        "colab": {
          "base_uri": "https://localhost:8080/"
        },
        "id": "2iIOdbTrEtBx",
        "outputId": "f8e990b9-0f81-4d9a-a0bd-141e8a53a9dc"
      },
      "outputs": [
        {
          "output_type": "execute_result",
          "data": {
            "text/plain": [
              "120989000"
            ]
          },
          "metadata": {},
          "execution_count": 84
        }
      ],
      "source": [
        "10999 * 11000"
      ]
    },
    {
      "cell_type": "code",
      "execution_count": 85,
      "metadata": {
        "colab": {
          "base_uri": "https://localhost:8080/"
        },
        "id": "ussuAokfM2du",
        "outputId": "0d9edf8d-3cad-490b-9b05-8b3e32eab997"
      },
      "outputs": [
        {
          "output_type": "stream",
          "name": "stdout",
          "text": [
            "120989000\n",
            "\n",
            "real\t0m0.850s\n",
            "user\t0m0.845s\n",
            "sys\t0m0.002s\n"
          ]
        }
      ],
      "source": [
        "!g++ max_pairwise_product_long_full.cpp -o max_pairwise_product_long_full\n",
        "!time ./max_pairwise_product_long_full< input13.txt"
      ]
    },
    {
      "cell_type": "markdown",
      "metadata": {
        "id": "Tm_AVmt-QQH4"
      },
      "source": [
        "## Python"
      ]
    },
    {
      "cell_type": "code",
      "execution_count": 86,
      "metadata": {
        "colab": {
          "base_uri": "https://localhost:8080/"
        },
        "id": "gRCCcd7IQTKZ",
        "outputId": "83e2e297-bdba-49a1-8024-1d92f23b6ce9"
      },
      "outputs": [
        {
          "output_type": "stream",
          "name": "stdout",
          "text": [
            "Writing max_pairwise_product_full.py\n"
          ]
        }
      ],
      "source": [
        "\n",
        "%%writefile max_pairwise_product_full.py\n",
        "n = int(input())                        #1\n",
        "list = input().split()                  #1\n",
        "list = [int(x) for x in list]           #n\n",
        "\n",
        "maxProduct = 0                          #1\n",
        "auxProduct = 0                          #1\n",
        "for i in range(0,n):                    #1+2n\n",
        "  for j in range(0,n):                #n+2n^2\n",
        "    if i!=j:                            #n^2\n",
        "      auxProduct = list[i]*list[j]      #n^2 -n\n",
        "    if maxProduct < auxProduct:         #n**2 -n\n",
        "      maxProduct = auxProduct           #[1, n^2/2 - n/2] upper bound\n",
        "\n",
        "                                        # --------------\n",
        "print(maxProduct)                       #5 + 3n + [5*n^2+1, 11*n^2/2  - n/2]  upper bound"
      ]
    },
    {
      "cell_type": "markdown",
      "metadata": {
        "id": "OtsSopgvfKAQ"
      },
      "source": [
        "PROBAR CON ENTRADAS DE ARCHIVOS DE TEXTO ANTERIORES"
      ]
    },
    {
      "cell_type": "code",
      "execution_count": 87,
      "metadata": {
        "id": "kAEAoNZEQTCw"
      },
      "outputs": [],
      "source": [
        "!chmod +x max_pairwise_product_full.py\n",
        "\n",
        "!python max_pairwise_product_full.py < input3.txt > output3.txt\n",
        "!python max_pairwise_product_full.py < input4.txt > output4.txt\n",
        "!python max_pairwise_product_full.py < input5.txt > output5.txt\n",
        "!python max_pairwise_product_full.py < input6.txt > output6.txt\n",
        "!python max_pairwise_product_full.py < input7.txt > output7.txt\n",
        "!python max_pairwise_product_full.py < input8.txt > output8.txt\n",
        "!python max_pairwise_product_full.py < input9.txt > output9.txt\n",
        "!python max_pairwise_product_full.py < input10.txt > output10.txt"
      ]
    },
    {
      "cell_type": "markdown",
      "metadata": {
        "id": "Gs5Gjt97fU5s"
      },
      "source": [
        "CREAR UN ARCHIVO DE ENTRADA CONSIDERABLEMENTE GRANDE"
      ]
    },
    {
      "cell_type": "code",
      "execution_count": 88,
      "metadata": {
        "id": "hjw7TJrDL0d-"
      },
      "outputs": [],
      "source": [
        "# Verify\n",
        "\n",
        "fileName = \"input13Py.txt\"\n",
        "\n",
        "with open(fileName, \"w\") as file:\n",
        "    file.write(\"20000\"+ \"\\n\")\n",
        "    for i in range(1,20001):\n",
        "        file.write(str(i) + \" \")"
      ]
    },
    {
      "cell_type": "markdown",
      "metadata": {
        "id": "lL541ySNfbpF"
      },
      "source": [
        "MEDIR EL TIEMPO"
      ]
    },
    {
      "cell_type": "code",
      "execution_count": 89,
      "metadata": {
        "colab": {
          "base_uri": "https://localhost:8080/"
        },
        "id": "zMJ1WXiFfcuk",
        "outputId": "3914e2df-a6f6-4260-d897-0a730b1728f7"
      },
      "outputs": [
        {
          "output_type": "stream",
          "name": "stdout",
          "text": [
            "399980000\n",
            "Tiempo de ejecución en segundos: 124.56498956680298\n",
            "Tiempo de ejecución en minutos: 2.0760831594467164\n"
          ]
        }
      ],
      "source": [
        "import time\n",
        "\n",
        "start_time = time.time()\n",
        "!python max_pairwise_product_full.py < input13Py.txt\n",
        "\n",
        "end_time = time.time()\n",
        "execution_time = end_time - start_time\n",
        "print(f\"Tiempo de ejecución en segundos: {execution_time}\")\n",
        "print(f\"Tiempo de ejecución en minutos: {execution_time/60}\")"
      ]
    },
    {
      "cell_type": "markdown",
      "metadata": {
        "id": "qNfKiM17fjsO"
      },
      "source": [
        "CONTAR NUMERO DE PASOS"
      ]
    },
    {
      "cell_type": "code",
      "execution_count": 90,
      "metadata": {
        "colab": {
          "base_uri": "https://localhost:8080/"
        },
        "id": "OJ9Z2GNlfk3m",
        "outputId": "ae11f761-f2a3-4baa-8b86-6a4dd0b24570"
      },
      "outputs": [
        {
          "output_type": "stream",
          "name": "stdout",
          "text": [
            "Writing max_pairwise_product_full_count.py\n"
          ]
        }
      ],
      "source": [
        "%%writefile max_pairwise_product_full_count.py\n",
        "contador_instrucciones = 0\n",
        "cantidad_numeros = int(input())                        #1\n",
        "contador_instrucciones += 1\n",
        "lista_numeros = input().split()                        #1\n",
        "contador_instrucciones += 1\n",
        "lista_numeros = [int(x) for x in lista_numeros]        #n\n",
        "contador_instrucciones += cantidad_numeros\n",
        "\n",
        "producto_maximo = 0                                   #1\n",
        "contador_instrucciones += 1\n",
        "producto_auxiliar = 0                                 #1\n",
        "contador_instrucciones += 1\n",
        "for i in range(0, cantidad_numeros):                  #1+2n\n",
        "  contador_instrucciones += 1\n",
        "  contador_instrucciones += 2\n",
        "  for j in range(0, cantidad_numeros):                #n + 2n^2\n",
        "    contador_instrucciones += 2\n",
        "    contador_instrucciones += 1\n",
        "    if i != j:                                        #n^2\n",
        "      producto_auxiliar = lista_numeros[i]*lista_numeros[j]      #n^2 -n\n",
        "      contador_instrucciones += 1\n",
        "      contador_instrucciones += 1\n",
        "    if producto_maximo < producto_auxiliar:           #n^2 -n\n",
        "      producto_maximo = producto_auxiliar             #n * (n - 1) / 3\n",
        "      contador_instrucciones += 1\n",
        "\n",
        "print(\"Resultado: \"+str(producto_maximo))\n",
        "print(\"Número de instrucciones: \"+str(contador_instrucciones))  #5 + 3n + 3n^2 + 2(n^2 -n)+n * (n - 1) / 3"
      ]
    },
    {
      "cell_type": "markdown",
      "metadata": {
        "id": "MmtL0jZygV7r"
      },
      "source": [
        "El número de instrucciones ejecutadas por el algoritmo con una lista de tamaño n es:"
      ]
    },
    {
      "cell_type": "markdown",
      "metadata": {
        "id": "fd4FYYPUg4W5"
      },
      "source": [
        "T=5 + 2n +5(n^2)+(n(n-1)/3)\n",
        "\n",
        "\n",
        "\n",
        "\n"
      ]
    },
    {
      "cell_type": "markdown",
      "metadata": {
        "id": "8t8N2WVlgeJb"
      },
      "source": [
        "\n",
        "Depende del tamaño de las listas y el orden de la lista. Para el siguiente archivo input1.txt"
      ]
    },
    {
      "cell_type": "code",
      "execution_count": null,
      "metadata": {
        "id": "6Z2ryhFagfjW"
      },
      "outputs": [],
      "source": [
        "10\n",
        "1 2 3 4 5 6 7 8 9 10"
      ]
    },
    {
      "cell_type": "markdown",
      "metadata": {
        "id": "Zsvhby_egiZJ"
      },
      "source": [
        "*T = 5 + (20) +5(10)(10) + 90/3 = 555*"
      ]
    },
    {
      "cell_type": "code",
      "execution_count": null,
      "metadata": {
        "colab": {
          "base_uri": "https://localhost:8080/"
        },
        "id": "3A8mf4zzgSQk",
        "outputId": "e41d4958-0177-411d-caed-fe67d9ab673f"
      },
      "outputs": [
        {
          "name": "stdout",
          "output_type": "stream",
          "text": [
            "Resultado: 90\n",
            "Número de instrucciones: 554\n"
          ]
        }
      ],
      "source": [
        "!python max_pairwise_product_full_count.py < input1.txt"
      ]
    },
    {
      "cell_type": "markdown",
      "metadata": {
        "id": "HDjJ7XkFimMz"
      },
      "source": [
        "Depende del tamaño de las listas y el orden de la lista. Entonces para input13Py.txt:"
      ]
    },
    {
      "cell_type": "markdown",
      "metadata": {
        "id": "EzdkDVW2itga"
      },
      "source": [
        "T=5+ (60000)+3(20000) (20000) + 2(20000) (20000) - 20000+ 199990/3 = 2000106668"
      ]
    },
    {
      "cell_type": "code",
      "execution_count": null,
      "metadata": {
        "colab": {
          "base_uri": "https://localhost:8080/"
        },
        "id": "NyiYpNVaioKQ",
        "outputId": "bf533d52-ec31-4659-ba12-0f884a1fb9a6"
      },
      "outputs": [
        {
          "name": "stdout",
          "output_type": "stream",
          "text": [
            "Resultado: 399980000\n",
            "Número de instrucciones: 2000261148\n"
          ]
        }
      ],
      "source": [
        "!python max_pairwise_product_full_count.py < input13Py.txt"
      ]
    },
    {
      "cell_type": "markdown",
      "metadata": {
        "id": "FKJdvotujHsE"
      },
      "source": [
        "Calcular el tiempo estimado por instrucción y el número de instrucciones por segundo"
      ]
    },
    {
      "cell_type": "code",
      "execution_count": null,
      "metadata": {
        "colab": {
          "base_uri": "https://localhost:8080/"
        },
        "id": "xWFEEpq_jK9r",
        "outputId": "16c5c5bf-6bf1-405b-ae64-7580cb60f76c"
      },
      "outputs": [
        {
          "name": "stdout",
          "output_type": "stream",
          "text": [
            "600\n",
            "CPU times: user 17.3 ms, sys: 1.02 ms, total: 18.3 ms\n",
            "Wall time: 814 ms\n"
          ]
        }
      ],
      "source": [
        "%%time\n",
        "!g++ max_pairwise_product_long_full_execints.cpp -o max_pairwise_product_long_full_execints\n",
        "!./max_pairwise_product_long_full_execints < input1.txt"
      ]
    },
    {
      "cell_type": "code",
      "execution_count": null,
      "metadata": {
        "colab": {
          "base_uri": "https://localhost:8080/"
        },
        "id": "z1c4SVBnjQSa",
        "outputId": "e6f4b4ff-2468-43ed-8280-205c4a915387"
      },
      "outputs": [
        {
          "name": "stdout",
          "output_type": "stream",
          "text": [
            "Resultado: 90\n",
            "Número de instrucciones: 554\n",
            "CPU times: user 5.8 ms, sys: 966 µs, total: 6.77 ms\n",
            "Wall time: 106 ms\n"
          ]
        }
      ],
      "source": [
        "%%time\n",
        "!python max_pairwise_product_full_count.py < input1.txt"
      ]
    },
    {
      "cell_type": "code",
      "execution_count": null,
      "metadata": {
        "colab": {
          "base_uri": "https://localhost:8080/"
        },
        "id": "YI5d_Go6jTqV",
        "outputId": "0fc032ab-6f4a-4418-f775-86002754093a"
      },
      "outputs": [
        {
          "name": "stdout",
          "output_type": "stream",
          "text": [
            "Tiempo por instrucción C++: 2.1833333333333333e-05\n",
            "Instrucciones por segundo C++: 45801.52671755725\n",
            "Tiempo por instrucción Python: 6.732851985559566e-06\n",
            "Instrucciones por segundo Python: 148525.4691689008\n"
          ]
        }
      ],
      "source": [
        "\n",
        "tiempo_por_instruccion = 0.0131 / 600\n",
        "instrucciones_por_segundo = 1 / tiempo_por_instruccion\n",
        "print(f\"Tiempo por instrucción C++: {tiempo_por_instruccion}\")\n",
        "print(f\"Instrucciones por segundo C++: {instrucciones_por_segundo}\")\n",
        "tiempo_por_instruccion = 0.00373 / 554\n",
        "instrucciones_por_segundo = 1 / tiempo_por_instruccion\n",
        "print(f\"Tiempo por instrucción Python: {tiempo_por_instruccion}\")\n",
        "print(f\"Instrucciones por segundo Python: {instrucciones_por_segundo}\")"
      ]
    },
    {
      "cell_type": "markdown",
      "metadata": {
        "id": "X8R3PBUOj9dm"
      },
      "source": [
        "Si reemplazamos T en las ecuaciones anteriores, tenemos:\n",
        "Máximo n que el programa C++ puede resolver en un segundo: 75.8\n",
        "\n",
        "Máximo n que el programa Python puede resolver en un segundo: 124.51"
      ]
    },
    {
      "cell_type": "markdown",
      "metadata": {
        "id": "fEZR-3V4ZjCv"
      },
      "source": [
        "# For the follwing solutions rquired  the same tests and analysis performed for the first solution"
      ]
    },
    {
      "cell_type": "markdown",
      "metadata": {
        "id": "MKQKSC-vKePK"
      },
      "source": [
        "## Solutions in C++ and Python that uses\n",
        "$$\\frac{n^2 - n}{2} = O(n^2)\\ \\ \\text{products}$$"
      ]
    },
    {
      "cell_type": "code",
      "execution_count": null,
      "metadata": {
        "colab": {
          "base_uri": "https://localhost:8080/"
        },
        "id": "jkkHHoxSK65p",
        "outputId": "89a9889f-7cca-49b8-bc24-081b104058d5"
      },
      "outputs": [
        {
          "name": "stdout",
          "output_type": "stream",
          "text": [
            "Writing max_pairwise_product.cpp\n"
          ]
        }
      ],
      "source": [
        "%%writefile max_pairwise_product.cpp\n",
        "#include <iostream>\n",
        "#include <vector>\n",
        "#include <algorithm>\n",
        "\n",
        "int MaxPairwiseProduct(const std::vector<int>& numbers) {\n",
        "    int max_product = 0;\n",
        "    int n = numbers.size();\n",
        "\n",
        "    for (int first = 0; first < n; ++first) {\n",
        "        for (int second = first + 1; second < n; ++second) {\n",
        "            max_product = std::max(max_product,\n",
        "                numbers[first] * numbers[second]);\n",
        "        }\n",
        "    }\n",
        "\n",
        "    return max_product;\n",
        "}\n",
        "\n",
        "int main() {\n",
        "    int n;\n",
        "    std::cin >> n;\n",
        "    std::vector<int> numbers(n);\n",
        "    for (int i = 0; i < n; ++i) {\n",
        "        std::cin >> numbers[i];\n",
        "    }\n",
        "\n",
        "    std::cout << MaxPairwiseProduct(numbers) << \"\\n\";\n",
        "    return 0;\n",
        "}"
      ]
    },
    {
      "cell_type": "code",
      "execution_count": null,
      "metadata": {
        "colab": {
          "base_uri": "https://localhost:8080/"
        },
        "id": "06--SU1hkOvX",
        "outputId": "5619e80f-3f12-48bc-d0a8-407f126978f3"
      },
      "outputs": [
        {
          "name": "stdout",
          "output_type": "stream",
          "text": [
            "2147483646\n",
            "\n",
            "real\t3m20.776s\n",
            "user\t3m18.780s\n",
            "sys\t0m0.262s\n"
          ]
        }
      ],
      "source": [
        "!g++ max_pairwise_product.cpp -o max_pairwise_product\n",
        "!time ./max_pairwise_product< input12.txt"
      ]
    },
    {
      "cell_type": "code",
      "execution_count": null,
      "metadata": {
        "colab": {
          "base_uri": "https://localhost:8080/"
        },
        "id": "sU8-Ote7K8vz",
        "outputId": "e7cd2032-8f39-4d38-b4df-723a8f89dc92"
      },
      "outputs": [
        {
          "name": "stdout",
          "output_type": "stream",
          "text": [
            "Writing max_pairwise_product_long.cpp\n"
          ]
        }
      ],
      "source": [
        "%%writefile max_pairwise_product_long.cpp\n",
        "#include <iostream>\n",
        "#include <vector>\n",
        "#include <algorithm>\n",
        "\n",
        "long long MaxPairwiseProduct(const std::vector<int>& numbers) {              //INSTRUCTIONS executed by line\n",
        "    long long max_product = 0LL;                                             //1\n",
        "\t  long long aux_product = 0LL;                                             //1\n",
        "    int n = numbers.size();                                                  //1\n",
        "\n",
        "    for (int first = 0; first < n; ++first) {                                //2+2n\n",
        "        for (int second = first + 1; second < n; ++second) {                 //2n + (n-1)n\n",
        "\t\t\t       aux_product =  (long long) numbers[first] * numbers[second];    //(n-1)n/2\n",
        "            if (max_product < aux_product)  {                                //(n-1)n/2\n",
        "\t\t\t\t        max_product = aux_product;                                   //[1,(n-1)n/2)  upper bound\n",
        "             }\n",
        "        }\n",
        "    }\n",
        "                                                                             // --------------\n",
        "    return max_product;                                                      // 5 + 4n + [2(n-1)n+1, 2.5 (n-1)n) upper bound\n",
        "}\n",
        "\n",
        "int main() {                                              //INSTRUCTIONS executed by line\n",
        "    int n;                                                //1\n",
        "    std::cin >> n;                                        //1\n",
        "    std::vector<int> numbers(n);                          //n\n",
        "    for (int i = 0; i < n; ++i) {                         //2 + 2n\n",
        "        std::cin >> numbers[i];                           //n\n",
        "    }\n",
        "\n",
        "    std::cout << MaxPairwiseProduct(numbers) << \"\\n\";     //1 + 1  + 5 + 4n + [2(n-1)n+1, 2.5 (n-1)n) upper bound\n",
        "    return 0;                                             // --------------\n",
        "}                                                         // 11 + 7n + [2(n-1)n+1, 2.5 (n-1)n) upper bound\n"
      ]
    },
    {
      "cell_type": "markdown",
      "metadata": {
        "id": "uB5Dohc-ktNb"
      },
      "source": [
        "El algoritmo ejecuta un número de instrucciones\n",
        "$$T (n) = 9 + 7n + \\left[2(n-1), 2.5(n-1)n\\right] \\ \\  $$\n",
        "\n",
        "Dependiendo del tamaño y orden de la lista.\n",
        "Para el archivo input1.txt con una lista de 10 elementos ordenados:\n",
        "\n",
        "$$T(10) \\in [97, 304]  $$"
      ]
    },
    {
      "cell_type": "code",
      "execution_count": null,
      "metadata": {
        "colab": {
          "base_uri": "https://localhost:8080/"
        },
        "id": "5QWT3fneK8nw",
        "outputId": "37c7f4f1-55f4-4250-d801-24c64ff984a4"
      },
      "outputs": [
        {
          "name": "stdout",
          "output_type": "stream",
          "text": [
            "97 304.0\n"
          ]
        }
      ],
      "source": [
        "n = 10\n",
        "print(9 + 7*10+2*(n-1),9 + 7*10+2.5*(n-1)*n)"
      ]
    },
    {
      "cell_type": "code",
      "execution_count": null,
      "metadata": {
        "colab": {
          "base_uri": "https://localhost:8080/"
        },
        "id": "mxIVvm1RK8dB",
        "outputId": "1a80affc-1a71-46fb-821c-43aa1be034b0"
      },
      "outputs": [
        {
          "name": "stdout",
          "output_type": "stream",
          "text": [
            "90\n"
          ]
        }
      ],
      "source": [
        "!g++ max_pairwise_product_long.cpp -o max_pairwise_product_long\n",
        "!./max_pairwise_product_long < input1.txt\n"
      ]
    },
    {
      "cell_type": "code",
      "execution_count": null,
      "metadata": {
        "colab": {
          "base_uri": "https://localhost:8080/"
        },
        "id": "jnIRWyUEDu_C",
        "outputId": "254747ca-98bd-401e-d166-db8ca3afbb6b"
      },
      "outputs": [
        {
          "name": "stdout",
          "output_type": "stream",
          "text": [
            "Writing max_pairwise_product.py\n"
          ]
        }
      ],
      "source": [
        "\n",
        "%%writefile max_pairwise_product.py\n",
        "n = int(input())                        #1\n",
        "list = input().split()                  #1\n",
        "list = [int(x) for x in list]           #n\n",
        "\n",
        "maxProduct = 0                          #1\n",
        "auxProduct = 0                          #1\n",
        "for i in range(0,n):                    #1+2n\n",
        "  for j in range(i+1,n):                #((n**2)-n)/2\n",
        "    if i!=j:                            #((n**2)-n)/2\n",
        "      auxProduct = list[i]*list[j]      #((n**2)-n)/2\n",
        "    if maxProduct < auxProduct:         #((n**2)-n)/2\n",
        "      maxProduct = auxProduct           #[0,((n**2)-n)/2] upper bound\n",
        "\n",
        "                                        # --------------\n",
        "print(maxProduct)"
      ]
    },
    {
      "cell_type": "markdown",
      "metadata": {
        "id": "EJ6hd1mznLP3"
      },
      "source": [
        "Testing with previous txts"
      ]
    },
    {
      "cell_type": "code",
      "execution_count": null,
      "metadata": {
        "id": "L2hJR1JvnOO1"
      },
      "outputs": [],
      "source": [
        "!chmod +x max_pairwise_product_py\n",
        "\n",
        "!python max_pairwise_product.py < input3.txt > output3.txt\n",
        "!python max_pairwise_product.py < input4.txt > output4.txt\n",
        "!python max_pairwise_product.py < input5.txt > output5.txt\n",
        "!python max_pairwise_product.py < input6.txt > output6.txt\n",
        "!python max_pairwise_product.py < input7.txt > output7.txt\n",
        "!python max_pairwise_product.py < input8.txt > output8.txt\n",
        "!python max_pairwise_product.py < input9.txt > output9.txt\n",
        "!python max_pairwise_product.py < input10.txt > output10.txt"
      ]
    },
    {
      "cell_type": "code",
      "execution_count": null,
      "metadata": {
        "colab": {
          "base_uri": "https://localhost:8080/"
        },
        "id": "oEUPNQqTnZDJ",
        "outputId": "857652f8-4d0d-4bc7-a83a-59a4fa028925"
      },
      "outputs": [
        {
          "name": "stdout",
          "output_type": "stream",
          "text": [
            "/bin/bash: line 1: inputPy.txt: No such file or directory\n",
            "Tiempo de ejecución en segundos: 0.10755348205566406\n",
            "Tiempo de ejecución en minutos: 0.0017925580342610678\n"
          ]
        }
      ],
      "source": [
        "import time\n",
        "\n",
        "start_time = time.time()\n",
        "!python max_pairwise_product.py < inputPy.txt\n",
        "\n",
        "end_time = time.time()\n",
        "execution_time = end_time - start_time\n",
        "print(f\"Tiempo de ejecución en segundos: {execution_time}\")\n",
        "print(f\"Tiempo de ejecución en minutos: {execution_time/60}\")"
      ]
    },
    {
      "cell_type": "markdown",
      "metadata": {
        "id": "S23Mz6KPoRj7"
      },
      "source": [
        "Program to count the number of steps it takes"
      ]
    },
    {
      "cell_type": "code",
      "execution_count": null,
      "metadata": {
        "colab": {
          "base_uri": "https://localhost:8080/"
        },
        "id": "02ikZsWeoQJr",
        "outputId": "bd9959cb-3345-4356-b2b4-5d2722a265a4"
      },
      "outputs": [
        {
          "name": "stdout",
          "output_type": "stream",
          "text": [
            "Writing max_pairwise_product_count.py\n"
          ]
        }
      ],
      "source": [
        "%%writefile max_pairwise_product_count.py\n",
        "op = 0\n",
        "xd =0\n",
        "n = int(input())                        #1\n",
        "op+=1\n",
        "list = input().split()                  #1\n",
        "op+=1\n",
        "list = [int(x) for x in list]           #n\n",
        "op += n\n",
        "\n",
        "maxProduct = 0                          #1\n",
        "op+=1\n",
        "auxProduct = 0                          #1\n",
        "op+=1\n",
        "for i in range(0,n):                    #1+2n\n",
        "  op+=1\n",
        "  op+=2\n",
        "  for j in range(i+1,n):                #((n**2)-n)/2\n",
        "    op+=1\n",
        "    if i!=j:                            #((n**2)-n)/2\n",
        "      auxProduct = list[i]*list[j]      #((n**2)-n)/2\n",
        "      op+=1\n",
        "      op+=1\n",
        "    op+=1\n",
        "    if maxProduct < auxProduct:         #n * (n - 1) / 2\n",
        "      maxProduct = auxProduct           #n * (n - 1) / 3\n",
        "      op+=1\n",
        "\n",
        "                                        # --------------For worst case\n",
        "print(\"Result: \"+str(maxProduct))\n",
        "print(\"Number of instructions: \"+str(op))                       #5 + 4n +2( n * (n - 1)) + (n * (n - 1) / 3)"
      ]
    },
    {
      "cell_type": "markdown",
      "metadata": {
        "id": "lc4Xi6liohGd"
      },
      "source": [
        "The number of instructions executed by the algorithm with a list of size $n$ is  \n",
        "\n",
        "$$T = 5 + 4n +2( n(n - 1)) + (n (n - 1) / 3)$$\n",
        "\n",
        "It depends on the size of the lists and  the order of the list.\n",
        "\n",
        "For the input1.txt\n",
        "```\n",
        "10\n",
        "1 2 3 4 5 6 7 8 9 10\n",
        "```\n",
        "$$T = 5 + (40) + 2(10)(9) + (90)/3  = 259$$"
      ]
    },
    {
      "cell_type": "code",
      "execution_count": null,
      "metadata": {
        "colab": {
          "base_uri": "https://localhost:8080/"
        },
        "id": "Sc4dgIKJolx4",
        "outputId": "9a49fb22-dfd6-45f6-f29e-275ac6babcf6"
      },
      "outputs": [
        {
          "name": "stdout",
          "output_type": "stream",
          "text": [
            "Result: 90\n",
            "Number of instructions: 254\n"
          ]
        }
      ],
      "source": [
        "!python max_pairwise_product_count.py < input1.txt"
      ]
    },
    {
      "cell_type": "markdown",
      "metadata": {
        "id": "r3fOAnnEoreC"
      },
      "source": [
        "The number of instructions executed by the algooirithm with a list of size $n$ is  \n",
        "\n",
        "$$T = 5 + 4n +2( n(n - 1)) + (n (n - 1) / 3)$$\n",
        "\n",
        "It depends on the size of the lists and  the order of the list.\n",
        "\n",
        "For the input13Py.txt with 20000 numbers\n",
        "\n",
        "$$T = 5 + (80000) + 2(20000)(19999) + (199990)/3  = 800106668$$"
      ]
    },
    {
      "cell_type": "code",
      "execution_count": null,
      "metadata": {
        "colab": {
          "base_uri": "https://localhost:8080/"
        },
        "id": "dpc6P6I0ovLE",
        "outputId": "7120320f-8b3b-4fa6-a46e-c8a157592bc9"
      },
      "outputs": [
        {
          "name": "stdout",
          "output_type": "stream",
          "text": [
            "Result: 399980000\n",
            "Number of instructions: 800261148\n"
          ]
        }
      ],
      "source": [
        "!python max_pairwise_product_count.py < input13Py.txt"
      ]
    },
    {
      "cell_type": "markdown",
      "metadata": {
        "id": "_dy2yyPKo2j6"
      },
      "source": [
        "Calculate estimated time by instruction and number of instructions by second"
      ]
    },
    {
      "cell_type": "code",
      "execution_count": null,
      "metadata": {
        "colab": {
          "base_uri": "https://localhost:8080/"
        },
        "id": "ZRo51a9_o4Wr",
        "outputId": "ea75afda-9ee6-46a8-9095-6e168bc25d66"
      },
      "outputs": [
        {
          "name": "stdout",
          "output_type": "stream",
          "text": [
            "\u001b[01m\u001b[Kcc1plus:\u001b[m\u001b[K \u001b[01;31m\u001b[Kfatal error: \u001b[m\u001b[Kmax_pairwise_product_long_count.cpp: No such file or directory\n",
            "compilation terminated.\n",
            "/bin/bash: line 1: ./max_pairwise_product_long_count: No such file or directory\n",
            "CPU times: user 10.4 ms, sys: 2.03 ms, total: 12.4 ms\n",
            "Wall time: 212 ms\n"
          ]
        }
      ],
      "source": [
        "%%time\n",
        "!g++ max_pairwise_product_long_count.cpp -o max_pairwise_product_long_count\n",
        "!./max_pairwise_product_long_count < input1.txt\n"
      ]
    },
    {
      "cell_type": "code",
      "execution_count": null,
      "metadata": {
        "colab": {
          "base_uri": "https://localhost:8080/"
        },
        "id": "8bScajggo9Cz",
        "outputId": "2864116b-de68-4071-bcc8-edf1cfcbbe41"
      },
      "outputs": [
        {
          "name": "stdout",
          "output_type": "stream",
          "text": [
            "Result: 90\n",
            "Number of instructions: 254\n",
            "CPU times: user 4.15 ms, sys: 2.13 ms, total: 6.28 ms\n",
            "Wall time: 106 ms\n"
          ]
        }
      ],
      "source": [
        "%%time\n",
        "!python max_pairwise_product_count.py < input1.txt"
      ]
    },
    {
      "cell_type": "code",
      "execution_count": null,
      "metadata": {
        "colab": {
          "base_uri": "https://localhost:8080/"
        },
        "id": "J242SqWtpBZe",
        "outputId": "1d795403-a53a-4b48-f109-e1b59e3ca036"
      },
      "outputs": [
        {
          "name": "stdout",
          "output_type": "stream",
          "text": [
            "Time per instruction C++: 5.800865800865801e-05\n",
            "Instructions per second C++: 17238.805970149253\n",
            "Time per instruction Python: 1.7716535433070864e-05\n",
            "Instructions per second Python: 56444.44444444445\n"
          ]
        }
      ],
      "source": [
        "time_per_ins = 0.0134 / 231\n",
        "instructions_per_second = 1 / time_per_ins\n",
        "print(f\"Time per instruction C++: {time_per_ins}\")\n",
        "print(f\"Instructions per second C++: {instructions_per_second}\")\n",
        "time_per_ins = 0.0045 / 254\n",
        "instructions_per_second = 1 / time_per_ins\n",
        "print(f\"Time per instruction Python: {time_per_ins}\")\n",
        "print(f\"Instructions per second Python: {instructions_per_second}\")"
      ]
    },
    {
      "cell_type": "markdown",
      "metadata": {
        "id": "WLFS_dlApKlM"
      },
      "source": [
        "**If we replace T in the previous equations we have:**\n",
        "\n",
        "Max n that c++ program can solve in a second: 82.12\n",
        "\n",
        "Max n that python program can solve in a second: 154.95"
      ]
    },
    {
      "cell_type": "markdown",
      "metadata": {
        "id": "Ve-eNiFlpUFF"
      },
      "source": [
        "### Sort solution in C++ and Python\n",
        "\n",
        "$$ O(n \\lg n)$$\n",
        "\n",
        "**Which sorting algorithm is used in GCC?**\n",
        "https://stackoverflow.com/questions/7221257/which-sorting-algorithm-is-used-in-gcc\n",
        "\n",
        "* ...  the algorithm is called introsort, a combination between Insertionsort, Quicksort & Heapsort. ...\n",
        "\n",
        "**Introsort**\n",
        "https://en.wikipedia.org/wiki/Introsort\n",
        "\n",
        "Introsort or introspective sort is a hybrid sorting algorithm that provides both fast average performance and (asymptotically) optimal worst-case performance. It begins with quicksort, it switches to heapsort when the recursion depth exceeds a level based on (the logarithm of) the number of elements being sorted and it switches to insertion sort when the number of elements is below some threshold\n",
        "\n",
        "*   Class\tSorting algorithm\n",
        "*   Data structure\tArray\n",
        "*   Worst-case performance\t$O(n \\lg n)$\n",
        "*   Average performance\t$O(n \\lg n)$\n",
        "\n",
        "**Tinsort**\n",
        "https://en.wikipedia.org/wiki/Timsort\n",
        "\n",
        "Timsort is a hybrid, stable sorting algorithm, derived from merge sort and insertion sort, designed to perform well on many kinds of real-world data. It was implemented by Tim Peters in 2002 for use in the Python programming language.\n",
        "\n",
        "*   Class\tSorting algorithm\n",
        "*   Data structure\tArray\n",
        "*   Worst-case performance\t$O(n \\lg n)$\n",
        "*   Best-case performance $O(n)$\n",
        "*   Average performance\t$O(n \\lg n)$\n",
        "*   Worst-case space complexity $O(n)$"
      ]
    },
    {
      "cell_type": "markdown",
      "metadata": {
        "id": "XDFrMJ3tpb7A"
      },
      "source": [
        "Add in each line a coment with the number of intstrcution that are executed in that line"
      ]
    },
    {
      "cell_type": "code",
      "execution_count": null,
      "metadata": {
        "colab": {
          "base_uri": "https://localhost:8080/"
        },
        "id": "MHRuGlK3pdrW",
        "outputId": "6c38f5fe-ba64-460e-b0af-9d8928f235f1"
      },
      "outputs": [
        {
          "name": "stdout",
          "output_type": "stream",
          "text": [
            "Overwriting max_pairwise_sort_nlogn.cpp\n"
          ]
        }
      ],
      "source": [
        "%%writefile max_pairwise_sort_nlogn.cpp\n",
        "#include <iostream>\n",
        "#include <vector>\n",
        "#include <algorithm>\n",
        "\n",
        "using namespace std;\n",
        "\n",
        "int main() {\n",
        "    cout << \"C++\" << \"\\n\";\n",
        "    int n;                                     // 1\n",
        "    cin >> n;                                  // 1\n",
        "    vector<int> numbers(n);                    // n\n",
        "\n",
        "    for (int i = 0; i < n; ++i) {              //1 + 2n\n",
        "        cin >> numbers[i];                     // 1\n",
        "    }\n",
        "\n",
        "    sort(numbers.begin(), numbers.end());      // n*long\n",
        "    cout <<  \"Product: \" << numbers[numbers.size() - 1] * numbers[numbers.size() - 2] << \"\\n\"; // 1\n",
        "    return 0;                                  // 1\n",
        "}"
      ]
    },
    {
      "cell_type": "code",
      "execution_count": null,
      "metadata": {
        "colab": {
          "base_uri": "https://localhost:8080/"
        },
        "id": "hHbsPkRepwow",
        "outputId": "477533fb-a187-4239-f946-963d4a02ce36"
      },
      "outputs": [
        {
          "name": "stdout",
          "output_type": "stream",
          "text": [
            "Writing max_pairwise_sort_nlogn.py\n"
          ]
        }
      ],
      "source": [
        "%%writefile max_pairwise_sort_nlogn.py\n",
        "print(\"Python 3\")\n",
        "# Read input values\n",
        "n = int(input())              # 1\n",
        "numbers = list(map(int, input().split()))  # n\n",
        "\n",
        "# Sort the list\n",
        "numbers.sort()                # n*log(n)\n",
        "\n",
        "# Calculate the maximum pairwise product\n",
        "result = numbers[-1] * numbers[-2]  # 1\n",
        "\n",
        "# Print the result\n",
        "print(f\"Product: {result}\")"
      ]
    },
    {
      "cell_type": "markdown",
      "metadata": {
        "id": "v8pdV9ABOb_k"
      },
      "source": [
        "Test with inputs 1 and 2\n",
        "\n"
      ]
    },
    {
      "cell_type": "code",
      "execution_count": null,
      "metadata": {
        "colab": {
          "base_uri": "https://localhost:8080/"
        },
        "id": "kdXAyLG4Ob_k",
        "outputId": "38c47737-d625-4407-b1de-9264480d5257"
      },
      "outputs": [
        {
          "name": "stdout",
          "output_type": "stream",
          "text": [
            "C++\n",
            "Product: 90\n",
            "C++\n",
            "Product: 90\n",
            "Python 3\n",
            "Product: 90\n",
            "Python 3\n",
            "Product: 90\n"
          ]
        }
      ],
      "source": [
        "!g++ max_pairwise_sort_nlogn.cpp -o max_pairwise_sort_nlogn\n",
        "!./max_pairwise_sort_nlogn < input1.txt\n",
        "!./max_pairwise_sort_nlogn < input2.txt\n",
        "!python max_pairwise_sort_nlogn.py < input1.txt\n",
        "!python max_pairwise_sort_nlogn.py < input2.txt"
      ]
    },
    {
      "cell_type": "markdown",
      "metadata": {
        "id": "Sw-5X1q1Ob_k"
      },
      "source": [
        "Test and time it with input 3"
      ]
    },
    {
      "cell_type": "code",
      "execution_count": null,
      "metadata": {
        "colab": {
          "base_uri": "https://localhost:8080/"
        },
        "id": "ryHJ30WIOb_k",
        "outputId": "7ed32a2e-33e4-4a78-a52d-514a00fcb3f5"
      },
      "outputs": [
        {
          "name": "stdout",
          "output_type": "stream",
          "text": [
            "C++\n",
            "Product: 6062020\n"
          ]
        }
      ],
      "source": [
        "!g++ max_pairwise_sort_nlogn.cpp -o max_pairwise_sort_nlogn\n",
        "!./max_pairwise_sort_nlogn < input3.txt"
      ]
    },
    {
      "cell_type": "markdown",
      "metadata": {
        "id": "oJGdPl1HOb_k"
      },
      "source": [
        "20 stress tests"
      ]
    },
    {
      "cell_type": "code",
      "execution_count": null,
      "metadata": {
        "id": "pXHtO1dEOb_k"
      },
      "outputs": [],
      "source": [
        "#CREATE 20 random texts\n",
        "import random\n",
        "\n",
        "for i in range(1,21):\n",
        "    fileName = f\"stress_input_{i}.txt\"\n",
        "\n",
        "    with open(fileName, \"w\") as file:\n",
        "      n = random.randint(3, 40)\n",
        "      file.write(f\"{n}\"+ \"\\n\")\n",
        "      for i in range(1,n):\n",
        "          file.write(str(random.randint(1, 100)) + \" \")"
      ]
    },
    {
      "cell_type": "code",
      "execution_count": null,
      "metadata": {
        "colab": {
          "base_uri": "https://localhost:8080/"
        },
        "id": "Cbz0XN3sqdWg",
        "outputId": "b7bc249e-d193-4e74-e9ff-5771407c0f80"
      },
      "outputs": [
        {
          "name": "stdout",
          "output_type": "stream",
          "text": [
            "C++\n",
            "Product: 9900\n",
            "C++\n",
            "Product: 9801\n",
            "C++\n",
            "Product: 68\n",
            "C++\n",
            "Product: 9603\n",
            "C++\n",
            "Product: 7614\n",
            "C++\n",
            "Product: 5994\n",
            "C++\n",
            "Product: 4980\n",
            "C++\n",
            "Product: 6408\n",
            "C++\n",
            "Product: 9207\n",
            "C++\n",
            "Product: 7650\n",
            "C++\n",
            "Product: 8648\n",
            "C++\n",
            "Product: 8556\n",
            "C++\n",
            "Product: 9408\n",
            "C++\n",
            "Product: 7722\n",
            "C++\n",
            "Product: 9603\n",
            "C++\n",
            "Product: 9604\n",
            "C++\n",
            "Product: 9408\n",
            "C++\n",
            "Product: 9312\n",
            "C++\n",
            "Product: 7392\n",
            "C++\n",
            "Product: 9408\n"
          ]
        }
      ],
      "source": [
        "!g++ max_pairwise_sort_nlogn.cpp -o max_pairwise_sort_nlogn\n",
        "!./max_pairwise_sort_nlogn < stress_input_1.txt\n",
        "!./max_pairwise_sort_nlogn < stress_input_2.txt\n",
        "!./max_pairwise_sort_nlogn < stress_input_3.txt\n",
        "!./max_pairwise_sort_nlogn < stress_input_4.txt\n",
        "!./max_pairwise_sort_nlogn < stress_input_5.txt\n",
        "!./max_pairwise_sort_nlogn < stress_input_6.txt\n",
        "!./max_pairwise_sort_nlogn < stress_input_7.txt\n",
        "!./max_pairwise_sort_nlogn < stress_input_8.txt\n",
        "!./max_pairwise_sort_nlogn < stress_input_9.txt\n",
        "!./max_pairwise_sort_nlogn < stress_input_10.txt\n",
        "!./max_pairwise_sort_nlogn < stress_input_11.txt\n",
        "!./max_pairwise_sort_nlogn < stress_input_12.txt\n",
        "!./max_pairwise_sort_nlogn < stress_input_13.txt\n",
        "!./max_pairwise_sort_nlogn < stress_input_14.txt\n",
        "!./max_pairwise_sort_nlogn < stress_input_15.txt\n",
        "!./max_pairwise_sort_nlogn < stress_input_16.txt\n",
        "!./max_pairwise_sort_nlogn < stress_input_17.txt\n",
        "!./max_pairwise_sort_nlogn < stress_input_18.txt\n",
        "!./max_pairwise_sort_nlogn < stress_input_19.txt\n",
        "!./max_pairwise_sort_nlogn < stress_input_20.txt"
      ]
    },
    {
      "cell_type": "code",
      "execution_count": null,
      "metadata": {
        "colab": {
          "base_uri": "https://localhost:8080/"
        },
        "id": "R0xSo6Ceqflm",
        "outputId": "f1c3faef-ec2e-4b58-ff95-71db53c0f56d"
      },
      "outputs": [
        {
          "name": "stdout",
          "output_type": "stream",
          "text": [
            "Python 3\n",
            "Product: 9900\n",
            "Python 3\n",
            "Product: 9801\n",
            "Python 3\n",
            "Product: 68\n",
            "Python 3\n",
            "Product: 9603\n",
            "Python 3\n",
            "Product: 7614\n",
            "Python 3\n",
            "Product: 5994\n",
            "Python 3\n",
            "Product: 4980\n",
            "Python 3\n",
            "Product: 6408\n",
            "Python 3\n",
            "Product: 9207\n",
            "Python 3\n",
            "Product: 7650\n",
            "Python 3\n",
            "Product: 8648\n",
            "Python 3\n",
            "Product: 8556\n",
            "Python 3\n",
            "Product: 9408\n",
            "Python 3\n",
            "Product: 7722\n",
            "Python 3\n",
            "Product: 9603\n",
            "Python 3\n",
            "Product: 9604\n",
            "Python 3\n",
            "Product: 9408\n",
            "Python 3\n",
            "Product: 9312\n",
            "Python 3\n",
            "Product: 7392\n",
            "Python 3\n",
            "Product: 9408\n"
          ]
        }
      ],
      "source": [
        "!python max_pairwise_sort_nlogn.py < stress_input_1.txt\n",
        "!python max_pairwise_sort_nlogn.py < stress_input_2.txt\n",
        "!python max_pairwise_sort_nlogn.py < stress_input_3.txt\n",
        "!python max_pairwise_sort_nlogn.py < stress_input_4.txt\n",
        "!python max_pairwise_sort_nlogn.py < stress_input_5.txt\n",
        "!python max_pairwise_sort_nlogn.py < stress_input_6.txt\n",
        "!python max_pairwise_sort_nlogn.py < stress_input_7.txt\n",
        "!python max_pairwise_sort_nlogn.py < stress_input_8.txt\n",
        "!python max_pairwise_sort_nlogn.py < stress_input_9.txt\n",
        "!python max_pairwise_sort_nlogn.py < stress_input_10.txt\n",
        "!python max_pairwise_sort_nlogn.py < stress_input_11.txt\n",
        "!python max_pairwise_sort_nlogn.py < stress_input_12.txt\n",
        "!python max_pairwise_sort_nlogn.py < stress_input_13.txt\n",
        "!python max_pairwise_sort_nlogn.py < stress_input_14.txt\n",
        "!python max_pairwise_sort_nlogn.py < stress_input_15.txt\n",
        "!python max_pairwise_sort_nlogn.py < stress_input_16.txt\n",
        "!python max_pairwise_sort_nlogn.py < stress_input_17.txt\n",
        "!python max_pairwise_sort_nlogn.py < stress_input_18.txt\n",
        "!python max_pairwise_sort_nlogn.py < stress_input_19.txt\n",
        "!python max_pairwise_sort_nlogn.py < stress_input_20.txt"
      ]
    },
    {
      "cell_type": "markdown",
      "metadata": {
        "id": "2beTmWFPOb_k"
      },
      "source": [
        "Count executed instructions in code and verify with inputs 1,2 and 3\n"
      ]
    },
    {
      "cell_type": "code",
      "execution_count": null,
      "metadata": {
        "colab": {
          "base_uri": "https://localhost:8080/"
        },
        "id": "iuByv4x1Ob_k",
        "outputId": "ede7e6ee-cf57-42fb-cbb0-341c6b829576"
      },
      "outputs": [
        {
          "name": "stdout",
          "output_type": "stream",
          "text": [
            "Writing max_pairwise_sort_nlogn_count.cpp\n"
          ]
        }
      ],
      "source": [
        "%%writefile max_pairwise_sort_nlogn_count.cpp\n",
        "#include <iostream>\n",
        "#include <vector>\n",
        "#include <algorithm>\n",
        "#include <bits/stdc++.h>\n",
        "\n",
        "using namespace std;\n",
        "\n",
        "int main() {\n",
        "    cout << \"C++\" << \"\\n\";\n",
        "\n",
        "    uint64_t execints = 0;\n",
        "\n",
        "    int n;                                     // 1\n",
        "    execints++;\n",
        "    cin >> n;                                  // 1\n",
        "    execints++;\n",
        "    vector<int> numbers(n);                    // n\n",
        "    execints += n;\n",
        "\n",
        "    for (int i = 0; i < n; ++i) {              //1 + 2n\n",
        "        execints += 2;\n",
        "        cin >> numbers[i];                     // 1\n",
        "        execints++;\n",
        "    }\n",
        "\n",
        "    sort(numbers.begin(), numbers.end());      // n*long\n",
        "\n",
        "    execints += n * log2(n);\n",
        "\n",
        "    cout <<  numbers[n - 1] * numbers[n - 2] << \"\\n\"; // 3\n",
        "\n",
        "    execints += 3;\n",
        "\n",
        "    cout << \"Executed instructions: \" << execints << \"\\n\";\n",
        "\n",
        "    return 0;                                  // 1\n",
        "}"
      ]
    },
    {
      "cell_type": "code",
      "execution_count": null,
      "metadata": {
        "colab": {
          "base_uri": "https://localhost:8080/"
        },
        "id": "4C8SFpxIqt7J",
        "outputId": "e60c5cd0-6cd8-4a0e-fdf8-cfd7fdbaddb4"
      },
      "outputs": [
        {
          "name": "stdout",
          "output_type": "stream",
          "text": [
            "Writing max_pairwise_sort_nlogn_count.py\n"
          ]
        }
      ],
      "source": [
        "%%writefile max_pairwise_sort_nlogn_count.py\n",
        "\n",
        "import math\n",
        "\n",
        "print(\"Python 3\")\n",
        "\n",
        "# Read input values\n",
        "\n",
        "execints = 0\n",
        "n = int(input())              # 1\n",
        "\n",
        "execints += 1\n",
        "numbers = list(map(int, input().split()))  # 4n (n input read + map o(n) + create list + cast to int values)\n",
        "\n",
        "execints += 4 * n\n",
        "\n",
        "# Sort the list\n",
        "numbers.sort()                # n*log(n)\n",
        "\n",
        "execints += math.log2(n)\n",
        "\n",
        "# Calculate the maximum pairwise product\n",
        "result = numbers[-1] * numbers[-2]  # 3\n",
        "\n",
        "execints += 3\n",
        "\n",
        "# Print the result\n",
        "print(f\"Executed instructions: {int(execints)}\")\n"
      ]
    },
    {
      "cell_type": "code",
      "execution_count": null,
      "metadata": {
        "colab": {
          "base_uri": "https://localhost:8080/"
        },
        "id": "22Qit08Cq-bi",
        "outputId": "a93d3540-4762-447c-d3d9-13a6e59d2afb"
      },
      "outputs": [
        {
          "name": "stdout",
          "output_type": "stream",
          "text": [
            "C++\n",
            "90\n",
            "Executed instructions: 78\n",
            "C++\n",
            "90\n",
            "Executed instructions: 78\n",
            "C++\n",
            "6062020\n",
            "Executed instructions: 44\n",
            "Python 3\n",
            "Executed instructions: 47\n",
            "Python 3\n",
            "Executed instructions: 47\n",
            "Python 3\n",
            "Executed instructions: 30\n"
          ]
        }
      ],
      "source": [
        "!g++ max_pairwise_sort_nlogn_count.cpp -o max_pairwise_sort_nlogn_count\n",
        "!./max_pairwise_sort_nlogn_count < input1.txt\n",
        "!./max_pairwise_sort_nlogn_count < input2.txt\n",
        "!./max_pairwise_sort_nlogn_count < input3.txt\n",
        "!python max_pairwise_sort_nlogn_count.py < input1.txt\n",
        "!python max_pairwise_sort_nlogn_count.py < input2.txt\n",
        "!python max_pairwise_sort_nlogn_count.py < input3.txt"
      ]
    },
    {
      "cell_type": "markdown",
      "metadata": {
        "id": "x2CXhkwTOb_l"
      },
      "source": [
        "Calculate estimated time by instruction and number of instructions by second"
      ]
    },
    {
      "cell_type": "code",
      "execution_count": null,
      "metadata": {
        "colab": {
          "base_uri": "https://localhost:8080/"
        },
        "id": "nTjxyTMtOb_l",
        "outputId": "9357dbcd-d196-4cb1-f168-9b4a85777457"
      },
      "outputs": [
        {
          "name": "stdout",
          "output_type": "stream",
          "text": [
            "C++\n",
            "90\n",
            "Executed instructions: 78\n",
            "CPU times: user 24.4 ms, sys: 1.96 ms, total: 26.4 ms\n",
            "Wall time: 1.92 s\n"
          ]
        }
      ],
      "source": [
        "%%time\n",
        "!g++ max_pairwise_sort_nlogn_count.cpp -o max_pairwise_sort_nlogn_count\n",
        "!./max_pairwise_sort_nlogn_count < input1.txt"
      ]
    },
    {
      "cell_type": "code",
      "execution_count": null,
      "metadata": {
        "colab": {
          "base_uri": "https://localhost:8080/"
        },
        "id": "8nD0upA_rJZA",
        "outputId": "7c5d38e6-13b8-490a-8c52-8690f1f70d38"
      },
      "outputs": [
        {
          "name": "stdout",
          "output_type": "stream",
          "text": [
            "Python 3\n",
            "Executed instructions: 47\n",
            "CPU times: user 7.09 ms, sys: 0 ns, total: 7.09 ms\n",
            "Wall time: 107 ms\n"
          ]
        }
      ],
      "source": [
        "%%time\n",
        "!python max_pairwise_sort_nlogn_count.py < input1.txt"
      ]
    },
    {
      "cell_type": "code",
      "execution_count": null,
      "metadata": {
        "colab": {
          "base_uri": "https://localhost:8080/"
        },
        "id": "SEEL2g6-rNj2",
        "outputId": "9c65b321-fcfd-4d68-f347-a758f2993f44"
      },
      "outputs": [
        {
          "name": "stdout",
          "output_type": "stream",
          "text": [
            "Time per instruction C++: 0.0003205128205128205\n",
            "Instructions per second C++: 3120.0\n",
            "Time per instruction Python: 0.00014914893617021276\n",
            "Instructions per second Python: 6704.707560627675\n"
          ]
        }
      ],
      "source": [
        "time_per_ins = 0.025 / 78\n",
        "instructions_per_second = 1 / time_per_ins\n",
        "print(f\"Time per instruction C++: {time_per_ins}\")\n",
        "print(f\"Instructions per second C++: {instructions_per_second}\")\n",
        "time_per_ins = 0.00701 / 47\n",
        "instructions_per_second = 1 / time_per_ins\n",
        "print(f\"Time per instruction Python: {time_per_ins}\")\n",
        "print(f\"Instructions per second Python: {instructions_per_second}\")"
      ]
    },
    {
      "cell_type": "markdown",
      "metadata": {
        "id": "VMKC5duEOQfk"
      },
      "source": [
        "## Efficient solution with largest and second-largest in an list, array or vector in C++ and Python\n",
        "\n",
        " $$T(n) < 10 n  = O(n)$$\n",
        "\n",
        "\n",
        "\n"
      ]
    },
    {
      "cell_type": "markdown",
      "metadata": {
        "id": "nLcKBwbU0QsE"
      },
      "source": [
        "Add in each line a coment with the number of intstrcution that are executed in that line"
      ]
    },
    {
      "cell_type": "code",
      "execution_count": null,
      "metadata": {
        "colab": {
          "base_uri": "https://localhost:8080/"
        },
        "id": "knls5Fh3NSt_",
        "outputId": "0a30ea46-1341-4fda-a427-2ab254948984"
      },
      "outputs": [
        {
          "name": "stdout",
          "output_type": "stream",
          "text": [
            "Writing max_pairwise_sort_efficient.cpp\n"
          ]
        }
      ],
      "source": [
        "%%writefile max_pairwise_sort_efficient.cpp\n",
        "#include <iostream>\n",
        "#include <vector>\n",
        "#include <algorithm>\n",
        "#include <limits.h>\n",
        "\n",
        "using namespace std;\n",
        "\n",
        "int main() {\n",
        "    cout << \"--- C++ ---\" << \"\\n\";\n",
        "    int n;                                     // 1\n",
        "    cin >> n;                                  // 1\n",
        "    int maxNumber = INT_MIN;                   // 1\n",
        "    int secondMaxNumber = INT_MIN;             // 1\n",
        "\n",
        "    vector<int> numbers(n);                    // n\n",
        "\n",
        "    for (int i = 0; i < n; ++i) {              // 1 + 2n\n",
        "        cin >> numbers[i];                     // n\n",
        "    }\n",
        "\n",
        "\n",
        "    for (int i = 0; i < n; ++i) {              //1 + 2n\n",
        "        int aux = numbers[i];                           // n\n",
        "\n",
        "        if (aux > maxNumber){                  // n\n",
        "          secondMaxNumber = maxNumber;         // [0, n] in the worst case it would be n times\n",
        "          maxNumber = aux;                     // [0, n] in the worst case it would be n times\n",
        "\n",
        "        } else if (aux > secondMaxNumber) {    // n\n",
        "          secondMaxNumber = aux;               // [0, n] in the worst case it would be n times\n",
        "        }\n",
        "\n",
        "    }\n",
        "\n",
        "    cout <<  \"Product: \" << maxNumber * secondMaxNumber << \"\\n\"; // 1\n",
        "    return 0;                                  // 1\n",
        "}"
      ]
    },
    {
      "cell_type": "code",
      "execution_count": null,
      "metadata": {
        "colab": {
          "base_uri": "https://localhost:8080/"
        },
        "id": "L8o_jv-erjzU",
        "outputId": "79c64382-1cfb-4059-c636-55c6f961b7c5"
      },
      "outputs": [
        {
          "name": "stdout",
          "output_type": "stream",
          "text": [
            "Writing max_pairwise_sort_efficient.py\n"
          ]
        }
      ],
      "source": [
        "%%writefile max_pairwise_sort_efficient.py\n",
        "print(\"--- Python ---\")\n",
        "n = int(input())\n",
        "numbers = list(map(int, input().split()))\n",
        "\n",
        "max_number = float(\"-inf\")                   # 1\n",
        "second_max_number = float(\"-inf\")            # 1\n",
        "\n",
        "for num in numbers:                          # 1 + 2n\n",
        "    if num > max_number:                     # n\n",
        "        second_max_number = max_number       # [0, n] in the worst case it would be n times\n",
        "        max_number = num                     # [0, n] in the worst case it would be n times\n",
        "    elif num > second_max_number:            # n\n",
        "        second_max_number = num              # [0, n] in the worst case it would be n times\n",
        "\n",
        "product = max_number * second_max_number     # 1\n",
        "print(f\"Product: {product}\")                 # 1"
      ]
    },
    {
      "cell_type": "markdown",
      "metadata": {
        "id": "-JCijbWxNSii"
      },
      "source": [
        "Test with inputs 1 and 2\n",
        "\n"
      ]
    },
    {
      "cell_type": "code",
      "execution_count": null,
      "metadata": {
        "colab": {
          "base_uri": "https://localhost:8080/"
        },
        "id": "TrTGAfqlNVXT",
        "outputId": "3d9a74e3-14ad-4f9b-a719-7d7e28cf2833"
      },
      "outputs": [
        {
          "name": "stdout",
          "output_type": "stream",
          "text": [
            "--- C++ ---\n",
            "Product: 90\n",
            "--- C++ ---\n",
            "Product: 90\n",
            "--- Python ---\n",
            "Product: 90\n",
            "--- Python ---\n",
            "Product: 90\n"
          ]
        }
      ],
      "source": [
        "!g++ max_pairwise_sort_efficient.cpp -o max_pairwise_sort_efficient\n",
        "!./max_pairwise_sort_efficient < input1.txt\n",
        "!./max_pairwise_sort_efficient < input2.txt\n",
        "! python max_pairwise_sort_efficient.py < input1.txt\n",
        "! python max_pairwise_sort_efficient.py < input2.txt"
      ]
    },
    {
      "cell_type": "markdown",
      "metadata": {
        "id": "PRX51wADNR8b"
      },
      "source": [
        "Test and time it with input 3"
      ]
    },
    {
      "cell_type": "code",
      "execution_count": null,
      "metadata": {
        "colab": {
          "base_uri": "https://localhost:8080/"
        },
        "id": "v4z7-Is_NRt7",
        "outputId": "7876924f-2331-4f76-df6d-6451471a40b5"
      },
      "outputs": [
        {
          "name": "stdout",
          "output_type": "stream",
          "text": [
            "--- C++ ---\n",
            "Product: 6062020\n",
            "--- Python ---\n",
            "Product: 6062020\n"
          ]
        }
      ],
      "source": [
        "!g++ max_pairwise_sort_efficient.cpp -o max_pairwise_sort_efficient\n",
        "!./max_pairwise_sort_efficient < input3.txt\n",
        "! python max_pairwise_sort_efficient.py < input3.txt\n"
      ]
    },
    {
      "cell_type": "markdown",
      "metadata": {
        "id": "rpdfs0_TNZJf"
      },
      "source": [
        "20 stress tests"
      ]
    },
    {
      "cell_type": "code",
      "execution_count": null,
      "metadata": {
        "id": "Lu4tYcKzNcTT"
      },
      "outputs": [],
      "source": [
        "#CREATE 20 random texts\n",
        "import random\n",
        "\n",
        "for i in range(1,21):\n",
        "    fileName = f\"stress_input_{i}.txt\"\n",
        "\n",
        "    with open(fileName, \"w\") as file:\n",
        "      n = random.randint(3, 40)\n",
        "      file.write(f\"{n}\"+ \"\\n\")\n",
        "      for i in range(1,n):\n",
        "          file.write(str(random.randint(1, 100)) + \" \")"
      ]
    },
    {
      "cell_type": "code",
      "execution_count": null,
      "metadata": {
        "colab": {
          "base_uri": "https://localhost:8080/"
        },
        "id": "ZLpL7oHssFqW",
        "outputId": "0c359c34-3e44-433c-ef89-e22537cf22f9"
      },
      "outputs": [
        {
          "name": "stdout",
          "output_type": "stream",
          "text": [
            "--- C++ ---\n",
            "Product: 8188\n",
            "--- C++ ---\n",
            "Product: 7832\n",
            "--- C++ ---\n",
            "Product: 9900\n",
            "--- C++ ---\n",
            "Product: 9312\n",
            "--- C++ ---\n",
            "Product: 1824\n",
            "--- C++ ---\n",
            "Product: 7830\n",
            "--- C++ ---\n",
            "Product: 7905\n",
            "--- C++ ---\n",
            "Product: 8448\n",
            "--- C++ ---\n",
            "Product: 4920\n",
            "--- C++ ---\n",
            "Product: 9021\n",
            "--- C++ ---\n",
            "Product: 7426\n",
            "--- C++ ---\n",
            "Product: 1488\n",
            "--- C++ ---\n",
            "Product: 9801\n",
            "--- C++ ---\n",
            "Product: 8918\n",
            "--- C++ ---\n",
            "Product: 9702\n",
            "--- C++ ---\n",
            "Product: 8448\n",
            "--- C++ ---\n",
            "Product: 588\n",
            "--- C++ ---\n",
            "Product: 6545\n",
            "--- C++ ---\n",
            "Product: 10000\n",
            "--- C++ ---\n",
            "Product: 9312\n"
          ]
        }
      ],
      "source": [
        "!g++ max_pairwise_sort_efficient.cpp -o max_pairwise_sort_efficient\n",
        "!./max_pairwise_sort_efficient < stress_input_1.txt\n",
        "!./max_pairwise_sort_efficient < stress_input_2.txt\n",
        "!./max_pairwise_sort_efficient < stress_input_3.txt\n",
        "!./max_pairwise_sort_efficient < stress_input_4.txt\n",
        "!./max_pairwise_sort_efficient < stress_input_5.txt\n",
        "!./max_pairwise_sort_efficient < stress_input_6.txt\n",
        "!./max_pairwise_sort_efficient < stress_input_7.txt\n",
        "!./max_pairwise_sort_efficient < stress_input_8.txt\n",
        "!./max_pairwise_sort_efficient < stress_input_9.txt\n",
        "!./max_pairwise_sort_efficient < stress_input_10.txt\n",
        "!./max_pairwise_sort_efficient < stress_input_11.txt\n",
        "!./max_pairwise_sort_efficient < stress_input_12.txt\n",
        "!./max_pairwise_sort_efficient < stress_input_13.txt\n",
        "!./max_pairwise_sort_efficient < stress_input_14.txt\n",
        "!./max_pairwise_sort_efficient < stress_input_15.txt\n",
        "!./max_pairwise_sort_efficient < stress_input_16.txt\n",
        "!./max_pairwise_sort_efficient < stress_input_17.txt\n",
        "!./max_pairwise_sort_efficient < stress_input_18.txt\n",
        "!./max_pairwise_sort_efficient < stress_input_19.txt\n",
        "!./max_pairwise_sort_efficient < stress_input_20.txt"
      ]
    },
    {
      "cell_type": "code",
      "execution_count": null,
      "metadata": {
        "colab": {
          "base_uri": "https://localhost:8080/"
        },
        "id": "v52ofxumsH1r",
        "outputId": "bac202a1-7bc6-4ca9-d745-6f62f385b6a2"
      },
      "outputs": [
        {
          "name": "stdout",
          "output_type": "stream",
          "text": [
            "--- Python ---\n",
            "Product: 8188\n",
            "--- Python ---\n",
            "Product: 7832\n",
            "--- Python ---\n",
            "Product: 9900\n",
            "--- Python ---\n",
            "Product: 9312\n",
            "--- Python ---\n",
            "Product: 1824\n",
            "--- Python ---\n",
            "Product: 7830\n",
            "--- Python ---\n",
            "Product: 7905\n",
            "--- Python ---\n",
            "Product: 8448\n",
            "--- Python ---\n",
            "Product: 4920\n",
            "--- Python ---\n",
            "Product: 9021\n",
            "--- Python ---\n",
            "Product: 7426\n",
            "--- Python ---\n",
            "Product: 1488\n",
            "--- Python ---\n",
            "Product: 9801\n",
            "--- Python ---\n",
            "Product: 8918\n",
            "--- Python ---\n",
            "Product: 9702\n",
            "--- Python ---\n",
            "Product: 8448\n",
            "--- Python ---\n",
            "Product: 588\n",
            "--- Python ---\n",
            "Product: 6545\n",
            "--- Python ---\n",
            "Product: 10000\n",
            "--- Python ---\n",
            "Product: 9312\n"
          ]
        }
      ],
      "source": [
        "! python max_pairwise_sort_efficient.py < stress_input_1.txt\n",
        "! python max_pairwise_sort_efficient.py < stress_input_2.txt\n",
        "! python max_pairwise_sort_efficient.py < stress_input_3.txt\n",
        "! python max_pairwise_sort_efficient.py < stress_input_4.txt\n",
        "! python max_pairwise_sort_efficient.py < stress_input_5.txt\n",
        "! python max_pairwise_sort_efficient.py < stress_input_6.txt\n",
        "! python max_pairwise_sort_efficient.py < stress_input_7.txt\n",
        "! python max_pairwise_sort_efficient.py < stress_input_8.txt\n",
        "! python max_pairwise_sort_efficient.py < stress_input_9.txt\n",
        "! python max_pairwise_sort_efficient.py < stress_input_10.txt\n",
        "! python max_pairwise_sort_efficient.py < stress_input_11.txt\n",
        "! python max_pairwise_sort_efficient.py < stress_input_12.txt\n",
        "! python max_pairwise_sort_efficient.py < stress_input_13.txt\n",
        "! python max_pairwise_sort_efficient.py < stress_input_14.txt\n",
        "! python max_pairwise_sort_efficient.py < stress_input_15.txt\n",
        "! python max_pairwise_sort_efficient.py < stress_input_16.txt\n",
        "! python max_pairwise_sort_efficient.py < stress_input_17.txt\n",
        "! python max_pairwise_sort_efficient.py < stress_input_18.txt\n",
        "! python max_pairwise_sort_efficient.py < stress_input_19.txt\n",
        "! python max_pairwise_sort_efficient.py < stress_input_20.txt\n"
      ]
    },
    {
      "cell_type": "markdown",
      "metadata": {
        "id": "L8U4151JNbxk"
      },
      "source": [
        "Count executed instructions in code and verify with inputs 1,2 and 3\n"
      ]
    },
    {
      "cell_type": "code",
      "execution_count": null,
      "metadata": {
        "colab": {
          "base_uri": "https://localhost:8080/"
        },
        "id": "dh85RM8vNhFz",
        "outputId": "3caf8c2b-7a82-4a03-c83e-cf6d5d27e333"
      },
      "outputs": [
        {
          "name": "stdout",
          "output_type": "stream",
          "text": [
            "Writing max_pairwise_sort_efficient_count.cpp\n"
          ]
        }
      ],
      "source": [
        "%%writefile max_pairwise_sort_efficient_count.cpp\n",
        "#include <iostream>\n",
        "#include <vector>\n",
        "#include <algorithm>\n",
        "#include <limits.h>\n",
        "\n",
        "using namespace std;\n",
        "\n",
        "int main() {\n",
        "    cout << \"--- C++ ---\" << \"\\n\";\n",
        "    int exexins = 0;\n",
        "    int n;                                     // 1\n",
        "    exexins++;\n",
        "    cin >> n;                                  // 1\n",
        "    exexins++;\n",
        "    int maxNumber = INT_MIN;                   // 1\n",
        "    exexins++;\n",
        "    int secondMaxNumber = INT_MIN;             // 1\n",
        "    exexins++;\n",
        "\n",
        "    vector<int> numbers(n);                    // n\n",
        "\n",
        "    exexins += n;\n",
        "\n",
        "    for (int i = 0; i < n; ++i) {              // 1 + 2n\n",
        "        cin >> numbers[i];                     // n\n",
        "        exexins++;\n",
        "    }\n",
        "\n",
        "\n",
        "    exexins++;\n",
        "    for (int i = 0; i < n; ++i) {              //1 + 2n\n",
        "        exexins += 2;\n",
        "\n",
        "        int aux = numbers[i];                           // n\n",
        "        exexins++;\n",
        "\n",
        "\n",
        "        exexins++; // if\n",
        "        exexins++; // else if\n",
        "        if (aux > maxNumber){                  // n\n",
        "          secondMaxNumber = maxNumber;         // [0, n] in the worst case it would be n times\n",
        "          exexins++;\n",
        "          maxNumber = aux;                     // [0, n] in the worst case it would be n times\n",
        "          exexins++;\n",
        "        } else if (aux > secondMaxNumber) {    // n\n",
        "          secondMaxNumber = aux;               // [0, n] in the worst case it would be n times\n",
        "          exexins++;\n",
        "        }\n",
        "\n",
        "    }\n",
        "\n",
        "    cout <<  \"Executed instructions: \" << exexins << \" n: \"<< n << \" Product: \" << maxNumber * secondMaxNumber << \"\\n\"; // 1\n",
        "    return 0;                                  // 1\n",
        "}"
      ]
    },
    {
      "cell_type": "code",
      "execution_count": null,
      "metadata": {
        "colab": {
          "base_uri": "https://localhost:8080/"
        },
        "id": "zATvza6BsSIQ",
        "outputId": "eb846661-1bfb-4a91-d3e9-ac694845b902"
      },
      "outputs": [
        {
          "name": "stdout",
          "output_type": "stream",
          "text": [
            "--- C++ ---\n",
            "Executed instructions: 95 n: 10 Product: 90\n",
            "--- C++ ---\n",
            "Executed instructions: 78 n: 10 Product: 90\n",
            "--- C++ ---\n",
            "Executed instructions: 52 n: 6 Product: 6062020\n"
          ]
        }
      ],
      "source": [
        "!g++ max_pairwise_sort_efficient_count.cpp -o max_pairwise_sort_efficient_count\n",
        "!./max_pairwise_sort_efficient_count < input1.txt\n",
        "!./max_pairwise_sort_efficient_count < input2.txt\n",
        "!./max_pairwise_sort_efficient_count < input3.txt"
      ]
    },
    {
      "cell_type": "code",
      "execution_count": null,
      "metadata": {
        "colab": {
          "base_uri": "https://localhost:8080/"
        },
        "id": "K96iXPudsUBY",
        "outputId": "2f670253-0e9c-454b-f8a3-21309da0bedc"
      },
      "outputs": [
        {
          "name": "stdout",
          "output_type": "stream",
          "text": [
            "Writing max_pairwise_sort_efficient_count.py\n"
          ]
        }
      ],
      "source": [
        "%%writefile max_pairwise_sort_efficient_count.py\n",
        "print(\"--- Python ---\")\n",
        "exexins = 0\n",
        "n = int(input())                             # 1\n",
        "exexins += 1\n",
        "numbers = list(map(int, input().split()))    # 4n (n input read + map o(n) + create list + cast to int values)\n",
        "exexins = 4 * n\n",
        "\n",
        "max_number = float(\"-inf\")                   # 1\n",
        "exexins += 1\n",
        "second_max_number = float(\"-inf\")            # 1\n",
        "exexins += 1\n",
        "\n",
        "exexins += 1\n",
        "for num in numbers:                          # 1 + 2n\n",
        "    exexins += 2\n",
        "\n",
        "    exexins += 1 # if\n",
        "    exexins += 1 # elif\n",
        "    if num > max_number:                     # n\n",
        "        second_max_number = max_number       # [0, n] in the worst case it would be n times\n",
        "        exexins += 1\n",
        "        max_number = num                     # [0, n] in the worst case it would be n times\n",
        "        exexins += 1\n",
        "    elif num > second_max_number:            # n\n",
        "        second_max_number = num              # [0, n] in the worst case it would be n times\n",
        "        exexins += 1\n",
        "\n",
        "product = max_number * second_max_number     # 1\n",
        "exexins += 1\n",
        "print(f\"Executed instructions: {exexins} n: {n} Product: {product}\")                 # 1\n",
        "\n"
      ]
    },
    {
      "cell_type": "code",
      "execution_count": null,
      "metadata": {
        "colab": {
          "base_uri": "https://localhost:8080/"
        },
        "id": "YOliEAbcsWu3",
        "outputId": "30b73a2b-495a-4f46-bdea-1322d0a9cbe7"
      },
      "outputs": [
        {
          "name": "stdout",
          "output_type": "stream",
          "text": [
            "--- Python ---\n",
            "Executed instructions: 104 n: 10 Product: 90\n",
            "--- Python ---\n",
            "Executed instructions: 87 n: 10 Product: 90\n",
            "--- Python ---\n",
            "Executed instructions: 57 n: 6 Product: 6062020\n"
          ]
        }
      ],
      "source": [
        "!python max_pairwise_sort_efficient_count.py < input1.txt\n",
        "!python max_pairwise_sort_efficient_count.py < input2.txt\n",
        "!python max_pairwise_sort_efficient_count.py < input3.txt\n"
      ]
    },
    {
      "cell_type": "markdown",
      "metadata": {
        "id": "K6ybgCmpNygr"
      },
      "source": [
        "Calculate estimated time by instruction and number of instructions by second"
      ]
    },
    {
      "cell_type": "code",
      "execution_count": null,
      "metadata": {
        "colab": {
          "base_uri": "https://localhost:8080/"
        },
        "id": "kwe3G1O3Nz1w",
        "outputId": "e1d7a815-60ca-4b4c-c86a-2811263bfd98"
      },
      "outputs": [
        {
          "name": "stdout",
          "output_type": "stream",
          "text": [
            "--- C++ ---\n",
            "Executed instructions: 95 n: 10 Product: 90\n",
            "CPU times: user 16.5 ms, sys: 2.97 ms, total: 19.4 ms\n",
            "Wall time: 816 ms\n"
          ]
        }
      ],
      "source": [
        "%%time\n",
        "!g++ max_pairwise_sort_efficient_count.cpp -o max_pairwise_sort_efficient_count\n",
        "!./max_pairwise_sort_efficient_count < input1.txt"
      ]
    },
    {
      "cell_type": "code",
      "execution_count": null,
      "metadata": {
        "colab": {
          "base_uri": "https://localhost:8080/"
        },
        "id": "sURHZfxnseXS",
        "outputId": "99c66029-3d61-4068-dd0d-f6c71b2745a3"
      },
      "outputs": [
        {
          "name": "stdout",
          "output_type": "stream",
          "text": [
            "--- Python ---\n",
            "Executed instructions: 104 n: 10 Product: 90\n",
            "CPU times: user 7.54 ms, sys: 26 µs, total: 7.57 ms\n",
            "Wall time: 108 ms\n"
          ]
        }
      ],
      "source": [
        "%%time\n",
        "!python max_pairwise_sort_efficient_count.py < input1.txt\n"
      ]
    },
    {
      "cell_type": "markdown",
      "metadata": {
        "id": "v8GY6n_ZaJ4P"
      },
      "source": [
        "### Estimate and verify the maximun n that can be solved in 1 second"
      ]
    },
    {
      "cell_type": "code",
      "execution_count": null,
      "metadata": {
        "colab": {
          "base_uri": "https://localhost:8080/"
        },
        "id": "z3xjzg1YaKk6",
        "outputId": "ebfd6434-2c1b-4bef-8f56-01af1155b41a"
      },
      "outputs": [
        {
          "name": "stdout",
          "output_type": "stream",
          "text": [
            "Time per instruction C++: 0.0001352941176470588\n",
            "Instructions per second C++: 7391.304347826088\n",
            "Time per instruction Python: 8.134615384615385e-05\n",
            "Instructions per second Python: 12293.144208037824\n"
          ]
        }
      ],
      "source": [
        "\n",
        "time_per_ins = 0.0115 / 85\n",
        "instructions_per_second = 1 / time_per_ins\n",
        "print(f\"Time per instruction C++: {time_per_ins}\")\n",
        "print(f\"Instructions per second C++: {instructions_per_second}\")\n",
        "time_per_ins = 0.00846 / 104\n",
        "instructions_per_second = 1 / time_per_ins\n",
        "print(f\"Time per instruction Python: {time_per_ins}\")\n",
        "print(f\"Instructions per second Python: {instructions_per_second}\")"
      ]
    },
    {
      "cell_type": "markdown",
      "metadata": {
        "id": "sUpIWcykOGpT"
      },
      "source": [
        "## Super efficient solution\n",
        "\n",
        "Whitout storing the list in memory, only stpring the largest and second largest and whitout calling a function, add in each line a coment with the number of instructions that are executed in that line\n",
        "\n",
        "in C++ and Python\n",
        "\n",
        "\n",
        " $$T(n) < 13 n  = O(n)$$\n"
      ]
    },
    {
      "cell_type": "code",
      "execution_count": null,
      "metadata": {
        "colab": {
          "base_uri": "https://localhost:8080/"
        },
        "id": "hBLt_xBQLy8E",
        "outputId": "4b37c2cd-3f36-4042-fb84-3e65cdd06964"
      },
      "outputs": [
        {
          "name": "stdout",
          "output_type": "stream",
          "text": [
            "Writing max_pairwise_sort_super_efficient.cpp\n"
          ]
        }
      ],
      "source": [
        "%%writefile max_pairwise_sort_super_efficient.cpp\n",
        "#include <iostream>\n",
        "#include <vector>\n",
        "#include <algorithm>\n",
        "#include <limits.h>\n",
        "\n",
        "using namespace std;\n",
        "\n",
        "int main() {\n",
        "    cout << \"--- C++ ---\" << \"\\n\";\n",
        "    int n;                                     // 1\n",
        "    cin >> n;                                  // 1\n",
        "    int maxNumber = INT_MIN;                   // 1\n",
        "    int secondMaxNumber = INT_MIN;             // 1\n",
        "\n",
        "\n",
        "    for (int i = 0; i < n; ++i) {              //1 + 2n\n",
        "        int aux = 0;                           // n\n",
        "        cin >> aux;                            // n\n",
        "\n",
        "        if (aux > maxNumber){                  // n\n",
        "          secondMaxNumber = maxNumber;         // [0, n] in the worst case it would be n times\n",
        "          maxNumber = aux;                     // [0, n] in the worst case it would be n times\n",
        "\n",
        "        } else if (aux > secondMaxNumber) {    // n\n",
        "          secondMaxNumber = aux;               // [0, n] in the worst case it would be n times\n",
        "        }\n",
        "\n",
        "    }\n",
        "\n",
        "    cout <<  \"Product: \" << maxNumber * secondMaxNumber << \"\\n\"; // 1\n",
        "    return 0;                                  // 1\n",
        "}\n"
      ]
    },
    {
      "cell_type": "code",
      "execution_count": null,
      "metadata": {
        "colab": {
          "base_uri": "https://localhost:8080/"
        },
        "id": "tRlsgb7ksqek",
        "outputId": "bc5c1bff-f5b9-40aa-a407-109e0698e146"
      },
      "outputs": [
        {
          "name": "stdout",
          "output_type": "stream",
          "text": [
            "Writing max_pairwise_sort_super_efficient.py\n"
          ]
        }
      ],
      "source": [
        "%%writefile max_pairwise_sort_super_efficient.py\n",
        "print(\"--- Python ---\")\n",
        "n = int(input())                            # 1\n",
        "max_number = float(\"-inf\")                  # 1\n",
        "second_max_number = float(\"-inf\")           # 1\n",
        "\n",
        "for num in input().split():                 # 3 + 2n\n",
        "\n",
        "    num = int(num)                          # n\n",
        "\n",
        "    if num > max_number:                    # n\n",
        "        second_max_number = max_number      # [0, n] in the worst case it would be n times\n",
        "        max_number = num                    # [0, n] in the worst case it would be n times\n",
        "    elif num > second_max_number:           # n\n",
        "        second_max_number = num             # [0, n] in the worst case it would be n times\n",
        "\n",
        "print(f\"Product: {max_number * second_max_number}\")"
      ]
    },
    {
      "cell_type": "markdown",
      "metadata": {
        "id": "683gc3roHqzb"
      },
      "source": [
        "Test with inputs 1 and 2\n",
        "\n",
        "\n"
      ]
    },
    {
      "cell_type": "code",
      "execution_count": null,
      "metadata": {
        "colab": {
          "base_uri": "https://localhost:8080/"
        },
        "id": "b7d4LA8OIc2_",
        "outputId": "61e03dff-7ef8-423e-c924-5186da74ab00"
      },
      "outputs": [
        {
          "name": "stdout",
          "output_type": "stream",
          "text": [
            "--- C++ ---\n",
            "Product: 90\n",
            "--- C++ ---\n",
            "Product: 90\n",
            "--- Python ---\n",
            "Product: 90\n",
            "--- Python ---\n",
            "Product: 90\n"
          ]
        }
      ],
      "source": [
        "!g++ max_pairwise_sort_super_efficient.cpp -o max_pairwise_sort_super_efficient\n",
        "!./max_pairwise_sort_super_efficient < input1.txt\n",
        "!./max_pairwise_sort_super_efficient < input2.txt\n",
        "!python max_pairwise_sort_super_efficient.py < input1.txt\n",
        "!python max_pairwise_sort_super_efficient.py < input2.txt"
      ]
    },
    {
      "cell_type": "markdown",
      "metadata": {
        "id": "36Ugn1odIeJz"
      },
      "source": [
        "Test and time it with input 3"
      ]
    },
    {
      "cell_type": "code",
      "execution_count": null,
      "metadata": {
        "colab": {
          "base_uri": "https://localhost:8080/"
        },
        "id": "jDyMbCnxHqSN",
        "outputId": "f80e4b46-9424-4a30-9a96-f53863630e3c"
      },
      "outputs": [
        {
          "name": "stdout",
          "output_type": "stream",
          "text": [
            "--- C++ ---\n",
            "Product: 6062020\n",
            "--- Python ---\n",
            "Product: 6062020\n"
          ]
        }
      ],
      "source": [
        "!g++ max_pairwise_sort_super_efficient.cpp -o max_pairwise_sort_super_efficient\n",
        "!./max_pairwise_sort_super_efficient < input3.txt\n",
        "!python max_pairwise_sort_super_efficient.py < input3.txt\n"
      ]
    },
    {
      "cell_type": "markdown",
      "metadata": {
        "id": "bhqiKQG6fjKM"
      },
      "source": [
        "20 stress tests"
      ]
    },
    {
      "cell_type": "code",
      "execution_count": null,
      "metadata": {
        "id": "2KsiXKhALzwm"
      },
      "outputs": [],
      "source": [
        "#CREATE 20 random texts\n",
        "import random\n",
        "\n",
        "for i in range(1,21):\n",
        "    fileName = f\"stress_input_{i}.txt\"\n",
        "\n",
        "    with open(fileName, \"w\") as file:\n",
        "      n = random.randint(3, 40)\n",
        "      file.write(f\"{n}\"+ \"\\n\")\n",
        "      for i in range(1,n):\n",
        "          file.write(str(random.randint(1, 100)) + \" \")"
      ]
    },
    {
      "cell_type": "code",
      "execution_count": null,
      "metadata": {
        "colab": {
          "base_uri": "https://localhost:8080/"
        },
        "id": "PyuNL9W1tAng",
        "outputId": "3d57edae-3998-4562-f6cf-2686c58aa83d"
      },
      "outputs": [
        {
          "name": "stdout",
          "output_type": "stream",
          "text": [
            "--- C++ ---\n",
            "Product: 8835\n",
            "--- C++ ---\n",
            "Product: 9100\n",
            "--- C++ ---\n",
            "Product: 9024\n",
            "--- C++ ---\n",
            "Product: 8633\n",
            "--- C++ ---\n",
            "Product: 7820\n",
            "--- C++ ---\n",
            "Product: 8160\n",
            "--- C++ ---\n",
            "Product: 7656\n",
            "--- C++ ---\n",
            "Product: 8366\n",
            "--- C++ ---\n",
            "Product: 1820\n",
            "--- C++ ---\n",
            "Product: 6003\n",
            "--- C++ ---\n",
            "Product: 8835\n",
            "--- C++ ---\n",
            "Product: 5044\n",
            "--- C++ ---\n",
            "Product: 8360\n",
            "--- C++ ---\n",
            "Product: 9700\n",
            "--- C++ ---\n",
            "Product: 9024\n",
            "--- C++ ---\n",
            "Product: 9009\n",
            "--- C++ ---\n",
            "Product: 7980\n",
            "--- C++ ---\n",
            "Product: 9702\n",
            "--- C++ ---\n",
            "Product: 9900\n",
            "--- C++ ---\n",
            "Product: 9506\n"
          ]
        }
      ],
      "source": [
        "!g++ max_pairwise_sort_super_efficient.cpp -o max_pairwise_sort_super_efficient\n",
        "!./max_pairwise_sort_super_efficient < stress_input_1.txt\n",
        "!./max_pairwise_sort_super_efficient < stress_input_2.txt\n",
        "!./max_pairwise_sort_super_efficient < stress_input_3.txt\n",
        "!./max_pairwise_sort_super_efficient < stress_input_4.txt\n",
        "!./max_pairwise_sort_super_efficient < stress_input_5.txt\n",
        "!./max_pairwise_sort_super_efficient < stress_input_6.txt\n",
        "!./max_pairwise_sort_super_efficient < stress_input_7.txt\n",
        "!./max_pairwise_sort_super_efficient < stress_input_8.txt\n",
        "!./max_pairwise_sort_super_efficient < stress_input_9.txt\n",
        "!./max_pairwise_sort_super_efficient < stress_input_10.txt\n",
        "!./max_pairwise_sort_super_efficient < stress_input_11.txt\n",
        "!./max_pairwise_sort_super_efficient < stress_input_12.txt\n",
        "!./max_pairwise_sort_super_efficient < stress_input_13.txt\n",
        "!./max_pairwise_sort_super_efficient < stress_input_14.txt\n",
        "!./max_pairwise_sort_super_efficient < stress_input_15.txt\n",
        "!./max_pairwise_sort_super_efficient < stress_input_16.txt\n",
        "!./max_pairwise_sort_super_efficient < stress_input_17.txt\n",
        "!./max_pairwise_sort_super_efficient < stress_input_18.txt\n",
        "!./max_pairwise_sort_super_efficient < stress_input_19.txt\n",
        "!./max_pairwise_sort_super_efficient < stress_input_20.txt"
      ]
    },
    {
      "cell_type": "code",
      "execution_count": null,
      "metadata": {
        "colab": {
          "base_uri": "https://localhost:8080/"
        },
        "id": "AFlOL1HHtEVO",
        "outputId": "11597fbb-c734-418e-d008-33ef7c281fff"
      },
      "outputs": [
        {
          "name": "stdout",
          "output_type": "stream",
          "text": [
            "--- Python ---\n",
            "Product: 8835\n",
            "--- Python ---\n",
            "Product: 9100\n",
            "--- Python ---\n",
            "Product: 9024\n",
            "--- Python ---\n",
            "Product: 8633\n",
            "--- Python ---\n",
            "Product: 7820\n",
            "--- Python ---\n",
            "Product: 8160\n",
            "--- Python ---\n",
            "Product: 7656\n",
            "--- Python ---\n",
            "Product: 8366\n",
            "--- Python ---\n",
            "Product: 1820\n",
            "--- Python ---\n",
            "Product: 6003\n",
            "--- Python ---\n",
            "Product: 8835\n",
            "--- Python ---\n",
            "Product: 5044\n",
            "--- Python ---\n",
            "Product: 8360\n",
            "--- Python ---\n",
            "Product: 9700\n",
            "--- Python ---\n",
            "Product: 9024\n",
            "--- Python ---\n",
            "Product: 9009\n",
            "--- Python ---\n",
            "Product: 7980\n",
            "--- Python ---\n",
            "Product: 9702\n",
            "--- Python ---\n",
            "Product: 9900\n",
            "--- Python ---\n",
            "Product: 9506\n"
          ]
        }
      ],
      "source": [
        "!python max_pairwise_sort_super_efficient.py < stress_input_1.txt\n",
        "!python max_pairwise_sort_super_efficient.py < stress_input_2.txt\n",
        "!python max_pairwise_sort_super_efficient.py < stress_input_3.txt\n",
        "!python max_pairwise_sort_super_efficient.py < stress_input_4.txt\n",
        "!python max_pairwise_sort_super_efficient.py < stress_input_5.txt\n",
        "!python max_pairwise_sort_super_efficient.py < stress_input_6.txt\n",
        "!python max_pairwise_sort_super_efficient.py < stress_input_7.txt\n",
        "!python max_pairwise_sort_super_efficient.py < stress_input_8.txt\n",
        "!python max_pairwise_sort_super_efficient.py < stress_input_9.txt\n",
        "!python max_pairwise_sort_super_efficient.py < stress_input_10.txt\n",
        "!python max_pairwise_sort_super_efficient.py < stress_input_11.txt\n",
        "!python max_pairwise_sort_super_efficient.py < stress_input_12.txt\n",
        "!python max_pairwise_sort_super_efficient.py < stress_input_13.txt\n",
        "!python max_pairwise_sort_super_efficient.py < stress_input_14.txt\n",
        "!python max_pairwise_sort_super_efficient.py < stress_input_15.txt\n",
        "!python max_pairwise_sort_super_efficient.py < stress_input_16.txt\n",
        "!python max_pairwise_sort_super_efficient.py < stress_input_17.txt\n",
        "!python max_pairwise_sort_super_efficient.py < stress_input_18.txt\n",
        "!python max_pairwise_sort_super_efficient.py < stress_input_19.txt\n",
        "!python max_pairwise_sort_super_efficient.py < stress_input_20.txt"
      ]
    },
    {
      "cell_type": "markdown",
      "metadata": {
        "id": "fEXj8GHJH5p1"
      },
      "source": [
        "Count executed instructions in code and verify with inputs 1,2 and 3"
      ]
    },
    {
      "cell_type": "code",
      "execution_count": null,
      "metadata": {
        "colab": {
          "base_uri": "https://localhost:8080/"
        },
        "id": "LF1DHjKXIAsF",
        "outputId": "fbdaf9f6-41cd-4d56-e2ec-a73b5f52348a"
      },
      "outputs": [
        {
          "name": "stdout",
          "output_type": "stream",
          "text": [
            "Writing max_pairwise_sort_super_efficient_count.cpp\n"
          ]
        }
      ],
      "source": [
        "%%writefile max_pairwise_sort_super_efficient_count.cpp\n",
        "#include <iostream>\n",
        "#include <vector>\n",
        "#include <algorithm>\n",
        "#include <limits.h>\n",
        "\n",
        "using namespace std;\n",
        "\n",
        "int main() {\n",
        "    cout << \"--- C++ ---\" << \"\\n\";\n",
        "    int exexins = 0;\n",
        "    int n;                                     // 1\n",
        "    exexins++;\n",
        "    cin >> n;                                  // 1\n",
        "    exexins++;\n",
        "    int maxNumber = INT_MIN;                   // 1\n",
        "    exexins++;\n",
        "    int secondMaxNumber = INT_MIN;             // 1\n",
        "    exexins++;\n",
        "\n",
        "\n",
        "    exexins++;\n",
        "    for (int i = 0; i < n; ++i) {              //1 + 2n\n",
        "        exexins += 2;\n",
        "        int aux = 0;                           // n\n",
        "        exexins++;\n",
        "\n",
        "        cin>> aux;                            // n\n",
        "        exexins++;\n",
        "\n",
        "\n",
        "        exexins++; // if\n",
        "        exexins++; // else if\n",
        "        if (aux > maxNumber){                  // n\n",
        "          secondMaxNumber = maxNumber;         // [0, n] in the worst case it would be n times\n",
        "          exexins++;\n",
        "          maxNumber = aux;                     // [0, n] in the worst case it would be n times\n",
        "          exexins++;\n",
        "        } else if (aux > secondMaxNumber) {    // n\n",
        "          secondMaxNumber = aux;               // [0, n] in the worst case it would be n times\n",
        "          exexins++;\n",
        "        }\n",
        "\n",
        "    }\n",
        "\n",
        "    cout <<  \"Executed instructions: \" << exexins << \" n: \"<< n << \" Product: \" << maxNumber * secondMaxNumber << \"\\n\"; // 1\n",
        "    return 0;                                  // 1\n",
        "}"
      ]
    },
    {
      "cell_type": "code",
      "execution_count": null,
      "metadata": {
        "colab": {
          "base_uri": "https://localhost:8080/"
        },
        "id": "lHB13bDvtZZn",
        "outputId": "19337cd6-0b8e-4ded-c493-50a78d5e8973"
      },
      "outputs": [
        {
          "name": "stdout",
          "output_type": "stream",
          "text": [
            "Writing max_pairwise_sort_super_efficient_count.py\n"
          ]
        }
      ],
      "source": [
        "%%writefile max_pairwise_sort_super_efficient_count.py\n",
        "print(\"--- Python ---\")\n",
        "exexins = 0\n",
        "n = int(input())                            # 1\n",
        "exexins += 1\n",
        "max_number = float(\"-inf\")                  # 1\n",
        "exexins += 1\n",
        "second_max_number = float(\"-inf\")           # 1\n",
        "exexins += 1\n",
        "\n",
        "exexins += 3\n",
        "for num in input().split():                 # 3 + 2n\n",
        "    exexins += 2\n",
        "    num = int(num)                          # n\n",
        "    exexins += 1\n",
        "\n",
        "    exexins += 1 # if\n",
        "    exexins += 1 # elif\n",
        "    if num > max_number:                    # n\n",
        "        second_max_number = max_number      # [0, n] in the worst case it would be n times\n",
        "        exexins += 1\n",
        "        max_number = num                    # [0, n] in the worst case it would be n times\n",
        "        exexins += 1\n",
        "    elif num > second_max_number:           # n\n",
        "        second_max_number = num             # [0, n] in the worst case it would be n times\n",
        "        exexins += 1\n",
        "\n",
        "print(f\"Executed instructions: {exexins} n: {n} Product: {max_number * second_max_number}\")"
      ]
    },
    {
      "cell_type": "code",
      "execution_count": null,
      "metadata": {
        "colab": {
          "base_uri": "https://localhost:8080/"
        },
        "id": "ip8PpE_MtOiR",
        "outputId": "91c72f33-5623-431d-ad9a-b7f2d0043f32"
      },
      "outputs": [
        {
          "name": "stdout",
          "output_type": "stream",
          "text": [
            "--- C++ ---\n",
            "Executed instructions: 85 n: 10 Product: 90\n",
            "--- C++ ---\n",
            "Executed instructions: 68 n: 10 Product: 90\n",
            "--- C++ ---\n",
            "Executed instructions: 46 n: 6 Product: 6062020\n",
            "--- Python ---\n",
            "Executed instructions: 76 n: 10 Product: 90\n",
            "--- Python ---\n",
            "Executed instructions: 59 n: 10 Product: 90\n",
            "--- Python ---\n",
            "Executed instructions: 41 n: 6 Product: 6062020\n"
          ]
        }
      ],
      "source": [
        "!g++ max_pairwise_sort_super_efficient_count.cpp -o max_pairwise_sort_super_efficient_count\n",
        "!./max_pairwise_sort_super_efficient_count < input1.txt\n",
        "!./max_pairwise_sort_super_efficient_count < input2.txt\n",
        "!./max_pairwise_sort_super_efficient_count < input3.txt\n",
        "!python max_pairwise_sort_super_efficient_count.py < input1.txt\n",
        "!python max_pairwise_sort_super_efficient_count.py < input2.txt\n",
        "!python max_pairwise_sort_super_efficient_count.py < input3.txt"
      ]
    },
    {
      "cell_type": "markdown",
      "metadata": {
        "id": "yae7sSm2IG9U"
      },
      "source": [
        "Calculate estimated time by instruction and number of instructions by second"
      ]
    },
    {
      "cell_type": "code",
      "execution_count": null,
      "metadata": {
        "colab": {
          "base_uri": "https://localhost:8080/"
        },
        "id": "suouY7BYL2dz",
        "outputId": "67702e58-e9cd-469a-a7b6-8cd5993fe0aa"
      },
      "outputs": [
        {
          "name": "stdout",
          "output_type": "stream",
          "text": [
            "--- C++ ---\n",
            "Executed instructions: 85 n: 10 Product: 90\n",
            "CPU times: user 12.5 ms, sys: 3.77 ms, total: 16.3 ms\n",
            "Wall time: 813 ms\n"
          ]
        }
      ],
      "source": [
        "%%time\n",
        "!g++ max_pairwise_sort_super_efficient_count.cpp -o max_pairwise_sort_super_efficient_count\n",
        "!./max_pairwise_sort_super_efficient_count < input1.txt"
      ]
    },
    {
      "cell_type": "code",
      "execution_count": null,
      "metadata": {
        "colab": {
          "base_uri": "https://localhost:8080/"
        },
        "id": "-pcPNnX4tgya",
        "outputId": "d9205cf5-31bd-42d0-f780-6b62f8e46440"
      },
      "outputs": [
        {
          "name": "stdout",
          "output_type": "stream",
          "text": [
            "--- Python ---\n",
            "Executed instructions: 76 n: 10 Product: 90\n",
            "CPU times: user 6.86 ms, sys: 832 µs, total: 7.7 ms\n",
            "Wall time: 114 ms\n"
          ]
        }
      ],
      "source": [
        "%%time\n",
        "!python max_pairwise_sort_super_efficient_count.py < input1.txt"
      ]
    },
    {
      "cell_type": "code",
      "execution_count": null,
      "metadata": {
        "colab": {
          "base_uri": "https://localhost:8080/"
        },
        "id": "DZwBU5jptiu6",
        "outputId": "af7158e8-4656-4849-aaa8-f1701451f947"
      },
      "outputs": [
        {
          "name": "stdout",
          "output_type": "stream",
          "text": [
            "Time per instruction C++: 0.00012941176470588234\n",
            "Instructions per second C++: 7727.272727272728\n",
            "Time per instruction Python: 4.7499999999999996e-05\n",
            "Instructions per second Python: 21052.63157894737\n"
          ]
        }
      ],
      "source": [
        "time_per_ins = 0.011 / 85\n",
        "instructions_per_second = 1 / time_per_ins\n",
        "print(f\"Time per instruction C++: {time_per_ins}\")\n",
        "print(f\"Instructions per second C++: {instructions_per_second}\")\n",
        "time_per_ins = 0.00361 / 76\n",
        "instructions_per_second = 1 / time_per_ins\n",
        "print(f\"Time per instruction Python: {time_per_ins}\")\n",
        "print(f\"Instructions per second Python: {instructions_per_second}\")"
      ]
    },
    {
      "cell_type": "markdown",
      "metadata": {
        "id": "_O7xZrDztn3Q"
      },
      "source": [
        "Perform 100 randomized automated tests in C++ and Python between the super efficient solution (𝑇(𝑛)<10𝑛=𝑂(𝑛)) against the sorting solution (𝑇(𝑛)=𝑂(𝑛𝑙𝑛𝑔)) ."
      ]
    },
    {
      "cell_type": "code",
      "execution_count": null,
      "metadata": {
        "id": "ujj_bjUutr4d"
      },
      "outputs": [],
      "source": [
        "#CREATE 100 random texts\n",
        "import random\n",
        "\n",
        "for i in range(1,101):\n",
        "    fileName = f\"stress_input_{i}.txt\"\n",
        "\n",
        "    with open(fileName, \"w\") as file:\n",
        "      n = random.randint(3, 40)\n",
        "      file.write(f\"{n}\"+ \"\\n\")\n",
        "      for i in range(1,n):\n",
        "          file.write(str(random.randint(1, 100)) + \" \")"
      ]
    },
    {
      "cell_type": "markdown",
      "metadata": {
        "id": "BXeIQE46uM2a"
      },
      "source": [
        "C++"
      ]
    },
    {
      "cell_type": "markdown",
      "metadata": {
        "id": "fz1NrLCuuO2y"
      },
      "source": [
        "## Super efficient solution (𝑇(𝑛)<10𝑛=𝑂(𝑛))"
      ]
    },
    {
      "cell_type": "code",
      "execution_count": null,
      "metadata": {
        "colab": {
          "base_uri": "https://localhost:8080/"
        },
        "id": "3VX6BBmJuRS6",
        "outputId": "24015bd6-437a-45fa-a9eb-edf1495a8f92"
      },
      "outputs": [
        {
          "name": "stdout",
          "output_type": "stream",
          "text": [
            "Overwriting max_pairwise_sort_super_efficient.cpp\n"
          ]
        }
      ],
      "source": [
        "%%writefile max_pairwise_sort_super_efficient.cpp\n",
        "#include <iostream>\n",
        "#include <vector>\n",
        "#include <algorithm>\n",
        "#include <limits.h>\n",
        "\n",
        "using namespace std;\n",
        "\n",
        "int main() {\n",
        "    int n;                                     // 1\n",
        "    cin >> n;                                  // 1\n",
        "    int maxNumber = INT_MIN;                   // 1\n",
        "    int secondMaxNumber = INT_MIN;             // 1\n",
        "\n",
        "\n",
        "    for (int i = 0; i < n; ++i) {              //1 + 2n\n",
        "        int aux = 0;                           // n\n",
        "        cin >> aux;                            // n\n",
        "\n",
        "        if (aux > maxNumber){                  // n\n",
        "          secondMaxNumber = maxNumber;         // [0, n] in the worst case it would be n times\n",
        "          maxNumber = aux;                     // [0, n] in the worst case it would be n times\n",
        "\n",
        "        } else if (aux > secondMaxNumber) {    // n\n",
        "          secondMaxNumber = aux;               // [0, n] in the worst case it would be n times\n",
        "        }\n",
        "\n",
        "    }\n",
        "\n",
        "    cout <<  \"n: \" << n << \" Product: \" << maxNumber * secondMaxNumber << \"\\n\"; // 1\n",
        "    return 0;                                  // 1\n",
        "}"
      ]
    },
    {
      "cell_type": "code",
      "execution_count": null,
      "metadata": {
        "colab": {
          "base_uri": "https://localhost:8080/"
        },
        "id": "yCZLzz38uUTB",
        "outputId": "1a75ed87-c025-4193-93dd-fabfdffde49e"
      },
      "outputs": [
        {
          "name": "stdout",
          "output_type": "stream",
          "text": [
            "n: 28 Product: 9500\n",
            "n: 11 Product: 8170\n",
            "n: 4 Product: 5917\n",
            "n: 21 Product: 8366\n",
            "n: 40 Product: 9800\n",
            "n: 10 Product: 7654\n",
            "n: 26 Product: 9801\n",
            "n: 40 Product: 9506\n",
            "n: 36 Product: 9800\n",
            "n: 5 Product: 6862\n",
            "n: 3 Product: 528\n",
            "n: 10 Product: 8134\n",
            "n: 26 Product: 9118\n",
            "n: 10 Product: 6600\n",
            "n: 21 Product: 9009\n",
            "n: 8 Product: 8439\n",
            "n: 9 Product: 3900\n",
            "n: 16 Product: 6396\n",
            "n: 12 Product: 8827\n",
            "n: 24 Product: 9212\n",
            "n: 3 Product: 555\n",
            "n: 9 Product: 8188\n",
            "n: 7 Product: 6708\n",
            "n: 24 Product: 8099\n",
            "n: 23 Product: 9118\n",
            "n: 40 Product: 9312\n",
            "n: 36 Product: 9801\n",
            "n: 10 Product: 9500\n",
            "n: 13 Product: 8827\n",
            "n: 32 Product: 9120\n",
            "n: 36 Product: 9900\n",
            "n: 15 Product: 7544\n",
            "n: 33 Product: 9504\n",
            "n: 29 Product: 9114\n",
            "n: 22 Product: 8811\n",
            "n: 10 Product: 5727\n",
            "n: 36 Product: 9216\n",
            "n: 7 Product: 9700\n",
            "n: 31 Product: 6888\n",
            "n: 35 Product: 9604\n",
            "n: 39 Product: 9800\n",
            "n: 5 Product: 4760\n",
            "n: 28 Product: 9408\n",
            "n: 13 Product: 7326\n",
            "n: 36 Product: 9025\n",
            "n: 12 Product: 6364\n",
            "n: 22 Product: 8633\n",
            "n: 18 Product: 8342\n",
            "n: 39 Product: 10000\n",
            "n: 16 Product: 7968\n",
            "n: 30 Product: 9700\n",
            "n: 27 Product: 9120\n",
            "n: 39 Product: 9504\n",
            "n: 30 Product: 9603\n",
            "n: 24 Product: 9300\n",
            "n: 30 Product: 8265\n",
            "n: 14 Product: 9021\n",
            "n: 27 Product: 9603\n",
            "n: 4 Product: 7280\n",
            "n: 25 Product: 9118\n",
            "n: 28 Product: 9306\n",
            "n: 11 Product: 5688\n",
            "n: 8 Product: 5700\n",
            "n: 13 Product: 7308\n",
            "n: 12 Product: 5460\n",
            "n: 10 Product: 8277\n",
            "n: 22 Product: 9312\n",
            "n: 7 Product: 8722\n",
            "n: 34 Product: 8544\n",
            "n: 22 Product: 8448\n",
            "n: 7 Product: 4740\n",
            "n: 11 Product: 8835\n",
            "n: 13 Product: 8372\n",
            "n: 9 Product: 5040\n",
            "n: 34 Product: 9000\n",
            "n: 33 Product: 9600\n",
            "n: 19 Product: 9603\n",
            "n: 11 Product: 7209\n",
            "n: 7 Product: 7568\n",
            "n: 13 Product: 6391\n",
            "n: 11 Product: 7968\n",
            "n: 31 Product: 6970\n",
            "n: 28 Product: 9506\n",
            "n: 32 Product: 9603\n",
            "n: 12 Product: 6208\n",
            "n: 13 Product: 7280\n",
            "n: 22 Product: 8372\n",
            "n: 28 Product: 8352\n",
            "n: 10 Product: 8526\n",
            "n: 10 Product: 7050\n",
            "n: 24 Product: 7221\n",
            "n: 30 Product: 9900\n",
            "n: 6 Product: 6800\n",
            "n: 32 Product: 9215\n",
            "n: 22 Product: 8700\n",
            "n: 12 Product: 8134\n",
            "n: 4 Product: 1540\n",
            "n: 5 Product: 528\n",
            "n: 36 Product: 9800\n",
            "n: 37 Product: 9700\n",
            "CPU times: user 572 ms, sys: 108 ms, total: 679 ms\n",
            "Wall time: 11.2 s\n"
          ]
        }
      ],
      "source": [
        "%%time\n",
        "!g++ max_pairwise_sort_super_efficient.cpp -o max_pairwise_sort_super_efficient\n",
        "!./max_pairwise_sort_super_efficient < stress_input_1.txt\n",
        "!./max_pairwise_sort_super_efficient < stress_input_2.txt\n",
        "!./max_pairwise_sort_super_efficient < stress_input_3.txt\n",
        "!./max_pairwise_sort_super_efficient < stress_input_4.txt\n",
        "!./max_pairwise_sort_super_efficient < stress_input_5.txt\n",
        "!./max_pairwise_sort_super_efficient < stress_input_6.txt\n",
        "!./max_pairwise_sort_super_efficient < stress_input_7.txt\n",
        "!./max_pairwise_sort_super_efficient < stress_input_8.txt\n",
        "!./max_pairwise_sort_super_efficient < stress_input_9.txt\n",
        "!./max_pairwise_sort_super_efficient < stress_input_10.txt\n",
        "\n",
        "!./max_pairwise_sort_super_efficient < stress_input_11.txt\n",
        "!./max_pairwise_sort_super_efficient < stress_input_12.txt\n",
        "!./max_pairwise_sort_super_efficient < stress_input_13.txt\n",
        "!./max_pairwise_sort_super_efficient < stress_input_14.txt\n",
        "!./max_pairwise_sort_super_efficient < stress_input_15.txt\n",
        "!./max_pairwise_sort_super_efficient < stress_input_16.txt\n",
        "!./max_pairwise_sort_super_efficient < stress_input_17.txt\n",
        "!./max_pairwise_sort_super_efficient < stress_input_18.txt\n",
        "!./max_pairwise_sort_super_efficient < stress_input_19.txt\n",
        "!./max_pairwise_sort_super_efficient < stress_input_20.txt\n",
        "\n",
        "!./max_pairwise_sort_super_efficient < stress_input_21.txt\n",
        "!./max_pairwise_sort_super_efficient < stress_input_22.txt\n",
        "!./max_pairwise_sort_super_efficient < stress_input_23.txt\n",
        "!./max_pairwise_sort_super_efficient < stress_input_24.txt\n",
        "!./max_pairwise_sort_super_efficient < stress_input_25.txt\n",
        "!./max_pairwise_sort_super_efficient < stress_input_26.txt\n",
        "!./max_pairwise_sort_super_efficient < stress_input_27.txt\n",
        "!./max_pairwise_sort_super_efficient < stress_input_28.txt\n",
        "!./max_pairwise_sort_super_efficient < stress_input_29.txt\n",
        "!./max_pairwise_sort_super_efficient < stress_input_30.txt\n",
        "\n",
        "!./max_pairwise_sort_super_efficient < stress_input_31.txt\n",
        "!./max_pairwise_sort_super_efficient < stress_input_32.txt\n",
        "!./max_pairwise_sort_super_efficient < stress_input_33.txt\n",
        "!./max_pairwise_sort_super_efficient < stress_input_34.txt\n",
        "!./max_pairwise_sort_super_efficient < stress_input_35.txt\n",
        "!./max_pairwise_sort_super_efficient < stress_input_36.txt\n",
        "!./max_pairwise_sort_super_efficient < stress_input_37.txt\n",
        "!./max_pairwise_sort_super_efficient < stress_input_38.txt\n",
        "!./max_pairwise_sort_super_efficient < stress_input_39.txt\n",
        "!./max_pairwise_sort_super_efficient < stress_input_40.txt\n",
        "\n",
        "!./max_pairwise_sort_super_efficient < stress_input_41.txt\n",
        "!./max_pairwise_sort_super_efficient < stress_input_42.txt\n",
        "!./max_pairwise_sort_super_efficient < stress_input_43.txt\n",
        "!./max_pairwise_sort_super_efficient < stress_input_44.txt\n",
        "!./max_pairwise_sort_super_efficient < stress_input_45.txt\n",
        "!./max_pairwise_sort_super_efficient < stress_input_46.txt\n",
        "!./max_pairwise_sort_super_efficient < stress_input_47.txt\n",
        "!./max_pairwise_sort_super_efficient < stress_input_48.txt\n",
        "!./max_pairwise_sort_super_efficient < stress_input_49.txt\n",
        "!./max_pairwise_sort_super_efficient < stress_input_50.txt\n",
        "\n",
        "!./max_pairwise_sort_super_efficient < stress_input_51.txt\n",
        "!./max_pairwise_sort_super_efficient < stress_input_52.txt\n",
        "!./max_pairwise_sort_super_efficient < stress_input_53.txt\n",
        "!./max_pairwise_sort_super_efficient < stress_input_54.txt\n",
        "!./max_pairwise_sort_super_efficient < stress_input_55.txt\n",
        "!./max_pairwise_sort_super_efficient < stress_input_56.txt\n",
        "!./max_pairwise_sort_super_efficient < stress_input_57.txt\n",
        "!./max_pairwise_sort_super_efficient < stress_input_58.txt\n",
        "!./max_pairwise_sort_super_efficient < stress_input_59.txt\n",
        "!./max_pairwise_sort_super_efficient < stress_input_60.txt\n",
        "\n",
        "!./max_pairwise_sort_super_efficient < stress_input_61.txt\n",
        "!./max_pairwise_sort_super_efficient < stress_input_62.txt\n",
        "!./max_pairwise_sort_super_efficient < stress_input_63.txt\n",
        "!./max_pairwise_sort_super_efficient < stress_input_64.txt\n",
        "!./max_pairwise_sort_super_efficient < stress_input_65.txt\n",
        "!./max_pairwise_sort_super_efficient < stress_input_66.txt\n",
        "!./max_pairwise_sort_super_efficient < stress_input_67.txt\n",
        "!./max_pairwise_sort_super_efficient < stress_input_68.txt\n",
        "!./max_pairwise_sort_super_efficient < stress_input_69.txt\n",
        "!./max_pairwise_sort_super_efficient < stress_input_70.txt\n",
        "\n",
        "!./max_pairwise_sort_super_efficient < stress_input_71.txt\n",
        "!./max_pairwise_sort_super_efficient < stress_input_72.txt\n",
        "!./max_pairwise_sort_super_efficient < stress_input_73.txt\n",
        "!./max_pairwise_sort_super_efficient < stress_input_74.txt\n",
        "!./max_pairwise_sort_super_efficient < stress_input_75.txt\n",
        "!./max_pairwise_sort_super_efficient < stress_input_76.txt\n",
        "!./max_pairwise_sort_super_efficient < stress_input_77.txt\n",
        "!./max_pairwise_sort_super_efficient < stress_input_78.txt\n",
        "!./max_pairwise_sort_super_efficient < stress_input_79.txt\n",
        "!./max_pairwise_sort_super_efficient < stress_input_80.txt\n",
        "\n",
        "!./max_pairwise_sort_super_efficient < stress_input_81.txt\n",
        "!./max_pairwise_sort_super_efficient < stress_input_82.txt\n",
        "!./max_pairwise_sort_super_efficient < stress_input_83.txt\n",
        "!./max_pairwise_sort_super_efficient < stress_input_84.txt\n",
        "!./max_pairwise_sort_super_efficient < stress_input_85.txt\n",
        "!./max_pairwise_sort_super_efficient < stress_input_86.txt\n",
        "!./max_pairwise_sort_super_efficient < stress_input_87.txt\n",
        "!./max_pairwise_sort_super_efficient < stress_input_88.txt\n",
        "!./max_pairwise_sort_super_efficient < stress_input_89.txt\n",
        "!./max_pairwise_sort_super_efficient < stress_input_90.txt\n",
        "\n",
        "!./max_pairwise_sort_super_efficient < stress_input_91.txt\n",
        "!./max_pairwise_sort_super_efficient < stress_input_92.txt\n",
        "!./max_pairwise_sort_super_efficient < stress_input_93.txt\n",
        "!./max_pairwise_sort_super_efficient < stress_input_94.txt\n",
        "!./max_pairwise_sort_super_efficient < stress_input_95.txt\n",
        "!./max_pairwise_sort_super_efficient < stress_input_96.txt\n",
        "!./max_pairwise_sort_super_efficient < stress_input_97.txt\n",
        "!./max_pairwise_sort_super_efficient < stress_input_98.txt\n",
        "!./max_pairwise_sort_super_efficient < stress_input_99.txt\n",
        "!./max_pairwise_sort_super_efficient < stress_input_100.txt\n"
      ]
    },
    {
      "cell_type": "markdown",
      "metadata": {
        "id": "375lk2Qxua9T"
      },
      "source": [
        "## Sortin solution (𝑇(𝑛)=𝑂(𝑛𝑙𝑛𝑔))"
      ]
    },
    {
      "cell_type": "code",
      "execution_count": null,
      "metadata": {
        "colab": {
          "base_uri": "https://localhost:8080/"
        },
        "id": "HSe61XtpugsP",
        "outputId": "4344dbb3-615c-4b6b-a287-f88a5425b74c"
      },
      "outputs": [
        {
          "name": "stdout",
          "output_type": "stream",
          "text": [
            "Overwriting max_pairwise_sort_nlogn.cpp\n"
          ]
        }
      ],
      "source": [
        "%%writefile max_pairwise_sort_nlogn.cpp\n",
        "#include <iostream>\n",
        "#include <vector>\n",
        "#include <algorithm>\n",
        "\n",
        "using namespace std;\n",
        "\n",
        "int main() {\n",
        "    int n;                                     // 1\n",
        "    cin >> n;                                  // 1\n",
        "    vector<int> numbers(n);                    // n\n",
        "\n",
        "    for (int i = 0; i < n; ++i) {              //1 + 2n\n",
        "        cin >> numbers[i];                     // 1\n",
        "    }\n",
        "\n",
        "    sort(numbers.begin(), numbers.end());      // n*long\n",
        "    cout <<  \"n: \" << n << \" Product: \" << numbers[numbers.size() - 1] * numbers[numbers.size() - 2] << \"\\n\"; // 1\n",
        "    return 0;                                  // 1\n",
        "}"
      ]
    },
    {
      "cell_type": "code",
      "execution_count": null,
      "metadata": {
        "colab": {
          "base_uri": "https://localhost:8080/"
        },
        "id": "032OCeq_ulxW",
        "outputId": "cb2eb32b-d892-4c1d-9c02-4a4938b579c4"
      },
      "outputs": [
        {
          "name": "stdout",
          "output_type": "stream",
          "text": [
            "n: 28 Product: 9500\n",
            "n: 11 Product: 8170\n",
            "n: 4 Product: 5917\n",
            "n: 21 Product: 8366\n",
            "n: 40 Product: 9800\n",
            "n: 10 Product: 7654\n",
            "n: 26 Product: 9801\n",
            "n: 40 Product: 9506\n",
            "n: 36 Product: 9800\n",
            "n: 5 Product: 6862\n",
            "n: 3 Product: 528\n",
            "n: 10 Product: 8134\n",
            "n: 26 Product: 9118\n",
            "n: 10 Product: 6600\n",
            "n: 21 Product: 9009\n",
            "n: 8 Product: 8439\n",
            "n: 9 Product: 3900\n",
            "n: 16 Product: 6396\n",
            "n: 12 Product: 8827\n",
            "n: 24 Product: 9212\n",
            "n: 3 Product: 555\n",
            "n: 9 Product: 8188\n",
            "n: 7 Product: 6708\n",
            "n: 24 Product: 8099\n",
            "n: 23 Product: 9118\n",
            "n: 40 Product: 9312\n",
            "n: 36 Product: 9801\n",
            "n: 10 Product: 9500\n",
            "n: 13 Product: 8827\n",
            "n: 32 Product: 9120\n",
            "n: 36 Product: 9900\n",
            "n: 15 Product: 7544\n",
            "n: 33 Product: 9504\n",
            "n: 29 Product: 9114\n",
            "n: 22 Product: 8811\n",
            "n: 10 Product: 5727\n",
            "n: 36 Product: 9216\n",
            "n: 7 Product: 9700\n",
            "n: 31 Product: 6888\n",
            "n: 35 Product: 9604\n",
            "n: 39 Product: 9800\n",
            "n: 5 Product: 4760\n",
            "n: 28 Product: 9408\n",
            "n: 13 Product: 7326\n",
            "n: 36 Product: 9025\n",
            "n: 12 Product: 6364\n",
            "n: 22 Product: 8633\n",
            "n: 18 Product: 8342\n",
            "n: 39 Product: 10000\n",
            "n: 16 Product: 7968\n",
            "n: 30 Product: 9700\n",
            "n: 27 Product: 9120\n",
            "n: 39 Product: 9504\n",
            "n: 30 Product: 9603\n",
            "n: 24 Product: 9300\n",
            "n: 30 Product: 8265\n",
            "n: 14 Product: 9021\n",
            "n: 27 Product: 9603\n",
            "n: 4 Product: 7280\n",
            "n: 25 Product: 9118\n",
            "n: 28 Product: 9306\n",
            "n: 11 Product: 5688\n",
            "n: 8 Product: 5700\n",
            "n: 13 Product: 7308\n",
            "n: 12 Product: 5460\n",
            "n: 10 Product: 8277\n",
            "n: 22 Product: 9312\n",
            "n: 7 Product: 8722\n",
            "n: 34 Product: 8544\n",
            "n: 22 Product: 8448\n",
            "n: 7 Product: 4740\n",
            "n: 11 Product: 8835\n",
            "n: 13 Product: 8372\n",
            "n: 9 Product: 5040\n",
            "n: 34 Product: 9000\n",
            "n: 33 Product: 9600\n",
            "n: 19 Product: 9603\n",
            "n: 11 Product: 7209\n",
            "n: 7 Product: 7568\n",
            "n: 13 Product: 6391\n",
            "n: 11 Product: 7968\n",
            "n: 31 Product: 6970\n",
            "n: 28 Product: 9506\n",
            "n: 32 Product: 9603\n",
            "n: 12 Product: 6208\n",
            "n: 13 Product: 7280\n",
            "n: 22 Product: 8372\n",
            "n: 28 Product: 8352\n",
            "n: 10 Product: 8526\n",
            "n: 10 Product: 7050\n",
            "n: 24 Product: 7221\n",
            "n: 30 Product: 9900\n",
            "n: 6 Product: 6800\n",
            "n: 32 Product: 9215\n",
            "n: 22 Product: 8700\n",
            "n: 12 Product: 8134\n",
            "n: 4 Product: 1540\n",
            "n: 5 Product: 528\n",
            "n: 36 Product: 9800\n",
            "n: 37 Product: 9700\n",
            "CPU times: user 550 ms, sys: 101 ms, total: 651 ms\n",
            "Wall time: 11.2 s\n"
          ]
        }
      ],
      "source": [
        "%%time\n",
        "!g++ max_pairwise_sort_nlogn.cpp -o max_pairwise_sort_nlogn\n",
        "!./max_pairwise_sort_nlogn < stress_input_1.txt\n",
        "!./max_pairwise_sort_nlogn < stress_input_2.txt\n",
        "!./max_pairwise_sort_nlogn < stress_input_3.txt\n",
        "!./max_pairwise_sort_nlogn < stress_input_4.txt\n",
        "!./max_pairwise_sort_nlogn < stress_input_5.txt\n",
        "!./max_pairwise_sort_nlogn < stress_input_6.txt\n",
        "!./max_pairwise_sort_nlogn < stress_input_7.txt\n",
        "!./max_pairwise_sort_nlogn < stress_input_8.txt\n",
        "!./max_pairwise_sort_nlogn < stress_input_9.txt\n",
        "!./max_pairwise_sort_nlogn < stress_input_10.txt\n",
        "\n",
        "!./max_pairwise_sort_nlogn < stress_input_11.txt\n",
        "!./max_pairwise_sort_nlogn < stress_input_12.txt\n",
        "!./max_pairwise_sort_nlogn < stress_input_13.txt\n",
        "!./max_pairwise_sort_nlogn < stress_input_14.txt\n",
        "!./max_pairwise_sort_nlogn < stress_input_15.txt\n",
        "!./max_pairwise_sort_nlogn < stress_input_16.txt\n",
        "!./max_pairwise_sort_nlogn < stress_input_17.txt\n",
        "!./max_pairwise_sort_nlogn < stress_input_18.txt\n",
        "!./max_pairwise_sort_nlogn < stress_input_19.txt\n",
        "!./max_pairwise_sort_nlogn < stress_input_20.txt\n",
        "\n",
        "!./max_pairwise_sort_nlogn < stress_input_21.txt\n",
        "!./max_pairwise_sort_nlogn < stress_input_22.txt\n",
        "!./max_pairwise_sort_nlogn < stress_input_23.txt\n",
        "!./max_pairwise_sort_nlogn < stress_input_24.txt\n",
        "!./max_pairwise_sort_nlogn < stress_input_25.txt\n",
        "!./max_pairwise_sort_nlogn < stress_input_26.txt\n",
        "!./max_pairwise_sort_nlogn < stress_input_27.txt\n",
        "!./max_pairwise_sort_nlogn < stress_input_28.txt\n",
        "!./max_pairwise_sort_nlogn < stress_input_29.txt\n",
        "!./max_pairwise_sort_nlogn < stress_input_30.txt\n",
        "\n",
        "!./max_pairwise_sort_nlogn < stress_input_31.txt\n",
        "!./max_pairwise_sort_nlogn < stress_input_32.txt\n",
        "!./max_pairwise_sort_nlogn < stress_input_33.txt\n",
        "!./max_pairwise_sort_nlogn < stress_input_34.txt\n",
        "!./max_pairwise_sort_nlogn < stress_input_35.txt\n",
        "!./max_pairwise_sort_nlogn < stress_input_36.txt\n",
        "!./max_pairwise_sort_nlogn < stress_input_37.txt\n",
        "!./max_pairwise_sort_nlogn < stress_input_38.txt\n",
        "!./max_pairwise_sort_nlogn < stress_input_39.txt\n",
        "!./max_pairwise_sort_nlogn < stress_input_40.txt\n",
        "\n",
        "!./max_pairwise_sort_nlogn < stress_input_41.txt\n",
        "!./max_pairwise_sort_nlogn < stress_input_42.txt\n",
        "!./max_pairwise_sort_nlogn < stress_input_43.txt\n",
        "!./max_pairwise_sort_nlogn < stress_input_44.txt\n",
        "!./max_pairwise_sort_nlogn < stress_input_45.txt\n",
        "!./max_pairwise_sort_nlogn < stress_input_46.txt\n",
        "!./max_pairwise_sort_nlogn < stress_input_47.txt\n",
        "!./max_pairwise_sort_nlogn < stress_input_48.txt\n",
        "!./max_pairwise_sort_nlogn < stress_input_49.txt\n",
        "!./max_pairwise_sort_nlogn < stress_input_50.txt\n",
        "\n",
        "!./max_pairwise_sort_nlogn < stress_input_51.txt\n",
        "!./max_pairwise_sort_nlogn < stress_input_52.txt\n",
        "!./max_pairwise_sort_nlogn < stress_input_53.txt\n",
        "!./max_pairwise_sort_nlogn < stress_input_54.txt\n",
        "!./max_pairwise_sort_nlogn < stress_input_55.txt\n",
        "!./max_pairwise_sort_nlogn < stress_input_56.txt\n",
        "!./max_pairwise_sort_nlogn < stress_input_57.txt\n",
        "!./max_pairwise_sort_nlogn < stress_input_58.txt\n",
        "!./max_pairwise_sort_nlogn < stress_input_59.txt\n",
        "!./max_pairwise_sort_nlogn < stress_input_60.txt\n",
        "\n",
        "!./max_pairwise_sort_nlogn < stress_input_61.txt\n",
        "!./max_pairwise_sort_nlogn < stress_input_62.txt\n",
        "!./max_pairwise_sort_nlogn < stress_input_63.txt\n",
        "!./max_pairwise_sort_nlogn < stress_input_64.txt\n",
        "!./max_pairwise_sort_nlogn < stress_input_65.txt\n",
        "!./max_pairwise_sort_nlogn < stress_input_66.txt\n",
        "!./max_pairwise_sort_nlogn < stress_input_67.txt\n",
        "!./max_pairwise_sort_nlogn < stress_input_68.txt\n",
        "!./max_pairwise_sort_nlogn < stress_input_69.txt\n",
        "!./max_pairwise_sort_nlogn < stress_input_70.txt\n",
        "\n",
        "!./max_pairwise_sort_nlogn < stress_input_71.txt\n",
        "!./max_pairwise_sort_nlogn < stress_input_72.txt\n",
        "!./max_pairwise_sort_nlogn < stress_input_73.txt\n",
        "!./max_pairwise_sort_nlogn < stress_input_74.txt\n",
        "!./max_pairwise_sort_nlogn < stress_input_75.txt\n",
        "!./max_pairwise_sort_nlogn < stress_input_76.txt\n",
        "!./max_pairwise_sort_nlogn < stress_input_77.txt\n",
        "!./max_pairwise_sort_nlogn < stress_input_78.txt\n",
        "!./max_pairwise_sort_nlogn < stress_input_79.txt\n",
        "!./max_pairwise_sort_nlogn < stress_input_80.txt\n",
        "\n",
        "!./max_pairwise_sort_nlogn < stress_input_81.txt\n",
        "!./max_pairwise_sort_nlogn < stress_input_82.txt\n",
        "!./max_pairwise_sort_nlogn < stress_input_83.txt\n",
        "!./max_pairwise_sort_nlogn < stress_input_84.txt\n",
        "!./max_pairwise_sort_nlogn < stress_input_85.txt\n",
        "!./max_pairwise_sort_nlogn < stress_input_86.txt\n",
        "!./max_pairwise_sort_nlogn < stress_input_87.txt\n",
        "!./max_pairwise_sort_nlogn < stress_input_88.txt\n",
        "!./max_pairwise_sort_nlogn < stress_input_89.txt\n",
        "!./max_pairwise_sort_nlogn < stress_input_90.txt\n",
        "\n",
        "!./max_pairwise_sort_nlogn < stress_input_91.txt\n",
        "!./max_pairwise_sort_nlogn < stress_input_92.txt\n",
        "!./max_pairwise_sort_nlogn < stress_input_93.txt\n",
        "!./max_pairwise_sort_nlogn < stress_input_94.txt\n",
        "!./max_pairwise_sort_nlogn < stress_input_95.txt\n",
        "!./max_pairwise_sort_nlogn < stress_input_96.txt\n",
        "!./max_pairwise_sort_nlogn < stress_input_97.txt\n",
        "!./max_pairwise_sort_nlogn < stress_input_98.txt\n",
        "!./max_pairwise_sort_nlogn < stress_input_99.txt\n",
        "!./max_pairwise_sort_nlogn < stress_input_100.txt"
      ]
    },
    {
      "cell_type": "markdown",
      "metadata": {
        "id": "sy33CNNfPxcE"
      },
      "source": [
        "### Super efficient solution in Python\n",
        "\n",
        "Whitout storing the list in memory and whitout calling a function, add in each line a coment with the number of intstrcution that are executed in that line"
      ]
    },
    {
      "cell_type": "code",
      "execution_count": null,
      "metadata": {
        "colab": {
          "base_uri": "https://localhost:8080/"
        },
        "id": "_mOjJwKrPxcJ",
        "outputId": "970a7e08-ca8a-4f3f-bf1f-4100e5b8fd35"
      },
      "outputs": [
        {
          "name": "stdout",
          "output_type": "stream",
          "text": [
            "Overwriting max_pairwise_sort_super_efficient.py\n"
          ]
        }
      ],
      "source": [
        "%%writefile max_pairwise_sort_super_efficient.py\n",
        "n = int(input())                            # 1\n",
        "max_number = float(\"-inf\")                  # 1\n",
        "second_max_number = float(\"-inf\")           # 1\n",
        "\n",
        "for num in input().split():                 # 3 + 2n\n",
        "\n",
        "    num = int(num)                          # n\n",
        "\n",
        "    if num > max_number:                    # n\n",
        "        second_max_number = max_number      # [0, n] in the worst case it would be n times\n",
        "        max_number = num                    # [0, n] in the worst case it would be n times\n",
        "    elif num > second_max_number:           # n\n",
        "        second_max_number = num             # [0, n] in the worst case it would be n times\n",
        "\n",
        "print(f\"n: {n} Product: {max_number * second_max_number}\")"
      ]
    },
    {
      "cell_type": "code",
      "execution_count": null,
      "metadata": {
        "colab": {
          "base_uri": "https://localhost:8080/"
        },
        "id": "1_mUee2cPxcJ",
        "outputId": "60a08a60-94e7-4c51-9b58-4679d1cd41dc"
      },
      "outputs": [
        {
          "name": "stdout",
          "output_type": "stream",
          "text": [
            "n: 28 Product: 9500\n",
            "n: 11 Product: 8170\n",
            "n: 4 Product: 5917\n",
            "n: 21 Product: 8366\n",
            "n: 40 Product: 9800\n",
            "n: 10 Product: 7654\n",
            "n: 26 Product: 9801\n",
            "n: 40 Product: 9506\n",
            "n: 36 Product: 9800\n",
            "n: 5 Product: 6862\n",
            "n: 3 Product: 528\n",
            "n: 10 Product: 8134\n",
            "n: 26 Product: 9118\n",
            "n: 10 Product: 6600\n",
            "n: 21 Product: 9009\n",
            "n: 8 Product: 8439\n",
            "n: 9 Product: 3900\n",
            "n: 16 Product: 6396\n",
            "n: 12 Product: 8827\n",
            "n: 24 Product: 9212\n",
            "n: 3 Product: 555\n",
            "n: 9 Product: 8188\n",
            "n: 7 Product: 6708\n",
            "n: 24 Product: 8099\n",
            "n: 23 Product: 9118\n",
            "n: 40 Product: 9312\n",
            "n: 36 Product: 9801\n",
            "n: 10 Product: 9500\n",
            "n: 13 Product: 8827\n",
            "n: 32 Product: 9120\n",
            "n: 36 Product: 9900\n",
            "n: 15 Product: 7544\n",
            "n: 33 Product: 9504\n",
            "n: 29 Product: 9114\n",
            "n: 22 Product: 8811\n",
            "n: 10 Product: 5727\n",
            "n: 36 Product: 9216\n",
            "n: 7 Product: 9700\n",
            "n: 31 Product: 6888\n",
            "n: 35 Product: 9604\n",
            "n: 39 Product: 9800\n",
            "n: 5 Product: 4760\n",
            "n: 28 Product: 9408\n",
            "n: 13 Product: 7326\n",
            "n: 36 Product: 9025\n",
            "n: 12 Product: 6364\n",
            "n: 22 Product: 8633\n",
            "n: 18 Product: 8342\n",
            "n: 39 Product: 10000\n",
            "n: 16 Product: 7968\n",
            "n: 30 Product: 9700\n",
            "n: 27 Product: 9120\n",
            "n: 39 Product: 9504\n",
            "n: 30 Product: 9603\n",
            "n: 24 Product: 9300\n",
            "n: 30 Product: 8265\n",
            "n: 14 Product: 9021\n",
            "n: 27 Product: 9603\n",
            "n: 4 Product: 7280\n",
            "n: 25 Product: 9118\n",
            "n: 28 Product: 9306\n",
            "n: 11 Product: 5688\n",
            "n: 8 Product: 5700\n",
            "n: 13 Product: 7308\n",
            "n: 12 Product: 5460\n",
            "n: 10 Product: 8277\n",
            "n: 22 Product: 9312\n",
            "n: 7 Product: 8722\n",
            "n: 34 Product: 8544\n",
            "n: 22 Product: 8448\n",
            "n: 7 Product: 4740\n",
            "n: 11 Product: 8835\n",
            "n: 13 Product: 8372\n",
            "n: 9 Product: 5040\n",
            "n: 34 Product: 9000\n",
            "n: 33 Product: 9600\n",
            "n: 19 Product: 9603\n",
            "n: 11 Product: 7209\n",
            "n: 7 Product: 7568\n",
            "n: 13 Product: 6391\n",
            "n: 11 Product: 7968\n",
            "n: 31 Product: 6970\n",
            "n: 28 Product: 9506\n",
            "n: 32 Product: 9603\n",
            "n: 12 Product: 6208\n",
            "n: 13 Product: 7280\n",
            "n: 22 Product: 8372\n",
            "n: 28 Product: 8352\n",
            "n: 10 Product: 8526\n",
            "n: 10 Product: 7050\n",
            "n: 24 Product: 7221\n",
            "n: 30 Product: 9900\n",
            "n: 6 Product: 6800\n",
            "n: 32 Product: 9215\n",
            "n: 22 Product: 8700\n",
            "n: 12 Product: 8134\n",
            "n: 4 Product: 1540\n",
            "n: 5 Product: 528\n",
            "n: 36 Product: 9800\n",
            "n: 37 Product: 9700\n",
            "CPU times: user 537 ms, sys: 101 ms, total: 638 ms\n",
            "Wall time: 10.6 s\n"
          ]
        }
      ],
      "source": [
        "%%time\n",
        "!python max_pairwise_sort_super_efficient.py < stress_input_1.txt\n",
        "!python max_pairwise_sort_super_efficient.py < stress_input_2.txt\n",
        "!python max_pairwise_sort_super_efficient.py < stress_input_3.txt\n",
        "!python max_pairwise_sort_super_efficient.py < stress_input_4.txt\n",
        "!python max_pairwise_sort_super_efficient.py < stress_input_5.txt\n",
        "!python max_pairwise_sort_super_efficient.py < stress_input_6.txt\n",
        "!python max_pairwise_sort_super_efficient.py < stress_input_7.txt\n",
        "!python max_pairwise_sort_super_efficient.py < stress_input_8.txt\n",
        "!python max_pairwise_sort_super_efficient.py < stress_input_9.txt\n",
        "!python max_pairwise_sort_super_efficient.py < stress_input_10.txt\n",
        "\n",
        "!python max_pairwise_sort_super_efficient.py < stress_input_11.txt\n",
        "!python max_pairwise_sort_super_efficient.py < stress_input_12.txt\n",
        "!python max_pairwise_sort_super_efficient.py < stress_input_13.txt\n",
        "!python max_pairwise_sort_super_efficient.py < stress_input_14.txt\n",
        "!python max_pairwise_sort_super_efficient.py < stress_input_15.txt\n",
        "!python max_pairwise_sort_super_efficient.py < stress_input_16.txt\n",
        "!python max_pairwise_sort_super_efficient.py < stress_input_17.txt\n",
        "!python max_pairwise_sort_super_efficient.py < stress_input_18.txt\n",
        "!python max_pairwise_sort_super_efficient.py < stress_input_19.txt\n",
        "!python max_pairwise_sort_super_efficient.py < stress_input_20.txt\n",
        "\n",
        "!python max_pairwise_sort_super_efficient.py < stress_input_21.txt\n",
        "!python max_pairwise_sort_super_efficient.py < stress_input_22.txt\n",
        "!python max_pairwise_sort_super_efficient.py < stress_input_23.txt\n",
        "!python max_pairwise_sort_super_efficient.py < stress_input_24.txt\n",
        "!python max_pairwise_sort_super_efficient.py < stress_input_25.txt\n",
        "!python max_pairwise_sort_super_efficient.py < stress_input_26.txt\n",
        "!python max_pairwise_sort_super_efficient.py < stress_input_27.txt\n",
        "!python max_pairwise_sort_super_efficient.py < stress_input_28.txt\n",
        "!python max_pairwise_sort_super_efficient.py < stress_input_29.txt\n",
        "!python max_pairwise_sort_super_efficient.py < stress_input_30.txt\n",
        "\n",
        "!python max_pairwise_sort_super_efficient.py < stress_input_31.txt\n",
        "!python max_pairwise_sort_super_efficient.py < stress_input_32.txt\n",
        "!python max_pairwise_sort_super_efficient.py < stress_input_33.txt\n",
        "!python max_pairwise_sort_super_efficient.py < stress_input_34.txt\n",
        "!python max_pairwise_sort_super_efficient.py < stress_input_35.txt\n",
        "!python max_pairwise_sort_super_efficient.py < stress_input_36.txt\n",
        "!python max_pairwise_sort_super_efficient.py < stress_input_37.txt\n",
        "!python max_pairwise_sort_super_efficient.py < stress_input_38.txt\n",
        "!python max_pairwise_sort_super_efficient.py < stress_input_39.txt\n",
        "!python max_pairwise_sort_super_efficient.py < stress_input_40.txt\n",
        "\n",
        "!python max_pairwise_sort_super_efficient.py < stress_input_41.txt\n",
        "!python max_pairwise_sort_super_efficient.py < stress_input_42.txt\n",
        "!python max_pairwise_sort_super_efficient.py < stress_input_43.txt\n",
        "!python max_pairwise_sort_super_efficient.py < stress_input_44.txt\n",
        "!python max_pairwise_sort_super_efficient.py < stress_input_45.txt\n",
        "!python max_pairwise_sort_super_efficient.py < stress_input_46.txt\n",
        "!python max_pairwise_sort_super_efficient.py < stress_input_47.txt\n",
        "!python max_pairwise_sort_super_efficient.py < stress_input_48.txt\n",
        "!python max_pairwise_sort_super_efficient.py < stress_input_49.txt\n",
        "!python max_pairwise_sort_super_efficient.py < stress_input_50.txt\n",
        "\n",
        "!python max_pairwise_sort_super_efficient.py < stress_input_51.txt\n",
        "!python max_pairwise_sort_super_efficient.py < stress_input_52.txt\n",
        "!python max_pairwise_sort_super_efficient.py < stress_input_53.txt\n",
        "!python max_pairwise_sort_super_efficient.py < stress_input_54.txt\n",
        "!python max_pairwise_sort_super_efficient.py < stress_input_55.txt\n",
        "!python max_pairwise_sort_super_efficient.py < stress_input_56.txt\n",
        "!python max_pairwise_sort_super_efficient.py < stress_input_57.txt\n",
        "!python max_pairwise_sort_super_efficient.py < stress_input_58.txt\n",
        "!python max_pairwise_sort_super_efficient.py < stress_input_59.txt\n",
        "!python max_pairwise_sort_super_efficient.py < stress_input_60.txt\n",
        "\n",
        "!python max_pairwise_sort_super_efficient.py < stress_input_61.txt\n",
        "!python max_pairwise_sort_super_efficient.py < stress_input_62.txt\n",
        "!python max_pairwise_sort_super_efficient.py < stress_input_63.txt\n",
        "!python max_pairwise_sort_super_efficient.py < stress_input_64.txt\n",
        "!python max_pairwise_sort_super_efficient.py < stress_input_65.txt\n",
        "!python max_pairwise_sort_super_efficient.py < stress_input_66.txt\n",
        "!python max_pairwise_sort_super_efficient.py < stress_input_67.txt\n",
        "!python max_pairwise_sort_super_efficient.py < stress_input_68.txt\n",
        "!python max_pairwise_sort_super_efficient.py < stress_input_69.txt\n",
        "!python max_pairwise_sort_super_efficient.py < stress_input_70.txt\n",
        "\n",
        "!python max_pairwise_sort_super_efficient.py < stress_input_71.txt\n",
        "!python max_pairwise_sort_super_efficient.py < stress_input_72.txt\n",
        "!python max_pairwise_sort_super_efficient.py < stress_input_73.txt\n",
        "!python max_pairwise_sort_super_efficient.py < stress_input_74.txt\n",
        "!python max_pairwise_sort_super_efficient.py < stress_input_75.txt\n",
        "!python max_pairwise_sort_super_efficient.py < stress_input_76.txt\n",
        "!python max_pairwise_sort_super_efficient.py < stress_input_77.txt\n",
        "!python max_pairwise_sort_super_efficient.py < stress_input_78.txt\n",
        "!python max_pairwise_sort_super_efficient.py < stress_input_79.txt\n",
        "!python max_pairwise_sort_super_efficient.py < stress_input_80.txt\n",
        "\n",
        "!python max_pairwise_sort_super_efficient.py < stress_input_81.txt\n",
        "!python max_pairwise_sort_super_efficient.py < stress_input_82.txt\n",
        "!python max_pairwise_sort_super_efficient.py < stress_input_83.txt\n",
        "!python max_pairwise_sort_super_efficient.py < stress_input_84.txt\n",
        "!python max_pairwise_sort_super_efficient.py < stress_input_85.txt\n",
        "!python max_pairwise_sort_super_efficient.py < stress_input_86.txt\n",
        "!python max_pairwise_sort_super_efficient.py < stress_input_87.txt\n",
        "!python max_pairwise_sort_super_efficient.py < stress_input_88.txt\n",
        "!python max_pairwise_sort_super_efficient.py < stress_input_89.txt\n",
        "!python max_pairwise_sort_super_efficient.py < stress_input_90.txt\n",
        "\n",
        "!python max_pairwise_sort_super_efficient.py < stress_input_91.txt\n",
        "!python max_pairwise_sort_super_efficient.py < stress_input_92.txt\n",
        "!python max_pairwise_sort_super_efficient.py < stress_input_93.txt\n",
        "!python max_pairwise_sort_super_efficient.py < stress_input_94.txt\n",
        "!python max_pairwise_sort_super_efficient.py < stress_input_95.txt\n",
        "!python max_pairwise_sort_super_efficient.py < stress_input_96.txt\n",
        "!python max_pairwise_sort_super_efficient.py < stress_input_97.txt\n",
        "!python max_pairwise_sort_super_efficient.py < stress_input_98.txt\n",
        "!python max_pairwise_sort_super_efficient.py < stress_input_99.txt\n",
        "!python max_pairwise_sort_super_efficient.py < stress_input_100.txt\n"
      ]
    },
    {
      "cell_type": "markdown",
      "metadata": {
        "id": "8Xb2DR78w9FH"
      },
      "source": [
        "## Sort solution (𝑇(𝑛)=𝑂(𝑛𝑙𝑛𝑔))"
      ]
    },
    {
      "cell_type": "code",
      "execution_count": null,
      "metadata": {
        "colab": {
          "background_save": true
        },
        "id": "RGwuYpKrw6pG",
        "outputId": "98f0aedf-41e1-4444-fd35-22a160c73bba"
      },
      "outputs": [
        {
          "name": "stdout",
          "output_type": "stream",
          "text": [
            "Overwriting max_pairwise_sort_nlogn.py\n"
          ]
        }
      ],
      "source": [
        "%%writefile max_pairwise_sort_nlogn.py\n",
        "# Read input values\n",
        "n = int(input())              # 1\n",
        "numbers = list(map(int, input().split()))  # n\n",
        "\n",
        "# Sort the list\n",
        "numbers.sort()                # n*log(n)\n",
        "\n",
        "# Calculate the maximum pairwise product\n",
        "result = numbers[-1] * numbers[-2]  # 1\n",
        "\n",
        "# Print the result\n",
        "print(f\"n: {n} Product: {result}\")\n"
      ]
    },
    {
      "cell_type": "code",
      "execution_count": null,
      "metadata": {
        "id": "7n8Tsht9xEc3"
      },
      "outputs": [],
      "source": [
        "%%time\n",
        "!python max_pairwise_sort_nlogn.py < stress_input_1.txt\n",
        "!python max_pairwise_sort_nlogn.py < stress_input_2.txt\n",
        "!python max_pairwise_sort_nlogn.py < stress_input_3.txt\n",
        "!python max_pairwise_sort_nlogn.py < stress_input_4.txt\n",
        "!python max_pairwise_sort_nlogn.py < stress_input_5.txt\n",
        "!python max_pairwise_sort_nlogn.py < stress_input_6.txt\n",
        "!python max_pairwise_sort_nlogn.py < stress_input_7.txt\n",
        "!python max_pairwise_sort_nlogn.py < stress_input_8.txt\n",
        "!python max_pairwise_sort_nlogn.py < stress_input_9.txt\n",
        "!python max_pairwise_sort_nlogn.py < stress_input_10.txt\n",
        "\n",
        "!python max_pairwise_sort_nlogn.py < stress_input_11.txt\n",
        "!python max_pairwise_sort_nlogn.py < stress_input_12.txt\n",
        "!python max_pairwise_sort_nlogn.py < stress_input_13.txt\n",
        "!python max_pairwise_sort_nlogn.py < stress_input_14.txt\n",
        "!python max_pairwise_sort_nlogn.py < stress_input_15.txt\n",
        "!python max_pairwise_sort_nlogn.py < stress_input_16.txt\n",
        "!python max_pairwise_sort_nlogn.py < stress_input_17.txt\n",
        "!python max_pairwise_sort_nlogn.py < stress_input_18.txt\n",
        "!python max_pairwise_sort_nlogn.py < stress_input_19.txt\n",
        "!python max_pairwise_sort_nlogn.py < stress_input_20.txt\n",
        "\n",
        "!python max_pairwise_sort_nlogn.py < stress_input_21.txt\n",
        "!python max_pairwise_sort_nlogn.py < stress_input_22.txt\n",
        "!python max_pairwise_sort_nlogn.py < stress_input_23.txt\n",
        "!python max_pairwise_sort_nlogn.py < stress_input_24.txt\n",
        "!python max_pairwise_sort_nlogn.py < stress_input_25.txt\n",
        "!python max_pairwise_sort_nlogn.py < stress_input_26.txt\n",
        "!python max_pairwise_sort_nlogn.py < stress_input_27.txt\n",
        "!python max_pairwise_sort_nlogn.py < stress_input_28.txt\n",
        "!python max_pairwise_sort_nlogn.py < stress_input_29.txt\n",
        "!python max_pairwise_sort_nlogn.py < stress_input_30.txt\n",
        "\n",
        "!python max_pairwise_sort_nlogn.py < stress_input_31.txt\n",
        "!python max_pairwise_sort_nlogn.py < stress_input_32.txt\n",
        "!python max_pairwise_sort_nlogn.py < stress_input_33.txt\n",
        "!python max_pairwise_sort_nlogn.py < stress_input_34.txt\n",
        "!python max_pairwise_sort_nlogn.py < stress_input_35.txt\n",
        "!python max_pairwise_sort_nlogn.py < stress_input_36.txt\n",
        "!python max_pairwise_sort_nlogn.py < stress_input_37.txt\n",
        "!python max_pairwise_sort_nlogn.py < stress_input_38.txt\n",
        "!python max_pairwise_sort_nlogn.py < stress_input_39.txt\n",
        "!python max_pairwise_sort_nlogn.py < stress_input_40.txt\n",
        "\n",
        "!python max_pairwise_sort_nlogn.py < stress_input_41.txt\n",
        "!python max_pairwise_sort_nlogn.py < stress_input_42.txt\n",
        "!python max_pairwise_sort_nlogn.py < stress_input_43.txt\n",
        "!python max_pairwise_sort_nlogn.py < stress_input_44.txt\n",
        "!python max_pairwise_sort_nlogn.py < stress_input_45.txt\n",
        "!python max_pairwise_sort_nlogn.py < stress_input_46.txt\n",
        "!python max_pairwise_sort_nlogn.py < stress_input_47.txt\n",
        "!python max_pairwise_sort_nlogn.py < stress_input_48.txt\n",
        "!python max_pairwise_sort_nlogn.py < stress_input_49.txt\n",
        "!python max_pairwise_sort_nlogn.py < stress_input_50.txt\n",
        "\n",
        "!python max_pairwise_sort_nlogn.py < stress_input_51.txt\n",
        "!python max_pairwise_sort_nlogn.py < stress_input_52.txt\n",
        "!python max_pairwise_sort_nlogn.py < stress_input_53.txt\n",
        "!python max_pairwise_sort_nlogn.py < stress_input_54.txt\n",
        "!python max_pairwise_sort_nlogn.py < stress_input_55.txt\n",
        "!python max_pairwise_sort_nlogn.py < stress_input_56.txt\n",
        "!python max_pairwise_sort_nlogn.py < stress_input_57.txt\n",
        "!python max_pairwise_sort_nlogn.py < stress_input_58.txt\n",
        "!python max_pairwise_sort_nlogn.py < stress_input_59.txt\n",
        "!python max_pairwise_sort_nlogn.py < stress_input_60.txt\n",
        "\n",
        "!python max_pairwise_sort_nlogn.py < stress_input_61.txt\n",
        "!python max_pairwise_sort_nlogn.py < stress_input_62.txt\n",
        "!python max_pairwise_sort_nlogn.py < stress_input_63.txt\n",
        "!python max_pairwise_sort_nlogn.py < stress_input_64.txt\n",
        "!python max_pairwise_sort_nlogn.py < stress_input_65.txt\n",
        "!python max_pairwise_sort_nlogn.py < stress_input_66.txt\n",
        "!python max_pairwise_sort_nlogn.py < stress_input_67.txt\n",
        "!python max_pairwise_sort_nlogn.py < stress_input_68.txt\n",
        "!python max_pairwise_sort_nlogn.py < stress_input_69.txt\n",
        "!python max_pairwise_sort_nlogn.py < stress_input_70.txt\n",
        "\n",
        "!python max_pairwise_sort_nlogn.py < stress_input_71.txt\n",
        "!python max_pairwise_sort_nlogn.py < stress_input_72.txt\n",
        "!python max_pairwise_sort_nlogn.py < stress_input_73.txt\n",
        "!python max_pairwise_sort_nlogn.py < stress_input_74.txt\n",
        "!python max_pairwise_sort_nlogn.py < stress_input_75.txt\n",
        "!python max_pairwise_sort_nlogn.py < stress_input_76.txt\n",
        "!python max_pairwise_sort_nlogn.py < stress_input_77.txt\n",
        "!python max_pairwise_sort_nlogn.py < stress_input_78.txt\n",
        "!python max_pairwise_sort_nlogn.py < stress_input_79.txt\n",
        "!python max_pairwise_sort_nlogn.py < stress_input_80.txt\n",
        "\n",
        "!python max_pairwise_sort_nlogn.py < stress_input_81.txt\n",
        "!python max_pairwise_sort_nlogn.py < stress_input_82.txt\n",
        "!python max_pairwise_sort_nlogn.py < stress_input_83.txt\n",
        "!python max_pairwise_sort_nlogn.py < stress_input_84.txt\n",
        "!python max_pairwise_sort_nlogn.py < stress_input_85.txt\n",
        "!python max_pairwise_sort_nlogn.py < stress_input_86.txt\n",
        "!python max_pairwise_sort_nlogn.py < stress_input_87.txt\n",
        "!python max_pairwise_sort_nlogn.py < stress_input_88.txt\n",
        "!python max_pairwise_sort_nlogn.py < stress_input_89.txt\n",
        "!python max_pairwise_sort_nlogn.py < stress_input_90.txt\n",
        "\n",
        "!python max_pairwise_sort_nlogn.py < stress_input_91.txt\n",
        "!python max_pairwise_sort_nlogn.py < stress_input_92.txt\n",
        "!python max_pairwise_sort_nlogn.py < stress_input_93.txt\n",
        "!python max_pairwise_sort_nlogn.py < stress_input_94.txt\n",
        "!python max_pairwise_sort_nlogn.py < stress_input_95.txt\n",
        "!python max_pairwise_sort_nlogn.py < stress_input_96.txt\n",
        "!python max_pairwise_sort_nlogn.py < stress_input_97.txt\n",
        "!python max_pairwise_sort_nlogn.py < stress_input_98.txt\n",
        "!python max_pairwise_sort_nlogn.py < stress_input_99.txt\n",
        "!python max_pairwise_sort_nlogn.py < stress_input_100.txt"
      ]
    },
    {
      "cell_type": "markdown",
      "metadata": {
        "id": "I2OoSxn5xJPI"
      },
      "source": [
        "Resultados"
      ]
    },
    {
      "cell_type": "code",
      "execution_count": null,
      "metadata": {
        "id": "rgo75HuCxK37"
      },
      "outputs": [],
      "source": [
        "# Import the Pandas library\n",
        "import pandas as pd\n",
        "\n",
        "# Create a sample DataFrame\n",
        "data = {'Language': ['C++', 'Python'],\n",
        "        'Super effienct (ms)': [539, 516],\n",
        "        'Sort solution (ms)': [542, 485]}\n",
        "\n",
        "df = pd.DataFrame(data)\n",
        "\n",
        "# Display the table\n",
        "display(df)\n"
      ]
    }
  ],
  "metadata": {
    "colab": {
      "provenance": [],
      "include_colab_link": true
    },
    "kernelspec": {
      "display_name": "Python 3",
      "name": "python3"
    },
    "language_info": {
      "name": "python"
    }
  },
  "nbformat": 4,
  "nbformat_minor": 0
}
